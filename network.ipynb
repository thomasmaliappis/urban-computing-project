{
 "cells": [
  {
   "cell_type": "markdown",
   "source": [
    "# Imports"
   ],
   "metadata": {
    "id": "dkuM4OJ-VRpO",
    "pycharm": {
     "name": "#%% md\n"
    }
   },
   "id": "dkuM4OJ-VRpO"
  },
  {
   "cell_type": "code",
   "execution_count": 1,
   "metadata": {
    "id": "8cfc2c03",
    "pycharm": {
     "name": "#%%\n"
    }
   },
   "outputs": [],
   "source": [
    "import random\n",
    "import pandas as pd\n",
    "import numpy as np\n",
    "\n",
    "from keras.models import Model\n",
    "from keras.layers import Conv2D, MaxPooling2D, Flatten, Dropout, Dense, concatenate, Input\n",
    "from tensorflow import keras\n",
    "from sklearn.model_selection import train_test_split"
   ],
   "id": "8cfc2c03"
  },
  {
   "cell_type": "markdown",
   "source": [
    "# Connect drive"
   ],
   "metadata": {
    "id": "i5kUYRaVVQo4",
    "pycharm": {
     "name": "#%% md\n"
    }
   },
   "id": "i5kUYRaVVQo4"
  },
  {
   "cell_type": "code",
   "execution_count": 3,
   "metadata": {
    "colab": {
     "base_uri": "https://localhost:8080/"
    },
    "id": "um8ONWeYU9FG",
    "outputId": "704d5734-3b63-4c85-a9d0-c997b0b04b44",
    "pycharm": {
     "name": "#%%\n"
    }
   },
   "outputs": [
    {
     "output_type": "stream",
     "name": "stdout",
     "text": [
      "Mounted at /content/drive/\n"
     ]
    }
   ],
   "source": [
    "# from google.colab import drive\n",
    "#\n",
    "# drive.mount('/content/drive/', force_remount=True)"
   ],
   "id": "um8ONWeYU9FG"
  },
  {
   "cell_type": "markdown",
   "source": [
    "# Dataset"
   ],
   "metadata": {
    "id": "VmCK-KRRVXze",
    "pycharm": {
     "name": "#%% md\n"
    }
   },
   "id": "VmCK-KRRVXze"
  },
  {
   "cell_type": "code",
   "execution_count": 2,
   "metadata": {
    "id": "6217fce5",
    "pycharm": {
     "name": "#%%\n"
    }
   },
   "outputs": [],
   "source": [
    "# path_images=\"/content/drive/My Drive/uc project/images.npz\"\n",
    "path_images='./images.npz'\n",
    "dict_image_data = np.load(path_images)\n",
    "image_data = dict_image_data['arr_0']\n",
    "\n",
    "# path_cities=\"/content/drive/My Drive/uc project/cities.npz\"\n",
    "path_cities='./cities.npz'\n",
    "dict_city_data = np.load(path_cities)\n",
    "city_data = dict_city_data['arr_0']\n",
    "\n",
    "# path_class=\"/content/drive/My Drive/uc project/classes.npz\"\n",
    "path_class='./classes.npz'\n",
    "dict_class_data = np.load(path_class)\n",
    "class_data = dict_class_data['arr_0']"
   ],
   "id": "6217fce5"
  },
  {
   "cell_type": "markdown",
   "source": [
    "Set number of data to use from each city and class"
   ],
   "metadata": {
    "id": "VCQ3RE7aV0u8",
    "pycharm": {
     "name": "#%% md\n"
    }
   },
   "id": "VCQ3RE7aV0u8"
  },
  {
   "cell_type": "code",
   "source": [
    "n = 10"
   ],
   "metadata": {
    "id": "4l0IKiqzdhS_",
    "pycharm": {
     "name": "#%%\n"
    }
   },
   "id": "4l0IKiqzdhS_",
   "execution_count": 3,
   "outputs": []
  },
  {
   "cell_type": "code",
   "source": [
    "city_df = pd.DataFrame(city_data, columns = ['city'])\n",
    "minmax = {}\n",
    "for city in list(city_df['city'].value_counts().index):\n",
    "  minmax[city] = {\n",
    "      'min': city_df[city_df['city'] == city].index[0],\n",
    "      'max': city_df[city_df['city'] == city].index[-1]\n",
    "  }\n",
    "city_indices = np.concatenate([random.sample(range(mm['min'], mm['max']), n) for mm in minmax.values()])"
   ],
   "metadata": {
    "id": "Cd9yfhEthm-n",
    "pycharm": {
     "name": "#%%\n"
    }
   },
   "id": "Cd9yfhEthm-n",
   "execution_count": 4,
   "outputs": []
  },
  {
   "cell_type": "code",
   "source": [
    "class_df = pd.DataFrame(class_data, columns = ['class'])\n",
    "minmax = {}\n",
    "for label in list(class_df['class'].value_counts().index):\n",
    "  minmax[label] = {\n",
    "      'min': class_df[class_df['class'] == label].index[0],\n",
    "      'max': class_df[class_df['class'] == label].index[-1]\n",
    "  }\n",
    "class_indices = np.concatenate([random.sample(range(mm['min'], mm['max']), n) for mm in minmax.values()])"
   ],
   "metadata": {
    "id": "iACd0ODz1wr_",
    "pycharm": {
     "name": "#%%\n"
    }
   },
   "id": "iACd0ODz1wr_",
   "execution_count": 5,
   "outputs": []
  },
  {
   "cell_type": "markdown",
   "source": [
    "Get subset of data"
   ],
   "metadata": {
    "id": "jH37I56SWQgB",
    "pycharm": {
     "name": "#%% md\n"
    }
   },
   "id": "jH37I56SWQgB"
  },
  {
   "cell_type": "code",
   "source": [
    "indices = np.concatenate([city_indices, class_indices])\n",
    "city_data = city_data[indices]\n",
    "class_data = class_data[indices]"
   ],
   "metadata": {
    "id": "bG_sBDiiRBSL",
    "pycharm": {
     "name": "#%%\n"
    }
   },
   "id": "bG_sBDiiRBSL",
   "execution_count": 6,
   "outputs": []
  },
  {
   "cell_type": "code",
   "execution_count": 7,
   "metadata": {
    "id": "b26d7e81",
    "pycharm": {
     "name": "#%%\n"
    }
   },
   "outputs": [],
   "source": [
    "# all 512 images resized to 128\n",
    "data_512 = image_data[:,0][indices]\n",
    "# all 512 images cropped to 256 images and resized to 128\n",
    "data_256 = image_data[:,1][indices]\n",
    "# all 512 images cropped to 128 images\n",
    "data_128 = image_data[:,2][indices]"
   ],
   "id": "b26d7e81"
  },
  {
   "cell_type": "code",
   "execution_count": 8,
   "metadata": {
    "colab": {
     "base_uri": "https://localhost:8080/"
    },
    "id": "1d4ea8ab",
    "outputId": "898e0e5f-d208-4080-f3ec-d762afdda531",
    "pycharm": {
     "name": "#%%\n"
    }
   },
   "outputs": [
    {
     "data": {
      "text/plain": "((230,), (230, 128, 128, 3), (230, 128, 128, 3))"
     },
     "execution_count": 8,
     "metadata": {},
     "output_type": "execute_result"
    }
   ],
   "source": [
    "city_data.shape, data_512.shape, data_512.shape"
   ],
   "id": "1d4ea8ab"
  },
  {
   "cell_type": "markdown",
   "metadata": {
    "id": "a8e17fa0",
    "pycharm": {
     "name": "#%% md\n"
    }
   },
   "source": [
    "Tranforming labels to onehot encoding"
   ],
   "id": "a8e17fa0"
  },
  {
   "cell_type": "code",
   "execution_count": 9,
   "metadata": {
    "id": "397d73e7",
    "pycharm": {
     "name": "#%%\n"
    }
   },
   "outputs": [],
   "source": [
    "from sklearn.preprocessing import LabelBinarizer\n",
    "label_as_binary = LabelBinarizer()\n",
    "\n",
    "train_y_labels_city = label_as_binary.fit_transform(city_data)\n",
    "train_y_labels_class = label_as_binary.fit_transform(class_data)"
   ],
   "id": "397d73e7"
  },
  {
   "cell_type": "markdown",
   "metadata": {
    "id": "09f1a6b7",
    "pycharm": {
     "name": "#%% md\n"
    }
   },
   "source": [
    "Split train and test data\n"
   ],
   "id": "09f1a6b7"
  },
  {
   "cell_type": "code",
   "execution_count": 10,
   "metadata": {
    "id": "71bca9c0",
    "pycharm": {
     "name": "#%%\n"
    }
   },
   "outputs": [],
   "source": [
    "#City\n",
    "train_X_512_ci,valid_X_512_ci,train_label_512_ci,valid_label_512_ci = train_test_split(data_512, train_y_labels_city, test_size=0.3)\n",
    "train_X_256_ci,valid_X_256_ci,train_label_256_ci,valid_label_256_ci = train_test_split(data_256, train_y_labels_city, test_size=0.3)\n",
    "train_X_128_ci,valid_X_128_ci,train_label_128_ci,valid_label_128_ci = train_test_split(data_128, train_y_labels_city, test_size=0.3)\n",
    "\n",
    "\n",
    "#Class\n",
    "train_X_512_cl,valid_X_512_cl,train_label_512_cl,valid_label_512_cl = train_test_split(data_512, train_y_labels_class, test_size=0.3)\n",
    "train_X_256_cl,valid_X_256_cl,train_label_256_cl,valid_label_256_cl = train_test_split(data_256, train_y_labels_class, test_size=0.3)\n",
    "train_X_128_cl,valid_X_128_cl,train_label_128_cl,valid_label_128_cl = train_test_split(data_128, train_y_labels_class, test_size=0.3)"
   ],
   "id": "71bca9c0"
  },
  {
   "cell_type": "code",
   "execution_count": 11,
   "metadata": {
    "id": "04aa216e",
    "pycharm": {
     "name": "#%%\n"
    }
   },
   "outputs": [],
   "source": [
    "x_train_comp = np.stack([data_512,data_256,data_128], axis=1)\n",
    "\n",
    "x_train_city, x_test_city, y_train_city, y_test_city = train_test_split(x_train_comp, train_y_labels_city, test_size = 0.3)\n",
    "x_train_class, x_test_claa, y_train_class, y_test_class = train_test_split(x_train_comp, train_y_labels_class, test_size = 0.3)"
   ],
   "id": "04aa216e"
  },
  {
   "cell_type": "markdown",
   "source": [
    "# Network"
   ],
   "metadata": {
    "id": "T-4yLz0MTaXC",
    "pycharm": {
     "name": "#%% md\n"
    }
   },
   "id": "T-4yLz0MTaXC"
  },
  {
   "cell_type": "code",
   "source": [
    "def basic_model(input_name, standalone=False):\n",
    "  model_input = Input(shape=(128, 128, 3), name=input_name)\n",
    "  conv2d1 = Conv2D(filters=32, kernel_size=(3,3), padding='same',activation='relu')(model_input)\n",
    "  pool1 = MaxPooling2D((2,2))(conv2d1)\n",
    "  drop1 = Dropout(0.1)(pool1)\n",
    "  conv2d2 = Conv2D(filters=32, kernel_size=(3,3),activation='relu')(drop1)\n",
    "  pool2 = MaxPooling2D((2,2))(conv2d2)\n",
    "  drop2 = Dropout(0.1)(pool2)\n",
    "  flat = Flatten()(drop2)\n",
    "  dense = Dense(1024, activation='relu')(flat)\n",
    "  if standalone:\n",
    "    drop = Dropout(0.2)(dense)\n",
    "    output = Dense(5, activation='softmax')(drop)\n",
    "    return Model(inputs=[model_input], outputs=[output])\n",
    "  else:\n",
    "    output = Dropout(0.2)(dense)\n",
    "    return model_input, output"
   ],
   "metadata": {
    "id": "fGLOd5UQNjJf",
    "pycharm": {
     "name": "#%%\n"
    }
   },
   "id": "fGLOd5UQNjJf",
   "execution_count": 12,
   "outputs": []
  },
  {
   "cell_type": "markdown",
   "metadata": {
    "id": "621d513b",
    "pycharm": {
     "name": "#%% md\n"
    }
   },
   "source": [
    "## Basic model"
   ],
   "id": "621d513b"
  },
  {
   "cell_type": "code",
   "execution_count": 13,
   "metadata": {
    "id": "415874dd",
    "pycharm": {
     "name": "#%%\n"
    }
   },
   "outputs": [],
   "source": [
    "model = basic_model('main_input', standalone=True)\n",
    "model.compile(optimizer='adam', loss='categorical_crossentropy', metrics=['accuracy'])"
   ],
   "id": "415874dd"
  },
  {
   "cell_type": "code",
   "execution_count": 14,
   "metadata": {
    "id": "f0cdac61",
    "colab": {
     "base_uri": "https://localhost:8080/"
    },
    "outputId": "1377d0bb-44bc-460c-a64b-71566ad03bb6",
    "pycharm": {
     "name": "#%%\n"
    }
   },
   "outputs": [
    {
     "name": "stdout",
     "output_type": "stream",
     "text": [
      "230/230 [==============================] - 25s 102ms/step - loss: 43.9760 - accuracy: 0.2783\n"
     ]
    },
    {
     "data": {
      "text/plain": "<keras.callbacks.History at 0x1e88c952100>"
     },
     "execution_count": 14,
     "metadata": {},
     "output_type": "execute_result"
    }
   ],
   "source": [
    "model.fit(data_512, train_y_labels_city, batch_size=1, epochs=1)"
   ],
   "id": "f0cdac61"
  },
  {
   "cell_type": "markdown",
   "metadata": {
    "id": "99e85913",
    "pycharm": {
     "name": "#%% md\n"
    }
   },
   "source": [
    "## Final model\n",
    "\n",
    "Three inputs\n",
    "  1. e128\n",
    "  1. e256\n",
    "  1. e512\n",
    "\n",
    "Two outputs\n",
    "  1. city\n",
    "  1. class"
   ],
   "id": "99e85913"
  },
  {
   "cell_type": "markdown",
   "source": [
    "Create the three basic input models"
   ],
   "metadata": {
    "id": "OJyJFUdaUY5C",
    "pycharm": {
     "name": "#%% md\n"
    }
   },
   "id": "OJyJFUdaUY5C"
  },
  {
   "cell_type": "code",
   "execution_count": 15,
   "metadata": {
    "id": "1543b142",
    "pycharm": {
     "name": "#%%\n"
    }
   },
   "outputs": [],
   "source": [
    "e128_input, e128_output = basic_model('e128_input')\n",
    "e256_input, e256_output = basic_model('e256_input')\n",
    "e512_input, e512_output = basic_model('e512_input')"
   ],
   "id": "1543b142"
  },
  {
   "cell_type": "markdown",
   "metadata": {
    "id": "5076bea0",
    "pycharm": {
     "name": "#%% md\n"
    }
   },
   "source": [
    "Concatenating outputs of three models"
   ],
   "id": "5076bea0"
  },
  {
   "cell_type": "code",
   "execution_count": 16,
   "metadata": {
    "id": "87aff582",
    "pycharm": {
     "name": "#%%\n"
    }
   },
   "outputs": [],
   "source": [
    "merged = concatenate([e128_output, e256_output, e512_output])"
   ],
   "id": "87aff582"
  },
  {
   "cell_type": "markdown",
   "source": [
    "Defining the outputs"
   ],
   "metadata": {
    "id": "qnv3hCXuUjd_",
    "pycharm": {
     "name": "#%% md\n"
    }
   },
   "id": "qnv3hCXuUjd_"
  },
  {
   "cell_type": "code",
   "execution_count": 17,
   "metadata": {
    "id": "89974d5f",
    "pycharm": {
     "name": "#%%\n"
    }
   },
   "outputs": [],
   "source": [
    "#City\n",
    "merged_hidden = Dense(2048, activation='softmax')(merged)\n",
    "merged_drop = Dropout(0.1)(merged_hidden)\n",
    "city_output = Dense(len(np.unique(city_data)), activation='softmax', name='city_output')(merged_drop)\n",
    "\n",
    "#Class\n",
    "merged_hidden = Dense(2048, activation='softmax')(merged)\n",
    "merged_drop = Dropout(0.1)(merged_hidden)\n",
    "class_output = Dense(len(np.unique(class_data)), activation='softmax', name='class_output')(merged_drop)"
   ],
   "id": "89974d5f"
  },
  {
   "cell_type": "code",
   "execution_count": 18,
   "metadata": {
    "id": "4c57546c",
    "pycharm": {
     "name": "#%%\n"
    }
   },
   "outputs": [],
   "source": [
    "model = Model(inputs=[e128_input, e256_input, e512_input], outputs=[city_output, class_output])\n",
    "optimizer = keras.optimizers.Adam(learning_rate=0.0004)\n",
    "model.compile(loss='categorical_crossentropy', optimizer=optimizer, metrics=['accuracy'])"
   ],
   "id": "4c57546c"
  },
  {
   "cell_type": "markdown",
   "source": [
    "Training model"
   ],
   "metadata": {
    "id": "YKc8aaqyUqqQ",
    "pycharm": {
     "name": "#%% md\n"
    }
   },
   "id": "YKc8aaqyUqqQ"
  },
  {
   "cell_type": "code",
   "execution_count": 19,
   "metadata": {
    "id": "55e79ff7",
    "colab": {
     "base_uri": "https://localhost:8080/"
    },
    "outputId": "183bf687-982e-446e-fc06-6b40fbce2a6d",
    "pycharm": {
     "name": "#%%\n"
    }
   },
   "outputs": [
    {
     "name": "stdout",
     "output_type": "stream",
     "text": [
      "Epoch 1/10\n",
      "230/230 [==============================] - 76s 323ms/step - loss: 4.2870 - city_output_loss: 1.6096 - class_output_loss: 2.6773 - city_output_accuracy: 0.2348 - class_output_accuracy: 0.2478\n",
      "Epoch 2/10\n",
      "230/230 [==============================] - 83s 363ms/step - loss: 4.2230 - city_output_loss: 1.6042 - class_output_loss: 2.6188 - city_output_accuracy: 0.2391 - class_output_accuracy: 0.3087\n",
      "Epoch 3/10\n",
      "230/230 [==============================] - 65s 283ms/step - loss: 4.1680 - city_output_loss: 1.6025 - class_output_loss: 2.5656 - city_output_accuracy: 0.2304 - class_output_accuracy: 0.3087\n",
      "Epoch 4/10\n",
      "230/230 [==============================] - 89s 386ms/step - loss: 4.1170 - city_output_loss: 1.6011 - class_output_loss: 2.5159 - city_output_accuracy: 0.2435 - class_output_accuracy: 0.3087\n",
      "Epoch 5/10\n",
      "230/230 [==============================] - 87s 377ms/step - loss: 4.0726 - city_output_loss: 1.5974 - class_output_loss: 2.4752 - city_output_accuracy: 0.2391 - class_output_accuracy: 0.3087\n",
      "Epoch 6/10\n",
      "230/230 [==============================] - 85s 369ms/step - loss: 4.0427 - city_output_loss: 1.5986 - class_output_loss: 2.4441 - city_output_accuracy: 0.2304 - class_output_accuracy: 0.3087\n",
      "Epoch 7/10\n",
      "230/230 [==============================] - 82s 358ms/step - loss: 3.9975 - city_output_loss: 1.5965 - class_output_loss: 2.4010 - city_output_accuracy: 0.2261 - class_output_accuracy: 0.3087\n",
      "Epoch 8/10\n",
      "230/230 [==============================] - 83s 362ms/step - loss: 3.9558 - city_output_loss: 1.5943 - class_output_loss: 2.3615 - city_output_accuracy: 0.1870 - class_output_accuracy: 0.3087\n",
      "Epoch 9/10\n",
      "230/230 [==============================] - 86s 375ms/step - loss: 3.9235 - city_output_loss: 1.5921 - class_output_loss: 2.3315 - city_output_accuracy: 0.2348 - class_output_accuracy: 0.3087\n",
      "Epoch 10/10\n",
      "230/230 [==============================] - 83s 363ms/step - loss: 3.9006 - city_output_loss: 1.5917 - class_output_loss: 2.3089 - city_output_accuracy: 0.2522 - class_output_accuracy: 0.3087\n"
     ]
    },
    {
     "data": {
      "text/plain": "<keras.callbacks.History at 0x1e895415d30>"
     },
     "execution_count": 19,
     "metadata": {},
     "output_type": "execute_result"
    }
   ],
   "source": [
    "model.fit({'e128_input': data_128, 'e256_input': data_256, 'e512_input': data_512}, {'city_output': train_y_labels_city, 'class_output': train_y_labels_class}, batch_size=1, epochs=10)"
   ],
   "id": "55e79ff7"
  }
 ],
 "metadata": {
  "colab": {
   "provenance": [],
   "machine_shape": "hm"
  },
  "kernelspec": {
   "name": "python3",
   "language": "python",
   "display_name": "Python 3 (ipykernel)"
  },
  "language_info": {
   "codemirror_mode": {
    "name": "ipython",
    "version": 3
   },
   "file_extension": ".py",
   "mimetype": "text/x-python",
   "name": "python",
   "nbconvert_exporter": "python",
   "pygments_lexer": "ipython3",
   "version": "3.8.8"
  },
  "accelerator": "GPU",
  "gpuClass": "standard"
 },
 "nbformat": 4,
 "nbformat_minor": 5
}