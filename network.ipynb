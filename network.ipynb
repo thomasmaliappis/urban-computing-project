{
  "cells": [
    {
      "cell_type": "markdown",
      "metadata": {
        "id": "dkuM4OJ-VRpO"
      },
      "source": [
        "# Imports"
      ],
      "id": "dkuM4OJ-VRpO"
    },
    {
      "cell_type": "code",
      "execution_count": 1,
      "metadata": {
        "id": "8cfc2c03"
      },
      "outputs": [],
      "source": [
        "import random\n",
        "import pandas as pd\n",
        "import numpy as np\n",
        "import tensorflow as tf\n",
        "\n",
        "from keras.models import Model\n",
        "from keras.layers import Conv2D, MaxPooling2D, Flatten, Dropout, Dense, concatenate, Input, BatchNormalization\n",
        "from tensorflow import keras\n",
        "from sklearn.model_selection import train_test_split"
      ],
      "id": "8cfc2c03"
    },
    {
      "cell_type": "markdown",
      "metadata": {
        "id": "i5kUYRaVVQo4"
      },
      "source": [
        "# Connect drive"
      ],
      "id": "i5kUYRaVVQo4"
    },
    {
      "cell_type": "code",
      "execution_count": 2,
      "metadata": {
        "colab": {
          "base_uri": "https://localhost:8080/"
        },
        "id": "um8ONWeYU9FG",
        "outputId": "f34535fb-902e-4747-f79b-cd7092ea045d"
      },
      "outputs": [
        {
          "output_type": "stream",
          "name": "stdout",
          "text": [
            "Mounted at /content/drive/\n"
          ]
        }
      ],
      "source": [
        "from google.colab import drive\n",
        "\n",
        "drive.mount('/content/drive/', force_remount=True)"
      ],
      "id": "um8ONWeYU9FG"
    },
    {
      "cell_type": "markdown",
      "metadata": {
        "id": "VmCK-KRRVXze"
      },
      "source": [
        "# Dataset"
      ],
      "id": "VmCK-KRRVXze"
    },
    {
      "cell_type": "code",
      "execution_count": 3,
      "metadata": {
        "id": "6217fce5"
      },
      "outputs": [],
      "source": [
        "path_images=\"/content/drive/My Drive/uc project/images.npz\"\n",
        "dict_image_data = np.load(path_images)\n",
        "image_data = dict_image_data['arr_0']"
      ],
      "id": "6217fce5"
    },
    {
      "cell_type": "code",
      "execution_count": 4,
      "metadata": {
        "id": "uS4Pd8B8n36z"
      },
      "outputs": [],
      "source": [
        "path_cities=\"/content/drive/My Drive/uc project/cities.npz\"\n",
        "dict_city_data = np.load(path_cities)\n",
        "city_data = dict_city_data['arr_0']\n",
        "\n",
        "path_class=\"/content/drive/My Drive/uc project/classes.npz\"\n",
        "dict_class_data = np.load(path_class)\n",
        "class_data = dict_class_data['arr_0']"
      ],
      "id": "uS4Pd8B8n36z"
    },
    {
      "cell_type": "code",
      "execution_count": 5,
      "metadata": {
        "id": "b26d7e81"
      },
      "outputs": [],
      "source": [
        "# all 512 images resized to 128\n",
        "# data_512 = image_data[:,0][indices]\n",
        "data_512 = image_data[:,0]\n",
        "# all 512 images cropped to 256 images and resized to 128\n",
        "# data_256 = image_data[:,1][indices]\n",
        "data_256 = image_data[:,1]\n",
        "# all 512 images cropped to 128 images\n",
        "# data_128 = image_data[:,2][indices]\n",
        "data_128 = image_data[:,2]"
      ],
      "id": "b26d7e81"
    },
    {
      "cell_type": "code",
      "execution_count": 6,
      "metadata": {
        "colab": {
          "base_uri": "https://localhost:8080/"
        },
        "id": "1d4ea8ab",
        "outputId": "e25ee958-5eaa-4a76-e781-61ec7b962829"
      },
      "outputs": [
        {
          "output_type": "execute_result",
          "data": {
            "text/plain": [
              "((28195,), (28195, 128, 128, 3), (28195, 128, 128, 3))"
            ]
          },
          "metadata": {},
          "execution_count": 6
        }
      ],
      "source": [
        "city_data.shape, data_512.shape, data_512.shape"
      ],
      "id": "1d4ea8ab"
    },
    {
      "cell_type": "markdown",
      "metadata": {
        "id": "a8e17fa0"
      },
      "source": [
        "Tranforming labels to onehot encoding"
      ],
      "id": "a8e17fa0"
    },
    {
      "cell_type": "code",
      "execution_count": 7,
      "metadata": {
        "id": "397d73e7"
      },
      "outputs": [],
      "source": [
        "from sklearn.preprocessing import LabelBinarizer\n",
        "label_as_binary = LabelBinarizer()\n",
        "\n",
        "city_labels = label_as_binary.fit_transform(city_data)\n",
        "class_labels = label_as_binary.fit_transform(class_data)"
      ],
      "id": "397d73e7"
    },
    {
      "cell_type": "markdown",
      "metadata": {
        "id": "09f1a6b7"
      },
      "source": [
        "Split train and test data\n"
      ],
      "id": "09f1a6b7"
    },
    {
      "cell_type": "code",
      "execution_count": 8,
      "metadata": {
        "id": "71bca9c0"
      },
      "outputs": [],
      "source": [
        "train_512, test_512, train_256, test_256, train_128, test_128, train_city, test_city, train_class, test_class = train_test_split(data_512, data_256, data_128, city_labels, class_labels, test_size=0.2, random_state=42)"
      ],
      "id": "71bca9c0"
    },
    {
      "cell_type": "code",
      "source": [
        "from collections import Counter\n",
        "\n",
        "Counter(np.argmax(train_city, axis=1))"
      ],
      "metadata": {
        "colab": {
          "base_uri": "https://localhost:8080/"
        },
        "id": "5s-bdUoutkwZ",
        "outputId": "f2d42848-ca27-43ae-f563-b80576cee5c2"
      },
      "id": "5s-bdUoutkwZ",
      "execution_count": 9,
      "outputs": [
        {
          "output_type": "execute_result",
          "data": {
            "text/plain": [
              "Counter({0: 4031, 1: 4340, 3: 6313, 2: 3678, 4: 4194})"
            ]
          },
          "metadata": {},
          "execution_count": 9
        }
      ]
    },
    {
      "cell_type": "code",
      "source": [
        "Counter(np.argmax(test_city, axis=1))"
      ],
      "metadata": {
        "colab": {
          "base_uri": "https://localhost:8080/"
        },
        "id": "PWKQm64JuTxv",
        "outputId": "6d7b7e96-45b7-4c1f-903c-1eae6770ead1"
      },
      "id": "PWKQm64JuTxv",
      "execution_count": 10,
      "outputs": [
        {
          "output_type": "execute_result",
          "data": {
            "text/plain": [
              "Counter({2: 980, 1: 1126, 0: 991, 3: 1527, 4: 1015})"
            ]
          },
          "metadata": {},
          "execution_count": 10
        }
      ]
    },
    {
      "cell_type": "code",
      "source": [
        "Counter(np.argmax(train_class, axis=1))"
      ],
      "metadata": {
        "colab": {
          "base_uri": "https://localhost:8080/"
        },
        "id": "wqP8dulYuYbo",
        "outputId": "29ec9ef8-5e36-4c06-d678-c8c505655f8f"
      },
      "id": "wqP8dulYuYbo",
      "execution_count": 11,
      "outputs": [
        {
          "output_type": "execute_result",
          "data": {
            "text/plain": [
              "Counter({3: 1446,\n",
              "         9: 909,\n",
              "         0: 6836,\n",
              "         4: 1520,\n",
              "         13: 7428,\n",
              "         11: 1185,\n",
              "         10: 650,\n",
              "         6: 608,\n",
              "         17: 369,\n",
              "         14: 117,\n",
              "         16: 362,\n",
              "         2: 99,\n",
              "         15: 373,\n",
              "         8: 255,\n",
              "         5: 205,\n",
              "         1: 132,\n",
              "         7: 37,\n",
              "         12: 25})"
            ]
          },
          "metadata": {},
          "execution_count": 11
        }
      ]
    },
    {
      "cell_type": "code",
      "source": [
        "Counter(np.argmax(test_class, axis=1))"
      ],
      "metadata": {
        "colab": {
          "base_uri": "https://localhost:8080/"
        },
        "id": "PG721xZIuV2I",
        "outputId": "aff335c7-f0ff-4473-e675-f7e24dfe5b78"
      },
      "id": "PG721xZIuV2I",
      "execution_count": 12,
      "outputs": [
        {
          "output_type": "execute_result",
          "data": {
            "text/plain": [
              "Counter({13: 1870,\n",
              "         11: 338,\n",
              "         4: 391,\n",
              "         10: 171,\n",
              "         9: 225,\n",
              "         2: 28,\n",
              "         0: 1681,\n",
              "         6: 139,\n",
              "         3: 332,\n",
              "         14: 30,\n",
              "         5: 55,\n",
              "         17: 100,\n",
              "         16: 89,\n",
              "         15: 91,\n",
              "         8: 54,\n",
              "         1: 35,\n",
              "         7: 7,\n",
              "         12: 3})"
            ]
          },
          "metadata": {},
          "execution_count": 12
        }
      ]
    },
    {
      "cell_type": "markdown",
      "metadata": {
        "id": "T-4yLz0MTaXC"
      },
      "source": [
        "# Networks"
      ],
      "id": "T-4yLz0MTaXC"
    },
    {
      "cell_type": "code",
      "execution_count": 13,
      "metadata": {
        "id": "fGLOd5UQNjJf"
      },
      "outputs": [],
      "source": [
        "def basic_model(input_name):\n",
        "  # 1\n",
        "  model_input = Input(shape=(128, 128, 3), name=input_name)\n",
        "  conv2d1 = Conv2D(filters=32, kernel_size=(3,3), activation='relu')(model_input)\n",
        "  # norm1 = BatchNormalization()(conv2d1)\n",
        "  # 2\n",
        "  pool1 = MaxPooling2D(pool_size=(2,2))(conv2d1)\n",
        "  # norm2 = BatchNormalization()(pool1)\n",
        "  # 1\n",
        "  conv2d2 = Conv2D(filters=32, kernel_size=(3,3), activation='relu')(pool1)\n",
        "  # norm3 = BatchNormalization()(conv2d2)\n",
        "  # 2\n",
        "  pool2 = MaxPooling2D(pool_size=(2,2))(conv2d2)\n",
        "  # norm4 = BatchNormalization()(pool2)\n",
        "  # 15\n",
        "  flat = Flatten()(pool2)\n",
        "  model_output = Dense(2048, activation='relu')(flat)\n",
        "  # model_output = Dropout(0.1)(dense)\n",
        "  return model_input, model_output"
      ],
      "id": "fGLOd5UQNjJf"
    },
    {
      "cell_type": "markdown",
      "metadata": {
        "id": "621d513b"
      },
      "source": [
        "## e128"
      ],
      "id": "621d513b"
    },
    {
      "cell_type": "markdown",
      "metadata": {
        "id": "lHLQo_VVNzku"
      },
      "source": [
        "Get input and initial output layers"
      ],
      "id": "lHLQo_VVNzku"
    },
    {
      "cell_type": "code",
      "execution_count": 14,
      "metadata": {
        "id": "415874dd"
      },
      "outputs": [],
      "source": [
        "basic_input, basic_output = basic_model('main_input')"
      ],
      "id": "415874dd"
    },
    {
      "cell_type": "markdown",
      "metadata": {
        "id": "38e6CCGSN7na"
      },
      "source": [
        "Attach 2 outputs"
      ],
      "id": "38e6CCGSN7na"
    },
    {
      "cell_type": "code",
      "execution_count": 15,
      "metadata": {
        "id": "r-r-f8S0OAb4"
      },
      "outputs": [],
      "source": [
        "#City\n",
        "merged_hidden_city = Dense(2048, activation='relu')(basic_output)\n",
        "# merged_drop_city = Dropout(0.1)(merged_hidden_city)\n",
        "city_output = Dense(len(np.unique(city_data)), activation='softmax', name='city_output')(merged_hidden_city)\n",
        "\n",
        "#Class\n",
        "merged_hidden_class = Dense(2048, activation='relu')(basic_output)\n",
        "# merged_drop_class = Dropout(0.1)(merged_hidden_class)\n",
        "class_output = Dense(len(np.unique(class_data)), activation='softmax', name='class_output')(merged_hidden_class)"
      ],
      "id": "r-r-f8S0OAb4"
    },
    {
      "cell_type": "code",
      "execution_count": 16,
      "metadata": {
        "id": "enon5lo6OC-1"
      },
      "outputs": [],
      "source": [
        "e128_model = Model(inputs=basic_input, outputs=[city_output, class_output])\n",
        "# e128_model.compile(optimizer='adam', loss=['categorical_crossentropy', 'categorical_crossentropy'], metrics=['accuracy'])\n",
        "gamma = 0.5\n",
        "e128_model.compile(optimizer='adam',\n",
        "                  loss={'city_output': 'categorical_crossentropy', \n",
        "                        'class_output': 'categorical_crossentropy'},\n",
        "                  loss_weights={'city_output': gamma, \n",
        "                                'class_output': 1 - gamma}, \n",
        "                  metrics=['accuracy'])"
      ],
      "id": "enon5lo6OC-1"
    },
    {
      "cell_type": "code",
      "execution_count": 17,
      "metadata": {
        "colab": {
          "base_uri": "https://localhost:8080/"
        },
        "id": "f0cdac61",
        "outputId": "11db9c37-6fb9-46a2-8d72-7f4fd13fae88"
      },
      "outputs": [
        {
          "output_type": "stream",
          "name": "stdout",
          "text": [
            "Epoch 1/5\n",
            "1128/1128 [==============================] - 28s 23ms/step - loss: 6.9141 - city_output_loss: 7.3016 - class_output_loss: 6.5267 - city_output_accuracy: 0.3419 - class_output_accuracy: 0.3789\n",
            "Epoch 2/5\n",
            "1128/1128 [==============================] - 25s 22ms/step - loss: 1.5350 - city_output_loss: 1.3179 - class_output_loss: 1.7521 - city_output_accuracy: 0.4328 - class_output_accuracy: 0.4207\n",
            "Epoch 3/5\n",
            "1128/1128 [==============================] - 25s 22ms/step - loss: 1.2681 - city_output_loss: 1.1175 - class_output_loss: 1.4186 - city_output_accuracy: 0.5364 - class_output_accuracy: 0.5258\n",
            "Epoch 4/5\n",
            "1128/1128 [==============================] - 25s 22ms/step - loss: 0.9246 - city_output_loss: 0.8982 - class_output_loss: 0.9509 - city_output_accuracy: 0.6367 - class_output_accuracy: 0.6807\n",
            "Epoch 5/5\n",
            "1128/1128 [==============================] - 25s 23ms/step - loss: 0.7084 - city_output_loss: 0.7087 - class_output_loss: 0.7081 - city_output_accuracy: 0.7136 - class_output_accuracy: 0.7594\n"
          ]
        }
      ],
      "source": [
        "e128_history = e128_model.fit(train_128, {'city_output': train_city, 'class_output': train_class},\n",
        "                              # batch_size=20,\n",
        "                              epochs=10,\n",
        "                              shuffle=True,\n",
        "                              validation_data=(test_128, {'city_output': test_city, 'class_output': test_class})\n",
        "                 )"
      ],
      "id": "f0cdac61"
    },
    {
      "cell_type": "markdown",
      "metadata": {
        "id": "flpI0N8YH9Ea"
      },
      "source": [
        "## e256"
      ],
      "id": "flpI0N8YH9Ea"
    },
    {
      "cell_type": "markdown",
      "metadata": {
        "id": "2swgOChKH9Eb"
      },
      "source": [
        "Get input and initial output layers"
      ],
      "id": "2swgOChKH9Eb"
    },
    {
      "cell_type": "code",
      "execution_count": 18,
      "metadata": {
        "id": "UPerj6mjH9Eb"
      },
      "outputs": [],
      "source": [
        "basic_input, basic_output = basic_model('main_input')"
      ],
      "id": "UPerj6mjH9Eb"
    },
    {
      "cell_type": "markdown",
      "metadata": {
        "id": "Dp9bkREDH9Eb"
      },
      "source": [
        "Attach 2 outputs"
      ],
      "id": "Dp9bkREDH9Eb"
    },
    {
      "cell_type": "code",
      "execution_count": 19,
      "metadata": {
        "id": "f7FY9NMRH9Eb"
      },
      "outputs": [],
      "source": [
        "#City\n",
        "merged_hidden_city = Dense(2048, activation='relu')(basic_output)\n",
        "# merged_drop_city = Dropout(0.1)(merged_hidden_city)\n",
        "city_output = Dense(len(np.unique(city_data)), activation='softmax', name='city_output')(merged_hidden_city)\n",
        "\n",
        "#Class\n",
        "merged_hidden_class = Dense(2048, activation='relu')(basic_output)\n",
        "# merged_drop_class = Dropout(0.1)(merged_hidden_class)\n",
        "class_output = Dense(len(np.unique(class_data)), activation='softmax', name='class_output')(merged_hidden_class)"
      ],
      "id": "f7FY9NMRH9Eb"
    },
    {
      "cell_type": "code",
      "execution_count": 20,
      "metadata": {
        "id": "TIZbgOXaH9Eb"
      },
      "outputs": [],
      "source": [
        "e256_model = Model(inputs=basic_input, outputs=[city_output, class_output])\n",
        "# e256_model.compile(optimizer='adam', loss=['categorical_crossentropy', 'categorical_crossentropy'], metrics=['accuracy'])\n",
        "gamma = 0.5\n",
        "e256_model.compile(optimizer='adam',\n",
        "                  loss={'city_output': 'categorical_crossentropy', \n",
        "                        'class_output': 'categorical_crossentropy'},\n",
        "                  loss_weights={'city_output': gamma, \n",
        "                                'class_output': 1 - gamma}, \n",
        "                  metrics=['accuracy'])"
      ],
      "id": "TIZbgOXaH9Eb"
    },
    {
      "cell_type": "code",
      "execution_count": 21,
      "metadata": {
        "colab": {
          "base_uri": "https://localhost:8080/"
        },
        "id": "mAcESDSKH9Eb",
        "outputId": "6db3a81f-7ee6-4eb5-8228-9fedd46c7f68"
      },
      "outputs": [
        {
          "output_type": "stream",
          "name": "stdout",
          "text": [
            "Epoch 1/5\n",
            "1128/1128 [==============================] - 26s 23ms/step - loss: 10.8059 - city_output_loss: 10.2132 - class_output_loss: 11.3986 - city_output_accuracy: 0.2999 - class_output_accuracy: 0.3300\n",
            "Epoch 2/5\n",
            "1128/1128 [==============================] - 25s 23ms/step - loss: 1.7712 - city_output_loss: 1.5705 - class_output_loss: 1.9718 - city_output_accuracy: 0.3009 - class_output_accuracy: 0.3322\n",
            "Epoch 3/5\n",
            "1128/1128 [==============================] - 25s 22ms/step - loss: 1.7482 - city_output_loss: 1.5441 - class_output_loss: 1.9523 - city_output_accuracy: 0.3203 - class_output_accuracy: 0.3371\n",
            "Epoch 4/5\n",
            "1128/1128 [==============================] - 25s 23ms/step - loss: 1.7387 - city_output_loss: 1.5347 - class_output_loss: 1.9427 - city_output_accuracy: 0.3261 - class_output_accuracy: 0.3471\n",
            "Epoch 5/5\n",
            "1128/1128 [==============================] - 26s 23ms/step - loss: 1.7454 - city_output_loss: 1.5399 - class_output_loss: 1.9510 - city_output_accuracy: 0.3201 - class_output_accuracy: 0.3339\n"
          ]
        }
      ],
      "source": [
        "e256_history = e256_model.fit(train_256, {'city_output': train_city, 'class_output': train_class},\n",
        "                              # batch_size=20,\n",
        "                              epochs=10,\n",
        "                              shuffle=True,\n",
        "                              validation_data=(test_256, {'city_output': test_city, 'class_output': test_class})\n",
        "                 )"
      ],
      "id": "mAcESDSKH9Eb"
    },
    {
      "cell_type": "markdown",
      "metadata": {
        "id": "OqSLXTCHIAeA"
      },
      "source": [
        "## e512"
      ],
      "id": "OqSLXTCHIAeA"
    },
    {
      "cell_type": "markdown",
      "metadata": {
        "id": "dAEH1fFbIAeA"
      },
      "source": [
        "Get input and initial output layers"
      ],
      "id": "dAEH1fFbIAeA"
    },
    {
      "cell_type": "code",
      "execution_count": 22,
      "metadata": {
        "id": "ZYqHXybFIAeA"
      },
      "outputs": [],
      "source": [
        "basic_input, basic_output = basic_model('main_input')"
      ],
      "id": "ZYqHXybFIAeA"
    },
    {
      "cell_type": "markdown",
      "metadata": {
        "id": "MNAGaequIAeA"
      },
      "source": [
        "Attach 2 outputs"
      ],
      "id": "MNAGaequIAeA"
    },
    {
      "cell_type": "code",
      "execution_count": 23,
      "metadata": {
        "id": "l9UINvtVIAeA"
      },
      "outputs": [],
      "source": [
        "#City\n",
        "merged_hidden_city = Dense(2048, activation='relu')(basic_output)\n",
        "# merged_drop_city = Dropout(0.1)(merged_hidden_city)\n",
        "city_output = Dense(len(np.unique(city_data)), activation='softmax', name='city_output')(merged_hidden_city)\n",
        "\n",
        "#Class\n",
        "merged_hidden_class = Dense(2048, activation='relu')(basic_output)\n",
        "# merged_drop_class = Dropout(0.1)(merged_hidden_class)\n",
        "class_output = Dense(len(np.unique(class_data)), activation='softmax', name='class_output')(merged_hidden_class)"
      ],
      "id": "l9UINvtVIAeA"
    },
    {
      "cell_type": "code",
      "execution_count": 24,
      "metadata": {
        "id": "yu4k1CVGIAeA"
      },
      "outputs": [],
      "source": [
        "e512_model = Model(inputs=basic_input, outputs=[city_output, class_output])\n",
        "# e512_model.compile(optimizer='adam', loss=['categorical_crossentropy', 'categorical_crossentropy'], metrics=['accuracy'])\n",
        "gamma = 0.5\n",
        "e512_model.compile(optimizer='adam',\n",
        "                  loss={'city_output': 'categorical_crossentropy', \n",
        "                        'class_output': 'categorical_crossentropy'},\n",
        "                  loss_weights={'city_output': gamma, \n",
        "                                'class_output': 1 - gamma}, \n",
        "                  metrics=['accuracy'])"
      ],
      "id": "yu4k1CVGIAeA"
    },
    {
      "cell_type": "code",
      "execution_count": 25,
      "metadata": {
        "colab": {
          "base_uri": "https://localhost:8080/"
        },
        "id": "YlawmB9_IAeA",
        "outputId": "2b311e32-7102-4500-9925-0affd0fe39d3"
      },
      "outputs": [
        {
          "output_type": "stream",
          "name": "stdout",
          "text": [
            "Epoch 1/5\n",
            "1128/1128 [==============================] - 26s 23ms/step - loss: 6.5641 - city_output_loss: 6.7616 - class_output_loss: 6.3666 - city_output_accuracy: 0.3324 - class_output_accuracy: 0.3690\n",
            "Epoch 2/5\n",
            "1128/1128 [==============================] - 26s 23ms/step - loss: 1.7037 - city_output_loss: 1.4854 - class_output_loss: 1.9221 - city_output_accuracy: 0.3533 - class_output_accuracy: 0.3820\n",
            "Epoch 3/5\n",
            "1128/1128 [==============================] - 26s 23ms/step - loss: 1.6083 - city_output_loss: 1.3770 - class_output_loss: 1.8396 - city_output_accuracy: 0.4100 - class_output_accuracy: 0.4151\n",
            "Epoch 4/5\n",
            "1128/1128 [==============================] - 26s 23ms/step - loss: 1.4024 - city_output_loss: 1.1855 - class_output_loss: 1.6192 - city_output_accuracy: 0.5145 - class_output_accuracy: 0.4781\n",
            "Epoch 5/5\n",
            "1128/1128 [==============================] - 26s 23ms/step - loss: 1.1268 - city_output_loss: 0.9695 - class_output_loss: 1.2841 - city_output_accuracy: 0.6150 - class_output_accuracy: 0.5843\n"
          ]
        }
      ],
      "source": [
        "e512_history = e512_model.fit(train_512, {'city_output': train_city, 'class_output': train_class},\n",
        "                              # batch_size=20,\n",
        "                              epochs=10,\n",
        "                              shuffle=True,\n",
        "                              validation_data=(test_512, {'city_output': test_city, 'class_output': test_class})\n",
        "                 )"
      ],
      "id": "YlawmB9_IAeA"
    },
    {
      "cell_type": "markdown",
      "metadata": {
        "id": "99e85913"
      },
      "source": [
        "## final\n",
        "\n",
        "Three inputs\n",
        "  1. e128\n",
        "  1. e256\n",
        "  1. e512\n",
        "\n",
        "Two outputs\n",
        "  1. city\n",
        "  1. class"
      ],
      "id": "99e85913"
    },
    {
      "cell_type": "markdown",
      "metadata": {
        "id": "OJyJFUdaUY5C"
      },
      "source": [
        "Create the three basic input models"
      ],
      "id": "OJyJFUdaUY5C"
    },
    {
      "cell_type": "code",
      "execution_count": 26,
      "metadata": {
        "id": "1543b142"
      },
      "outputs": [],
      "source": [
        "e128_input, e128_output = basic_model('e128_input')\n",
        "e256_input, e256_output = basic_model('e256_input')\n",
        "e512_input, e512_output = basic_model('e512_input')"
      ],
      "id": "1543b142"
    },
    {
      "cell_type": "markdown",
      "metadata": {
        "id": "5076bea0"
      },
      "source": [
        "Concatenating outputs of three models"
      ],
      "id": "5076bea0"
    },
    {
      "cell_type": "code",
      "execution_count": 27,
      "metadata": {
        "id": "87aff582"
      },
      "outputs": [],
      "source": [
        "merged = concatenate([e128_output, e256_output, e512_output])"
      ],
      "id": "87aff582"
    },
    {
      "cell_type": "markdown",
      "metadata": {
        "id": "qnv3hCXuUjd_"
      },
      "source": [
        "Defining the outputs"
      ],
      "id": "qnv3hCXuUjd_"
    },
    {
      "cell_type": "code",
      "execution_count": 28,
      "metadata": {
        "id": "89974d5f"
      },
      "outputs": [],
      "source": [
        "#City\n",
        "merged_hidden_city = Dense(2048, activation='relu')(merged)\n",
        "# merged_drop_city = Dropout(0.1)(merged_hidden_city)\n",
        "city_output = Dense(len(np.unique(city_data)), activation='softmax', name='city_output')(merged_hidden_city)\n",
        "\n",
        "#Class\n",
        "merged_hidden_class = Dense(2048, activation='relu')(merged)\n",
        "# merged_drop_class = Dropout(0.1)(merged_hidden_class)\n",
        "class_output = Dense(len(np.unique(class_data)), activation='softmax', name='class_output')(merged_hidden_class)"
      ],
      "id": "89974d5f"
    },
    {
      "cell_type": "code",
      "execution_count": 29,
      "metadata": {
        "id": "4c57546c"
      },
      "outputs": [],
      "source": [
        "final_model = Model(inputs=[e128_input, e256_input, e512_input], outputs=[city_output, class_output])\n",
        "# final_model.compile(optimizer='adam', loss=['categorical_crossentropy', 'categorical_crossentropy'], metrics=['accuracy'])\n",
        "gamma = 0.5\n",
        "final_model.compile(optimizer='adam',\n",
        "                  loss={'city_output': 'categorical_crossentropy', \n",
        "                        'class_output': 'categorical_crossentropy'},\n",
        "                  loss_weights={'city_output': gamma, \n",
        "                                'class_output': 1 - gamma}, \n",
        "                  metrics=['accuracy'])"
      ],
      "id": "4c57546c"
    },
    {
      "cell_type": "markdown",
      "metadata": {
        "id": "YKc8aaqyUqqQ"
      },
      "source": [
        "Training model"
      ],
      "id": "YKc8aaqyUqqQ"
    },
    {
      "cell_type": "code",
      "execution_count": 30,
      "metadata": {
        "colab": {
          "base_uri": "https://localhost:8080/"
        },
        "id": "55e79ff7",
        "outputId": "2ba76b19-9d97-468e-a789-112fa04af642"
      },
      "outputs": [
        {
          "output_type": "stream",
          "name": "stdout",
          "text": [
            "Epoch 1/5\n",
            "1128/1128 [==============================] - 72s 63ms/step - loss: 14.0932 - city_output_loss: 14.7159 - class_output_loss: 13.4704 - city_output_accuracy: 0.5135 - class_output_accuracy: 0.3899\n",
            "Epoch 2/5\n",
            "1128/1128 [==============================] - 71s 63ms/step - loss: 1.2522 - city_output_loss: 0.8827 - class_output_loss: 1.6217 - city_output_accuracy: 0.6633 - class_output_accuracy: 0.4660\n",
            "Epoch 3/5\n",
            "1128/1128 [==============================] - 71s 63ms/step - loss: 1.0608 - city_output_loss: 0.8143 - class_output_loss: 1.3074 - city_output_accuracy: 0.6851 - class_output_accuracy: 0.5578\n",
            "Epoch 4/5\n",
            "1128/1128 [==============================] - 71s 63ms/step - loss: 0.6673 - city_output_loss: 0.5747 - class_output_loss: 0.7599 - city_output_accuracy: 0.7800 - class_output_accuracy: 0.7388\n",
            "Epoch 5/5\n",
            "1128/1128 [==============================] - 71s 63ms/step - loss: 0.4384 - city_output_loss: 0.3849 - class_output_loss: 0.4919 - city_output_accuracy: 0.8600 - class_output_accuracy: 0.8331\n"
          ]
        }
      ],
      "source": [
        "final_history = final_model.fit({'e128_input': train_128, 'e256_input': train_256, 'e512_input': train_512}, {'city_output': train_city, 'class_output': train_class},\n",
        "                                # batch_size=20,\n",
        "                                epochs=10,\n",
        "                                shuffle=True,\n",
        "                                validation_data=({'e128_input': test_128, 'e256_input': test_256, 'e512_input': test_512}, {'city_output': test_city, 'class_output': test_class})\n",
        "                 )\n",
        "                "
      ],
      "id": "55e79ff7"
    },
    {
      "cell_type": "markdown",
      "metadata": {
        "id": "2wjPwZcTEcs4"
      },
      "source": [
        "## Evaluate\n"
      ],
      "id": "2wjPwZcTEcs4"
    },
    {
      "cell_type": "code",
      "execution_count": 31,
      "metadata": {
        "colab": {
          "base_uri": "https://localhost:8080/"
        },
        "id": "Nk6DHHf9J8_g",
        "outputId": "5a1efe5d-6db2-44c1-9131-e653f648dbba"
      },
      "outputs": [
        {
          "output_type": "stream",
          "name": "stdout",
          "text": [
            "177/177 [==============================] - 1s 6ms/step\n",
            "177/177 [==============================] - 1s 5ms/step\n",
            "177/177 [==============================] - 1s 5ms/step\n",
            "177/177 [==============================] - 3s 15ms/step\n"
          ]
        }
      ],
      "source": [
        "y_e128_city_pred, y_e128_class_pred = e128_model.predict(test_128)\n",
        "y_e256_city_pred, y_e256_class_pred = e256_model.predict(test_256)\n",
        "y_e512_city_pred, y_e512_class_pred = e512_model.predict(test_512)\n",
        "y_final_city_pred, y_final_class_pred = final_model.predict({'e128_input': test_128, 'e256_input': test_256, 'e512_input': test_512})"
      ],
      "id": "Nk6DHHf9J8_g"
    },
    {
      "cell_type": "code",
      "execution_count": 32,
      "metadata": {
        "id": "IOhn-wbvUkql"
      },
      "outputs": [],
      "source": [
        "y_e128_city_pred = np.argmax(y_e128_city_pred, axis=1)\n",
        "y_e256_city_pred = np.argmax(y_e256_city_pred, axis=1)\n",
        "y_e512_city_pred = np.argmax(y_e512_city_pred, axis=1)\n",
        "y_final_city_pred = np.argmax(y_final_city_pred, axis=1)\n",
        "\n",
        "y_e128_class_pred = np.argmax(y_e128_class_pred, axis=1)\n",
        "y_e256_class_pred = np.argmax(y_e256_class_pred, axis=1)\n",
        "y_e512_class_pred = np.argmax(y_e512_class_pred, axis=1)\n",
        "y_final_class_pred = np.argmax(y_final_class_pred, axis=1)"
      ],
      "id": "IOhn-wbvUkql"
    },
    {
      "cell_type": "code",
      "execution_count": 33,
      "metadata": {
        "id": "IwgNd7JZEgSh"
      },
      "outputs": [],
      "source": [
        "from sklearn.metrics import confusion_matrix\n",
        "from sklearn.metrics import f1_score\n",
        "\n",
        "city_y = np.argmax(test_city, axis=1)\n",
        "class_y = np.argmax(test_class, axis=1)\n",
        "\n",
        "e128_city_cm = confusion_matrix(y_e128_city_pred, city_y)\n",
        "e256_city_cm = confusion_matrix(y_e256_city_pred, city_y)\n",
        "e512_city_cm = confusion_matrix(y_e512_city_pred, city_y)\n",
        "final_city_cm = confusion_matrix(y_final_city_pred, city_y)\n",
        "\n",
        "e128_class_cm = confusion_matrix(y_e128_class_pred, class_y)\n",
        "e256_class_cm = confusion_matrix(y_e256_class_pred, class_y)\n",
        "e512_class_cm = confusion_matrix(y_e512_class_pred, class_y)\n",
        "final_class_cm = confusion_matrix(y_final_class_pred, class_y)\n",
        "\n",
        "e128_city_f1 = f1_score(y_e128_city_pred, city_y, average='micro')\n",
        "e256_city_f1 = f1_score(y_e256_city_pred, city_y, average='micro')\n",
        "e512_city_f1 = f1_score(y_e512_city_pred, city_y, average='micro')\n",
        "final_city_f1 = f1_score(y_final_city_pred, city_y, average='micro')\n",
        "\n",
        "e128_class_f1 = f1_score(y_e128_class_pred, class_y, average='micro')\n",
        "e256_class_f1 = f1_score(y_e256_class_pred, class_y, average='micro')\n",
        "e512_class_f1 = f1_score(y_e512_class_pred, class_y, average='micro')\n",
        "final_class_f1 = f1_score(y_final_class_pred, class_y, average='micro')"
      ],
      "id": "IwgNd7JZEgSh"
    },
    {
      "cell_type": "code",
      "source": [
        "e128_city_cm"
      ],
      "metadata": {
        "colab": {
          "base_uri": "https://localhost:8080/"
        },
        "id": "BqtUiw_6NyPN",
        "outputId": "6ce9b7f8-c181-4cea-df13-2bfaecfa672c"
      },
      "id": "BqtUiw_6NyPN",
      "execution_count": 34,
      "outputs": [
        {
          "output_type": "execute_result",
          "data": {
            "text/plain": [
              "array([[324,  49,  19, 124, 150],\n",
              "       [ 31, 494, 133, 236,  64],\n",
              "       [ 51, 109, 417, 111,  66],\n",
              "       [450, 393, 349, 943, 583],\n",
              "       [135,  81,  62, 113, 152]])"
            ]
          },
          "metadata": {},
          "execution_count": 34
        }
      ]
    },
    {
      "cell_type": "code",
      "source": [
        "e256_city_cm"
      ],
      "metadata": {
        "colab": {
          "base_uri": "https://localhost:8080/"
        },
        "id": "xOa-7Y52N2cC",
        "outputId": "99b878bd-8f1d-44f9-be5b-3938b513dd97"
      },
      "id": "xOa-7Y52N2cC",
      "execution_count": 35,
      "outputs": [
        {
          "output_type": "execute_result",
          "data": {
            "text/plain": [
              "array([[ 113,   29,   49,   48,   91],\n",
              "       [   3,    0,    3,    1,    5],\n",
              "       [  32,   11,  237,   28,   32],\n",
              "       [ 806, 1081,  676, 1441,  865],\n",
              "       [  37,    5,   15,    9,   22]])"
            ]
          },
          "metadata": {},
          "execution_count": 35
        }
      ]
    },
    {
      "cell_type": "code",
      "source": [
        "e512_city_cm"
      ],
      "metadata": {
        "colab": {
          "base_uri": "https://localhost:8080/"
        },
        "id": "_M1UwuygN5FQ",
        "outputId": "7cc84298-6217-4efc-b36e-ea9d7f68afd4"
      },
      "id": "_M1UwuygN5FQ",
      "execution_count": 36,
      "outputs": [
        {
          "output_type": "execute_result",
          "data": {
            "text/plain": [
              "array([[579,  50,  54, 141, 248],\n",
              "       [ 60, 722, 263, 254, 109],\n",
              "       [ 51, 135, 447, 164,  79],\n",
              "       [195, 177, 181, 857, 434],\n",
              "       [106,  42,  35, 111, 145]])"
            ]
          },
          "metadata": {},
          "execution_count": 36
        }
      ]
    },
    {
      "cell_type": "code",
      "source": [
        "final_city_cm"
      ],
      "metadata": {
        "colab": {
          "base_uri": "https://localhost:8080/"
        },
        "id": "ah0aCj1OOJld",
        "outputId": "74c20cf7-7514-49a7-d5e0-9a14b5cfc0a1"
      },
      "id": "ah0aCj1OOJld",
      "execution_count": 37,
      "outputs": [
        {
          "output_type": "execute_result",
          "data": {
            "text/plain": [
              "array([[611,  26, 152, 143, 180],\n",
              "       [ 41, 923, 193, 110, 195],\n",
              "       [ 35,  50, 347, 135,  75],\n",
              "       [153,  46, 162, 896, 210],\n",
              "       [151,  81, 126, 243, 355]])"
            ]
          },
          "metadata": {},
          "execution_count": 37
        }
      ]
    },
    {
      "cell_type": "code",
      "source": [
        "e128_class_cm"
      ],
      "metadata": {
        "colab": {
          "base_uri": "https://localhost:8080/"
        },
        "id": "5jmfhFWFOLuz",
        "outputId": "a49aabe8-38b5-412a-d76b-2a56c735e608"
      },
      "id": "5jmfhFWFOLuz",
      "execution_count": 38,
      "outputs": [
        {
          "output_type": "execute_result",
          "data": {
            "text/plain": [
              "array([[1161,   21,   12,   48,   57,   12,   24,    1,   37,   93,   51,\n",
              "          99,    2,  818,   17,   39,   24,   52],\n",
              "       [   0,    0,    0,    0,    0,    0,    0,    0,    0,    0,    0,\n",
              "           1,    0,    1,    0,    0,    0,    0],\n",
              "       [   2,    0,    1,    0,    2,    0,    0,    0,    0,    0,    0,\n",
              "           1,    0,    2,    0,    0,    0,    0],\n",
              "       [  47,    1,    2,   51,   39,    5,    8,    1,    0,    2,    6,\n",
              "          17,    0,  129,    1,    4,    3,    2],\n",
              "       [  64,    4,    3,   63,   83,    7,   29,    1,    3,   18,   26,\n",
              "          51,    0,  154,    2,    7,   10,    7],\n",
              "       [   9,    0,    0,    4,    4,    0,    0,    0,    1,    3,    3,\n",
              "           2,    0,   10,    0,    1,    0,    0],\n",
              "       [   5,    0,    0,    4,    6,    2,    4,    0,    0,    3,    4,\n",
              "           6,    0,   15,    0,    1,    6,    1],\n",
              "       [   0,    0,    0,    0,    0,    0,    0,    0,    0,    0,    0,\n",
              "           0,    0,    0,    0,    0,    0,    0],\n",
              "       [   4,    0,    0,    0,    0,    1,    0,    0,    0,    0,    0,\n",
              "           4,    0,    4,    0,    0,    0,    1],\n",
              "       [  31,    1,    0,    6,   11,    2,    5,    0,    0,   19,   12,\n",
              "          11,    0,   38,    0,    2,    3,    6],\n",
              "       [  30,    0,    2,    7,   16,    3,    3,    0,    0,    7,   10,\n",
              "          19,    0,   35,    1,    1,    9,    1],\n",
              "       [  13,    0,    1,   14,   29,    5,    9,    1,    0,    7,    5,\n",
              "          17,    0,   37,    1,    4,    9,    2],\n",
              "       [   0,    0,    0,    0,    0,    0,    0,    0,    0,    0,    0,\n",
              "           0,    0,    0,    0,    0,    0,    0],\n",
              "       [ 292,    6,    5,  129,  126,   17,   45,    3,   10,   68,   48,\n",
              "          87,    1,  561,    8,   29,   21,   25],\n",
              "       [   0,    0,    0,    0,    0,    0,    0,    0,    0,    0,    0,\n",
              "           1,    0,    5,    0,    0,    0,    0],\n",
              "       [   0,    0,    0,    0,    1,    0,    2,    0,    0,    0,    0,\n",
              "           2,    0,    7,    0,    1,    1,    0],\n",
              "       [  23,    2,    2,    6,   17,    1,   10,    0,    3,    5,    6,\n",
              "          20,    0,   53,    0,    2,    3,    2],\n",
              "       [   0,    0,    0,    0,    0,    0,    0,    0,    0,    0,    0,\n",
              "           0,    0,    1,    0,    0,    0,    1]])"
            ]
          },
          "metadata": {},
          "execution_count": 38
        }
      ]
    },
    {
      "cell_type": "code",
      "source": [
        "e256_class_cm"
      ],
      "metadata": {
        "colab": {
          "base_uri": "https://localhost:8080/"
        },
        "id": "PMIoXOawOMub",
        "outputId": "260731d8-8894-4655-876b-268adcc856fc"
      },
      "id": "PMIoXOawOMub",
      "execution_count": 39,
      "outputs": [
        {
          "output_type": "execute_result",
          "data": {
            "text/plain": [
              "array([[1533,   35,   27,  254,  309,   48,  115,    3,   45,  175,  160,\n",
              "         304,    2, 1522,   27,   77,   82,   83],\n",
              "       [   0,    0,    0,    0,    0,    0,    0,    0,    0,    0,    0,\n",
              "           0,    0,    0,    0,    0,    0,    0],\n",
              "       [   0,    0,    0,    0,    0,    0,    0,    0,    0,    0,    0,\n",
              "           0,    0,    0,    0,    0,    0,    0],\n",
              "       [   2,    0,    0,    1,    2,    0,    1,    0,    1,    2,    0,\n",
              "           0,    0,    7,    0,    0,    0,    0],\n",
              "       [   6,    0,    0,    0,    6,    3,    1,    0,    0,    5,    0,\n",
              "           1,    0,   15,    0,    1,    0,    2],\n",
              "       [   0,    0,    0,    0,    0,    0,    0,    0,    0,    0,    0,\n",
              "           0,    0,    0,    0,    0,    0,    0],\n",
              "       [   0,    0,    0,    0,    0,    0,    0,    0,    0,    0,    0,\n",
              "           0,    0,    0,    0,    0,    0,    0],\n",
              "       [   0,    0,    0,    0,    0,    0,    0,    0,    0,    0,    0,\n",
              "           0,    0,    0,    0,    0,    0,    0],\n",
              "       [   0,    0,    0,    0,    0,    0,    0,    0,    0,    0,    0,\n",
              "           0,    0,    0,    0,    0,    0,    0],\n",
              "       [   0,    0,    0,    0,    2,    0,    0,    0,    0,    1,    0,\n",
              "           0,    0,    5,    0,    0,    0,    0],\n",
              "       [   0,    0,    0,    0,    0,    0,    0,    0,    0,    0,    0,\n",
              "           0,    0,    0,    0,    0,    0,    0],\n",
              "       [   1,    0,    0,    0,    0,    0,    0,    0,    0,    0,    0,\n",
              "           0,    0,    0,    0,    0,    0,    0],\n",
              "       [   0,    0,    0,    0,    0,    0,    0,    0,    0,    0,    0,\n",
              "           0,    0,    0,    0,    0,    0,    0],\n",
              "       [ 139,    0,    1,   77,   71,    3,   22,    4,    8,   42,   11,\n",
              "          33,    1,  321,    3,   13,    7,   15],\n",
              "       [   0,    0,    0,    0,    0,    0,    0,    0,    0,    0,    0,\n",
              "           0,    0,    0,    0,    0,    0,    0],\n",
              "       [   0,    0,    0,    0,    0,    0,    0,    0,    0,    0,    0,\n",
              "           0,    0,    0,    0,    0,    0,    0],\n",
              "       [   0,    0,    0,    0,    0,    0,    0,    0,    0,    0,    0,\n",
              "           0,    0,    0,    0,    0,    0,    0],\n",
              "       [   0,    0,    0,    0,    1,    1,    0,    0,    0,    0,    0,\n",
              "           0,    0,    0,    0,    0,    0,    0]])"
            ]
          },
          "metadata": {},
          "execution_count": 39
        }
      ]
    },
    {
      "cell_type": "code",
      "source": [
        "e512_class_cm"
      ],
      "metadata": {
        "colab": {
          "base_uri": "https://localhost:8080/"
        },
        "id": "E3RdszioONoc",
        "outputId": "91829a1e-1f39-4506-e45b-4081a7c1b1cf"
      },
      "id": "E3RdszioONoc",
      "execution_count": 40,
      "outputs": [
        {
          "output_type": "execute_result",
          "data": {
            "text/plain": [
              "array([[ 998,   16,    8,   42,   41,   11,   19,    0,   24,   69,   48,\n",
              "          83,    1,  534,    7,   27,   16,   27],\n",
              "       [   1,    1,    0,    0,    0,    0,    1,    0,    0,    0,    1,\n",
              "           0,    0,    4,    0,    0,    0,    0],\n",
              "       [   1,    0,    0,    0,    0,    0,    1,    0,    0,    0,    0,\n",
              "           0,    0,    6,    0,    0,    0,    1],\n",
              "       [  11,    0,    0,   10,   11,    1,    2,    0,    1,    0,    2,\n",
              "           4,    0,   30,    2,    1,    4,    2],\n",
              "       [  28,    1,    1,   27,   75,    4,   26,    0,    2,   21,   21,\n",
              "          40,    0,   85,    1,    3,    4,    6],\n",
              "       [   1,    0,    1,    0,    2,    0,    3,    0,    0,    0,    2,\n",
              "           1,    0,    2,    1,    0,    1,    0],\n",
              "       [   3,    0,    1,    6,   12,    0,    5,    0,    0,    2,    1,\n",
              "           6,    0,   12,    0,    1,    4,    1],\n",
              "       [   0,    0,    0,    0,    0,    0,    0,    0,    0,    0,    0,\n",
              "           0,    0,    1,    0,    1,    0,    0],\n",
              "       [   1,    0,    0,    3,    0,    0,    0,    0,    0,    0,    0,\n",
              "           1,    0,    6,    0,    0,    0,    0],\n",
              "       [  17,    1,    1,    3,    2,    3,    5,    0,    1,   15,    6,\n",
              "           4,    0,   20,    0,    1,    1,    2],\n",
              "       [   4,    0,    0,    2,    2,    1,    2,    0,    1,    6,    0,\n",
              "           3,    0,    7,    0,    1,    1,    0],\n",
              "       [  15,    1,    1,    9,   20,    2,    4,    0,    2,    2,    5,\n",
              "          12,    0,   33,    1,    1,    5,    2],\n",
              "       [   1,    0,    0,    0,    0,    0,    0,    0,    0,    0,    0,\n",
              "           0,    0,    0,    0,    0,    0,    0],\n",
              "       [ 589,   15,   15,  225,  215,   33,   69,    5,   23,  105,   83,\n",
              "         178,    2, 1104,   18,   55,   49,   56],\n",
              "       [   0,    0,    0,    0,    1,    0,    0,    0,    0,    0,    0,\n",
              "           1,    0,    1,    0,    0,    0,    0],\n",
              "       [   0,    0,    0,    1,    1,    0,    1,    0,    0,    0,    0,\n",
              "           0,    0,    0,    0,    0,    1,    0],\n",
              "       [   6,    0,    0,    1,    5,    0,    0,    2,    0,    0,    1,\n",
              "           4,    0,   10,    0,    0,    3,    2],\n",
              "       [   5,    0,    0,    3,    4,    0,    1,    0,    0,    5,    1,\n",
              "           1,    0,   15,    0,    0,    0,    1]])"
            ]
          },
          "metadata": {},
          "execution_count": 40
        }
      ]
    },
    {
      "cell_type": "code",
      "source": [
        "final_class_cm"
      ],
      "metadata": {
        "colab": {
          "base_uri": "https://localhost:8080/"
        },
        "id": "BSABeabLOObc",
        "outputId": "35892127-ace0-4c08-b940-4304db72dba6"
      },
      "id": "BSABeabLOObc",
      "execution_count": 41,
      "outputs": [
        {
          "output_type": "execute_result",
          "data": {
            "text/plain": [
              "array([[872,  18,   9,  19,  24,   4,   5,   1,  19,  80,  23,  48,   0,\n",
              "        458,   9,  20,  12,  25],\n",
              "       [  2,   1,   0,   0,   0,   0,   0,   0,   0,   0,   0,   1,   0,\n",
              "          1,   0,   0,   0,   0],\n",
              "       [  4,   0,   0,   1,   2,   0,   0,   0,   0,   1,   0,   3,   0,\n",
              "          0,   0,   0,   0,   0],\n",
              "       [ 36,   0,   3,  45,  39,   5,   4,   2,   1,   2,   8,  22,   0,\n",
              "        121,   0,   3,   7,   0],\n",
              "       [ 47,   2,   2,  36,  45,   7,  13,   0,   3,   8,  13,  31,   0,\n",
              "        119,   0,   6,  13,   2],\n",
              "       [  3,   0,   1,   3,   0,   0,   3,   0,   0,   2,   3,   4,   0,\n",
              "          6,   0,   1,   0,   1],\n",
              "       [ 33,   0,   3,  14,  59,   8,  22,   1,   1,   3,  20,  40,   0,\n",
              "         72,   0,   4,  10,   2],\n",
              "       [  0,   0,   0,   0,   1,   0,   0,   0,   1,   0,   1,   0,   0,\n",
              "          2,   0,   0,   0,   0],\n",
              "       [  3,   0,   0,   0,   0,   0,   0,   0,   0,   1,   0,   1,   0,\n",
              "          6,   0,   0,   1,   1],\n",
              "       [ 59,   1,   0,   1,  10,   0,   4,   0,   4,  33,  17,   8,   0,\n",
              "         48,   0,  13,   2,   9],\n",
              "       [ 50,   2,   1,  18,  31,   6,   5,   0,   0,   9,  15,  28,   0,\n",
              "         68,   2,   2,   5,   5],\n",
              "       [ 63,   2,   1,  28,  35,   5,  21,   0,   2,   4,  17,  33,   0,\n",
              "        102,   1,   4,   5,   5],\n",
              "       [  0,   0,   0,   0,   0,   0,   0,   0,   0,   0,   0,   0,   0,\n",
              "          0,   0,   0,   0,   0],\n",
              "       [473,   8,   6, 148, 126,  16,  57,   3,  21,  69,  44, 100,   3,\n",
              "        779,  14,  33,  30,  45],\n",
              "       [  4,   0,   0,   3,   5,   0,   1,   0,   0,   0,   0,   2,   0,\n",
              "          7,   1,   0,   0,   0],\n",
              "       [ 13,   0,   2,   5,   8,   4,   2,   0,   1,   8,   6,  10,   0,\n",
              "         41,   0,   2,   2,   0],\n",
              "       [  5,   0,   0,   6,   0,   0,   1,   0,   0,   2,   2,   2,   0,\n",
              "         14,   1,   1,   1,   0],\n",
              "       [ 14,   1,   0,   5,   6,   0,   1,   0,   1,   3,   2,   5,   0,\n",
              "         26,   2,   2,   1,   5]])"
            ]
          },
          "metadata": {},
          "execution_count": 41
        }
      ]
    }
  ],
  "metadata": {
    "accelerator": "GPU",
    "colab": {
      "collapsed_sections": [
        "dkuM4OJ-VRpO",
        "i5kUYRaVVQo4"
      ],
      "machine_shape": "hm",
      "provenance": [],
      "toc_visible": true
    },
    "gpuClass": "standard",
    "kernelspec": {
      "display_name": "tensorflow_env",
      "language": "python",
      "name": "tensorflow_env"
    },
    "language_info": {
      "codemirror_mode": {
        "name": "ipython",
        "version": 3
      },
      "file_extension": ".py",
      "mimetype": "text/x-python",
      "name": "python",
      "nbconvert_exporter": "python",
      "pygments_lexer": "ipython3",
      "version": "3.8.8"
    }
  },
  "nbformat": 4,
  "nbformat_minor": 5
}