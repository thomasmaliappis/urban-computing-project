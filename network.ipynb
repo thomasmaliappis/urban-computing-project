{
  "cells": [
    {
      "cell_type": "markdown",
      "metadata": {
        "id": "dkuM4OJ-VRpO"
      },
      "source": [
        "# Imports"
      ],
      "id": "dkuM4OJ-VRpO"
    },
    {
      "cell_type": "code",
      "execution_count": 1,
      "metadata": {
        "id": "8cfc2c03"
      },
      "outputs": [],
      "source": [
        "import random\n",
        "import pandas as pd\n",
        "import numpy as np\n",
        "import tensorflow as tf\n",
        "\n",
        "from keras.models import Model\n",
        "from keras.layers import Conv2D, MaxPooling2D, Flatten, Dropout, Dense, concatenate, Input, BatchNormalization\n",
        "from tensorflow import keras\n",
        "from sklearn.model_selection import train_test_split"
      ],
      "id": "8cfc2c03"
    },
    {
      "cell_type": "markdown",
      "metadata": {
        "id": "i5kUYRaVVQo4"
      },
      "source": [
        "# Connect drive"
      ],
      "id": "i5kUYRaVVQo4"
    },
    {
      "cell_type": "code",
      "execution_count": 2,
      "metadata": {
        "colab": {
          "base_uri": "https://localhost:8080/"
        },
        "id": "um8ONWeYU9FG",
        "outputId": "ddd3a88c-b5fb-443b-a381-ea5afbe88517"
      },
      "outputs": [
        {
          "output_type": "stream",
          "name": "stdout",
          "text": [
            "Mounted at /content/drive/\n"
          ]
        }
      ],
      "source": [
        "from google.colab import drive\n",
        "\n",
        "drive.mount('/content/drive/', force_remount=True)"
      ],
      "id": "um8ONWeYU9FG"
    },
    {
      "cell_type": "markdown",
      "metadata": {
        "id": "VmCK-KRRVXze"
      },
      "source": [
        "# Dataset"
      ],
      "id": "VmCK-KRRVXze"
    },
    {
      "cell_type": "code",
      "execution_count": 3,
      "metadata": {
        "id": "6217fce5"
      },
      "outputs": [],
      "source": [
        "path_images=\"/content/drive/My Drive/uc project/images.npz\"\n",
        "dict_image_data = np.load(path_images)\n",
        "image_data = dict_image_data['arr_0']"
      ],
      "id": "6217fce5"
    },
    {
      "cell_type": "code",
      "execution_count": 4,
      "metadata": {
        "id": "uS4Pd8B8n36z"
      },
      "outputs": [],
      "source": [
        "path_cities=\"/content/drive/My Drive/uc project/cities.npz\"\n",
        "dict_city_data = np.load(path_cities)\n",
        "city_data = dict_city_data['arr_0']\n",
        "\n",
        "path_class=\"/content/drive/My Drive/uc project/classes.npz\"\n",
        "dict_class_data = np.load(path_class)\n",
        "class_data = dict_class_data['arr_0']"
      ],
      "id": "uS4Pd8B8n36z"
    },
    {
      "cell_type": "code",
      "execution_count": 5,
      "metadata": {
        "id": "b26d7e81"
      },
      "outputs": [],
      "source": [
        "# all 512 images resized to 128\n",
        "# data_512 = image_data[:,0][indices]\n",
        "data_512 = image_data[:,0]\n",
        "# all 512 images cropped to 256 images and resized to 128\n",
        "# data_256 = image_data[:,1][indices]\n",
        "data_256 = image_data[:,1]\n",
        "# all 512 images cropped to 128 images\n",
        "# data_128 = image_data[:,2][indices]\n",
        "data_128 = image_data[:,2]"
      ],
      "id": "b26d7e81"
    },
    {
      "cell_type": "code",
      "execution_count": 6,
      "metadata": {
        "colab": {
          "base_uri": "https://localhost:8080/"
        },
        "id": "1d4ea8ab",
        "outputId": "0ddefe98-2031-4aa3-9186-d966cd571244"
      },
      "outputs": [
        {
          "output_type": "execute_result",
          "data": {
            "text/plain": [
              "((28195,), (28195, 128, 128, 3), (28195, 128, 128, 3))"
            ]
          },
          "metadata": {},
          "execution_count": 6
        }
      ],
      "source": [
        "city_data.shape, data_512.shape, data_512.shape"
      ],
      "id": "1d4ea8ab"
    },
    {
      "cell_type": "markdown",
      "metadata": {
        "id": "a8e17fa0"
      },
      "source": [
        "Tranforming labels to onehot encoding"
      ],
      "id": "a8e17fa0"
    },
    {
      "cell_type": "code",
      "execution_count": 7,
      "metadata": {
        "id": "397d73e7"
      },
      "outputs": [],
      "source": [
        "from sklearn.preprocessing import LabelBinarizer\n",
        "city_label_binarizer = LabelBinarizer()\n",
        "city_labels = city_label_binarizer.fit_transform(city_data)\n",
        "class_label_binarizer = LabelBinarizer()\n",
        "class_labels = class_label_binarizer.fit_transform(class_data)"
      ],
      "id": "397d73e7"
    },
    {
      "cell_type": "markdown",
      "metadata": {
        "id": "09f1a6b7"
      },
      "source": [
        "Split train and test data\n"
      ],
      "id": "09f1a6b7"
    },
    {
      "cell_type": "code",
      "execution_count": 8,
      "metadata": {
        "id": "71bca9c0"
      },
      "outputs": [],
      "source": [
        "train_512, test_512, train_256, test_256, train_128, test_128, train_city, test_city, train_class, test_class = train_test_split(data_512, data_256, data_128, city_labels, class_labels, test_size=0.2, random_state=42)"
      ],
      "id": "71bca9c0"
    },
    {
      "cell_type": "code",
      "source": [
        "from collections import Counter\n",
        "\n",
        "Counter(np.argmax(train_city, axis=1))"
      ],
      "metadata": {
        "colab": {
          "base_uri": "https://localhost:8080/"
        },
        "id": "5s-bdUoutkwZ",
        "outputId": "729e79b3-9bd4-4cc1-d726-d7065f72ca12"
      },
      "id": "5s-bdUoutkwZ",
      "execution_count": 9,
      "outputs": [
        {
          "output_type": "execute_result",
          "data": {
            "text/plain": [
              "Counter({0: 4031, 1: 4340, 3: 6313, 2: 3678, 4: 4194})"
            ]
          },
          "metadata": {},
          "execution_count": 9
        }
      ]
    },
    {
      "cell_type": "code",
      "source": [
        "city_label_binarizer.classes_"
      ],
      "metadata": {
        "colab": {
          "base_uri": "https://localhost:8080/"
        },
        "id": "moxouLQ0J3M1",
        "outputId": "f87ab313-433d-4431-b074-fa805d0aae72"
      },
      "id": "moxouLQ0J3M1",
      "execution_count": 10,
      "outputs": [
        {
          "output_type": "execute_result",
          "data": {
            "text/plain": [
              "array(['athina, gr', 'berlin, de', 'budapest, hu', 'madrid, es',\n",
              "       'roma, it'], dtype='<U12')"
            ]
          },
          "metadata": {},
          "execution_count": 10
        }
      ]
    },
    {
      "cell_type": "code",
      "source": [
        "class_label_binarizer.classes_"
      ],
      "metadata": {
        "colab": {
          "base_uri": "https://localhost:8080/"
        },
        "id": "fiqkjcocKmfG",
        "outputId": "e709cfef-54d8-4841-9997-9bf6844dc037"
      },
      "id": "fiqkjcocKmfG",
      "execution_count": 11,
      "outputs": [
        {
          "output_type": "execute_result",
          "data": {
            "text/plain": [
              "array(['Agricultural + Semi-natural areas + Wetlands', 'Airports',\n",
              "       'Construction sites', 'Continuous Urban Fabric (S.L.  80%)',\n",
              "       'Discontinuous Dense Urban Fabric (S.L.  50% -  80%)',\n",
              "       'Discontinuous Low Density Urban Fabric (S.L.  10% - 30%)',\n",
              "       'Discontinuous Medium Density Urban Fabric (S.L.  30% - 50%)',\n",
              "       'Discontinuous Very Low Density Urban Fabric (S.L.  10%)',\n",
              "       'Fast transit roads and associated land', 'Forests',\n",
              "       'Green urban areas',\n",
              "       'Industrial, commercial, public, military and private units',\n",
              "       'Mineral extraction and dump sites',\n",
              "       'Other roads and associated land', 'Port areas',\n",
              "       'Railways and associated land', 'Sports and leisure facilities',\n",
              "       'Water bodies'], dtype='<U59')"
            ]
          },
          "metadata": {},
          "execution_count": 11
        }
      ]
    },
    {
      "cell_type": "code",
      "source": [
        "Counter(np.argmax(test_city, axis=1))"
      ],
      "metadata": {
        "colab": {
          "base_uri": "https://localhost:8080/"
        },
        "id": "PWKQm64JuTxv",
        "outputId": "3a84b5d5-baad-4f23-c308-b30a711c54a9"
      },
      "id": "PWKQm64JuTxv",
      "execution_count": 12,
      "outputs": [
        {
          "output_type": "execute_result",
          "data": {
            "text/plain": [
              "Counter({2: 980, 1: 1126, 0: 991, 3: 1527, 4: 1015})"
            ]
          },
          "metadata": {},
          "execution_count": 12
        }
      ]
    },
    {
      "cell_type": "code",
      "source": [
        "Counter(np.argmax(train_class, axis=1))"
      ],
      "metadata": {
        "colab": {
          "base_uri": "https://localhost:8080/"
        },
        "id": "wqP8dulYuYbo",
        "outputId": "8504d7a1-3599-4444-b55f-9024a842e196"
      },
      "id": "wqP8dulYuYbo",
      "execution_count": 13,
      "outputs": [
        {
          "output_type": "execute_result",
          "data": {
            "text/plain": [
              "Counter({3: 1446,\n",
              "         9: 909,\n",
              "         0: 6836,\n",
              "         4: 1520,\n",
              "         13: 7428,\n",
              "         11: 1185,\n",
              "         10: 650,\n",
              "         6: 608,\n",
              "         17: 369,\n",
              "         14: 117,\n",
              "         16: 362,\n",
              "         2: 99,\n",
              "         15: 373,\n",
              "         8: 255,\n",
              "         5: 205,\n",
              "         1: 132,\n",
              "         7: 37,\n",
              "         12: 25})"
            ]
          },
          "metadata": {},
          "execution_count": 13
        }
      ]
    },
    {
      "cell_type": "code",
      "source": [
        "Counter(np.argmax(test_class, axis=1))"
      ],
      "metadata": {
        "colab": {
          "base_uri": "https://localhost:8080/"
        },
        "id": "PG721xZIuV2I",
        "outputId": "0bf7cc4d-f9e7-43ca-ad76-852648214525"
      },
      "id": "PG721xZIuV2I",
      "execution_count": 14,
      "outputs": [
        {
          "output_type": "execute_result",
          "data": {
            "text/plain": [
              "Counter({13: 1870,\n",
              "         11: 338,\n",
              "         4: 391,\n",
              "         10: 171,\n",
              "         9: 225,\n",
              "         2: 28,\n",
              "         0: 1681,\n",
              "         6: 139,\n",
              "         3: 332,\n",
              "         14: 30,\n",
              "         5: 55,\n",
              "         17: 100,\n",
              "         16: 89,\n",
              "         15: 91,\n",
              "         8: 54,\n",
              "         1: 35,\n",
              "         7: 7,\n",
              "         12: 3})"
            ]
          },
          "metadata": {},
          "execution_count": 14
        }
      ]
    },
    {
      "cell_type": "markdown",
      "metadata": {
        "id": "T-4yLz0MTaXC"
      },
      "source": [
        "# Networks"
      ],
      "id": "T-4yLz0MTaXC"
    },
    {
      "cell_type": "code",
      "execution_count": 15,
      "metadata": {
        "id": "fGLOd5UQNjJf"
      },
      "outputs": [],
      "source": [
        "def basic_model(input_name):\n",
        "  # 1\n",
        "  model_input = Input(shape=(128, 128, 3), name=input_name)\n",
        "  conv2d1 = Conv2D(filters=32, kernel_size=(3,3), activation='relu')(model_input)\n",
        "  norm1 = BatchNormalization()(conv2d1)\n",
        "  # 2\n",
        "  pool1 = MaxPooling2D(pool_size=(2,2))(norm1)\n",
        "  norm2 = BatchNormalization()(pool1)\n",
        "  # 1\n",
        "  conv2d2 = Conv2D(filters=32, kernel_size=(3,3), activation='relu')(norm2)\n",
        "  norm3 = BatchNormalization()(conv2d2)\n",
        "  # 2\n",
        "  pool2 = MaxPooling2D(pool_size=(2,2))(norm3)\n",
        "  norm4 = BatchNormalization()(pool2)\n",
        "  # 15\n",
        "  flat = Flatten()(norm4)\n",
        "  dense = Dense(2048, activation='relu')(flat)\n",
        "  model_output = Dropout(0.2)(dense)\n",
        "  return model_input, model_output"
      ],
      "id": "fGLOd5UQNjJf"
    },
    {
      "cell_type": "markdown",
      "metadata": {
        "id": "621d513b"
      },
      "source": [
        "## e128"
      ],
      "id": "621d513b"
    },
    {
      "cell_type": "markdown",
      "metadata": {
        "id": "lHLQo_VVNzku"
      },
      "source": [
        "Get input and initial output layers"
      ],
      "id": "lHLQo_VVNzku"
    },
    {
      "cell_type": "code",
      "execution_count": 16,
      "metadata": {
        "id": "415874dd"
      },
      "outputs": [],
      "source": [
        "basic_input, basic_output = basic_model('main_input')"
      ],
      "id": "415874dd"
    },
    {
      "cell_type": "markdown",
      "metadata": {
        "id": "38e6CCGSN7na"
      },
      "source": [
        "Attach 2 outputs"
      ],
      "id": "38e6CCGSN7na"
    },
    {
      "cell_type": "code",
      "execution_count": 17,
      "metadata": {
        "id": "r-r-f8S0OAb4"
      },
      "outputs": [],
      "source": [
        "#City\n",
        "merged_hidden_city = Dense(2048, activation='relu')(basic_output)\n",
        "merged_drop_city = Dropout(0.2)(merged_hidden_city)\n",
        "city_output = Dense(len(np.unique(city_data)), activation='softmax', name='city_output')(merged_drop_city)\n",
        "\n",
        "#Class\n",
        "merged_hidden_class = Dense(2048, activation='relu')(basic_output)\n",
        "merged_drop_class = Dropout(0.2)(merged_hidden_class)\n",
        "class_output = Dense(len(np.unique(class_data)), activation='softmax', name='class_output')(merged_drop_class)"
      ],
      "id": "r-r-f8S0OAb4"
    },
    {
      "cell_type": "code",
      "execution_count": 18,
      "metadata": {
        "id": "enon5lo6OC-1"
      },
      "outputs": [],
      "source": [
        "e128_model = Model(inputs=basic_input, outputs=[city_output, class_output])\n",
        "# e128_model.compile(optimizer='adam', loss=['categorical_crossentropy', 'categorical_crossentropy'], metrics=['accuracy'])\n",
        "gamma = 0.5\n",
        "e128_model.compile(optimizer='adam',\n",
        "                  loss={'city_output': 'categorical_crossentropy', \n",
        "                        'class_output': 'categorical_crossentropy'},\n",
        "                  loss_weights={'city_output': gamma, \n",
        "                                'class_output': 1 - gamma}, \n",
        "                  metrics=['accuracy'])"
      ],
      "id": "enon5lo6OC-1"
    },
    {
      "cell_type": "code",
      "execution_count": 19,
      "metadata": {
        "colab": {
          "base_uri": "https://localhost:8080/"
        },
        "id": "f0cdac61",
        "outputId": "0da01000-c6b8-4089-ccf7-e7593c6340a3"
      },
      "outputs": [
        {
          "output_type": "stream",
          "name": "stdout",
          "text": [
            "Epoch 1/15\n",
            "705/705 [==============================] - 33s 34ms/step - loss: 1.7657 - city_output_loss: 1.2703 - class_output_loss: 2.2610 - city_output_accuracy: 0.6649 - class_output_accuracy: 0.4085 - val_loss: 1.4174 - val_city_output_loss: 1.0693 - val_class_output_loss: 1.7654 - val_city_output_accuracy: 0.5973 - val_class_output_accuracy: 0.4029\n",
            "Epoch 2/15\n",
            "705/705 [==============================] - 23s 33ms/step - loss: 1.1041 - city_output_loss: 0.6269 - class_output_loss: 1.5812 - city_output_accuracy: 0.7746 - class_output_accuracy: 0.4577 - val_loss: 1.3575 - val_city_output_loss: 0.9523 - val_class_output_loss: 1.7628 - val_city_output_accuracy: 0.6203 - val_class_output_accuracy: 0.4362\n",
            "Epoch 3/15\n",
            "705/705 [==============================] - 23s 33ms/step - loss: 0.9858 - city_output_loss: 0.5337 - class_output_loss: 1.4380 - city_output_accuracy: 0.8154 - class_output_accuracy: 0.5098 - val_loss: 1.6667 - val_city_output_loss: 1.2949 - val_class_output_loss: 2.0385 - val_city_output_accuracy: 0.5345 - val_class_output_accuracy: 0.3736\n",
            "Epoch 4/15\n",
            "705/705 [==============================] - 23s 33ms/step - loss: 0.7590 - city_output_loss: 0.3811 - class_output_loss: 1.1369 - city_output_accuracy: 0.8689 - class_output_accuracy: 0.6069 - val_loss: 1.4152 - val_city_output_loss: 0.8679 - val_class_output_loss: 1.9624 - val_city_output_accuracy: 0.6900 - val_class_output_accuracy: 0.3885\n",
            "Epoch 5/15\n",
            "705/705 [==============================] - 23s 33ms/step - loss: 0.5751 - city_output_loss: 0.2996 - class_output_loss: 0.8506 - city_output_accuracy: 0.9018 - class_output_accuracy: 0.7091 - val_loss: 1.9637 - val_city_output_loss: 1.9366 - val_class_output_loss: 1.9908 - val_city_output_accuracy: 0.5290 - val_class_output_accuracy: 0.3979\n",
            "Epoch 6/15\n",
            "705/705 [==============================] - 23s 33ms/step - loss: 0.4612 - city_output_loss: 0.2731 - class_output_loss: 0.6493 - city_output_accuracy: 0.9129 - class_output_accuracy: 0.7897 - val_loss: 1.7908 - val_city_output_loss: 1.3338 - val_class_output_loss: 2.2478 - val_city_output_accuracy: 0.6482 - val_class_output_accuracy: 0.3861\n",
            "Epoch 7/15\n",
            "705/705 [==============================] - 23s 33ms/step - loss: 0.3553 - city_output_loss: 0.2211 - class_output_loss: 0.4896 - city_output_accuracy: 0.9291 - class_output_accuracy: 0.8457 - val_loss: 2.5206 - val_city_output_loss: 2.5365 - val_class_output_loss: 2.5047 - val_city_output_accuracy: 0.4893 - val_class_output_accuracy: 0.3761\n",
            "Epoch 8/15\n",
            "705/705 [==============================] - 23s 33ms/step - loss: 0.2955 - city_output_loss: 0.1852 - class_output_loss: 0.4059 - city_output_accuracy: 0.9401 - class_output_accuracy: 0.8771 - val_loss: 2.0342 - val_city_output_loss: 1.2833 - val_class_output_loss: 2.7851 - val_city_output_accuracy: 0.6522 - val_class_output_accuracy: 0.3637\n",
            "Epoch 9/15\n",
            "705/705 [==============================] - 23s 33ms/step - loss: 0.2680 - city_output_loss: 0.1805 - class_output_loss: 0.3554 - city_output_accuracy: 0.9439 - class_output_accuracy: 0.8958 - val_loss: 1.9641 - val_city_output_loss: 1.1868 - val_class_output_loss: 2.7415 - val_city_output_accuracy: 0.6725 - val_class_output_accuracy: 0.3846\n",
            "Epoch 10/15\n",
            "705/705 [==============================] - 23s 33ms/step - loss: 0.2347 - city_output_loss: 0.1749 - class_output_loss: 0.2946 - city_output_accuracy: 0.9504 - class_output_accuracy: 0.9115 - val_loss: 2.4589 - val_city_output_loss: 1.5998 - val_class_output_loss: 3.3180 - val_city_output_accuracy: 0.6592 - val_class_output_accuracy: 0.3871\n",
            "Epoch 11/15\n",
            "705/705 [==============================] - 23s 33ms/step - loss: 0.1916 - city_output_loss: 0.1440 - class_output_loss: 0.2392 - city_output_accuracy: 0.9582 - class_output_accuracy: 0.9295 - val_loss: 2.6916 - val_city_output_loss: 2.1160 - val_class_output_loss: 3.2671 - val_city_output_accuracy: 0.6106 - val_class_output_accuracy: 0.3859\n",
            "Epoch 12/15\n",
            "705/705 [==============================] - 23s 33ms/step - loss: 0.1705 - city_output_loss: 0.1301 - class_output_loss: 0.2108 - city_output_accuracy: 0.9618 - class_output_accuracy: 0.9402 - val_loss: 2.5978 - val_city_output_loss: 1.9639 - val_class_output_loss: 3.2317 - val_city_output_accuracy: 0.6143 - val_class_output_accuracy: 0.4059\n",
            "Epoch 13/15\n",
            "705/705 [==============================] - 23s 33ms/step - loss: 0.1698 - city_output_loss: 0.1231 - class_output_loss: 0.2165 - city_output_accuracy: 0.9652 - class_output_accuracy: 0.9400 - val_loss: 2.6876 - val_city_output_loss: 1.9824 - val_class_output_loss: 3.3928 - val_city_output_accuracy: 0.5907 - val_class_output_accuracy: 0.2883\n",
            "Epoch 14/15\n",
            "705/705 [==============================] - 23s 33ms/step - loss: 0.1502 - city_output_loss: 0.1156 - class_output_loss: 0.1847 - city_output_accuracy: 0.9672 - class_output_accuracy: 0.9485 - val_loss: 3.2032 - val_city_output_loss: 2.2185 - val_class_output_loss: 4.1879 - val_city_output_accuracy: 0.5950 - val_class_output_accuracy: 0.3302\n",
            "Epoch 15/15\n",
            "705/705 [==============================] - 23s 33ms/step - loss: 0.1364 - city_output_loss: 0.1084 - class_output_loss: 0.1644 - city_output_accuracy: 0.9682 - class_output_accuracy: 0.9539 - val_loss: 2.6628 - val_city_output_loss: 1.8297 - val_class_output_loss: 3.4959 - val_city_output_accuracy: 0.6565 - val_class_output_accuracy: 0.3999\n"
          ]
        }
      ],
      "source": [
        "e128_history = e128_model.fit(train_128, {'city_output': train_city, 'class_output': train_class},\n",
        "                              # batch_size=20,\n",
        "                              epochs=15,\n",
        "                              shuffle=True,\n",
        "                              validation_data=(test_128, {'city_output': test_city, 'class_output': test_class})\n",
        "                 )"
      ],
      "id": "f0cdac61"
    },
    {
      "cell_type": "markdown",
      "metadata": {
        "id": "flpI0N8YH9Ea"
      },
      "source": [
        "## e256"
      ],
      "id": "flpI0N8YH9Ea"
    },
    {
      "cell_type": "markdown",
      "metadata": {
        "id": "2swgOChKH9Eb"
      },
      "source": [
        "Get input and initial output layers"
      ],
      "id": "2swgOChKH9Eb"
    },
    {
      "cell_type": "code",
      "execution_count": 20,
      "metadata": {
        "id": "UPerj6mjH9Eb"
      },
      "outputs": [],
      "source": [
        "basic_input, basic_output = basic_model('main_input')"
      ],
      "id": "UPerj6mjH9Eb"
    },
    {
      "cell_type": "markdown",
      "metadata": {
        "id": "Dp9bkREDH9Eb"
      },
      "source": [
        "Attach 2 outputs"
      ],
      "id": "Dp9bkREDH9Eb"
    },
    {
      "cell_type": "code",
      "execution_count": 21,
      "metadata": {
        "id": "f7FY9NMRH9Eb"
      },
      "outputs": [],
      "source": [
        "#City\n",
        "merged_hidden_city = Dense(2048, activation='relu')(basic_output)\n",
        "merged_drop_city = Dropout(0.2)(merged_hidden_city)\n",
        "city_output = Dense(len(np.unique(city_data)), activation='softmax', name='city_output')(merged_drop_city)\n",
        "\n",
        "#Class\n",
        "merged_hidden_class = Dense(2048, activation='relu')(basic_output)\n",
        "merged_drop_class = Dropout(0.2)(merged_hidden_class)\n",
        "class_output = Dense(len(np.unique(class_data)), activation='softmax', name='class_output')(merged_drop_class)"
      ],
      "id": "f7FY9NMRH9Eb"
    },
    {
      "cell_type": "code",
      "execution_count": 22,
      "metadata": {
        "id": "TIZbgOXaH9Eb"
      },
      "outputs": [],
      "source": [
        "e256_model = Model(inputs=basic_input, outputs=[city_output, class_output])\n",
        "# e256_model.compile(optimizer='adam', loss=['categorical_crossentropy', 'categorical_crossentropy'], metrics=['accuracy'])\n",
        "gamma = 0.5\n",
        "e256_model.compile(optimizer='adam',\n",
        "                  loss={'city_output': 'categorical_crossentropy', \n",
        "                        'class_output': 'categorical_crossentropy'},\n",
        "                  loss_weights={'city_output': gamma, \n",
        "                                'class_output': 1 - gamma}, \n",
        "                  metrics=['accuracy'])"
      ],
      "id": "TIZbgOXaH9Eb"
    },
    {
      "cell_type": "code",
      "execution_count": 23,
      "metadata": {
        "colab": {
          "base_uri": "https://localhost:8080/"
        },
        "id": "mAcESDSKH9Eb",
        "outputId": "4b0cf403-b2cd-4fbc-88a9-3fe5b40b219c"
      },
      "outputs": [
        {
          "output_type": "stream",
          "name": "stdout",
          "text": [
            "Epoch 1/15\n",
            "705/705 [==============================] - 25s 33ms/step - loss: 1.6453 - city_output_loss: 1.1674 - class_output_loss: 2.1232 - city_output_accuracy: 0.7136 - class_output_accuracy: 0.4238 - val_loss: 1.9798 - val_city_output_loss: 2.0517 - val_class_output_loss: 1.9079 - val_city_output_accuracy: 0.3105 - val_class_output_accuracy: 0.3910\n",
            "Epoch 2/15\n",
            "705/705 [==============================] - 23s 33ms/step - loss: 1.0105 - city_output_loss: 0.5318 - class_output_loss: 1.4892 - city_output_accuracy: 0.8194 - class_output_accuracy: 0.4847 - val_loss: 2.3825 - val_city_output_loss: 2.6804 - val_class_output_loss: 2.0845 - val_city_output_accuracy: 0.4660 - val_class_output_accuracy: 0.3878\n",
            "Epoch 3/15\n",
            "705/705 [==============================] - 23s 33ms/step - loss: 0.8613 - city_output_loss: 0.4385 - class_output_loss: 1.2842 - city_output_accuracy: 0.8556 - class_output_accuracy: 0.5562 - val_loss: 1.6923 - val_city_output_loss: 1.6038 - val_class_output_loss: 1.7809 - val_city_output_accuracy: 0.6622 - val_class_output_accuracy: 0.4105\n",
            "Epoch 4/15\n",
            "705/705 [==============================] - 23s 33ms/step - loss: 0.6374 - city_output_loss: 0.3061 - class_output_loss: 0.9688 - city_output_accuracy: 0.9019 - class_output_accuracy: 0.6665 - val_loss: 2.0200 - val_city_output_loss: 1.3256 - val_class_output_loss: 2.7144 - val_city_output_accuracy: 0.6196 - val_class_output_accuracy: 0.3102\n",
            "Epoch 5/15\n",
            "705/705 [==============================] - 23s 33ms/step - loss: 0.4671 - city_output_loss: 0.2421 - class_output_loss: 0.6921 - city_output_accuracy: 0.9211 - class_output_accuracy: 0.7697 - val_loss: 2.5311 - val_city_output_loss: 2.5342 - val_class_output_loss: 2.5280 - val_city_output_accuracy: 0.5930 - val_class_output_accuracy: 0.3637\n",
            "Epoch 6/15\n",
            "705/705 [==============================] - 23s 33ms/step - loss: 0.3646 - city_output_loss: 0.2076 - class_output_loss: 0.5217 - city_output_accuracy: 0.9336 - class_output_accuracy: 0.8334 - val_loss: 3.0760 - val_city_output_loss: 2.4266 - val_class_output_loss: 3.7254 - val_city_output_accuracy: 0.5852 - val_class_output_accuracy: 0.3752\n",
            "Epoch 7/15\n",
            "705/705 [==============================] - 23s 33ms/step - loss: 0.3020 - city_output_loss: 0.1951 - class_output_loss: 0.4088 - city_output_accuracy: 0.9410 - class_output_accuracy: 0.8760 - val_loss: 1.9875 - val_city_output_loss: 1.4119 - val_class_output_loss: 2.5630 - val_city_output_accuracy: 0.7143 - val_class_output_accuracy: 0.4206\n",
            "Epoch 8/15\n",
            "705/705 [==============================] - 23s 33ms/step - loss: 0.2604 - city_output_loss: 0.1786 - class_output_loss: 0.3422 - city_output_accuracy: 0.9489 - class_output_accuracy: 0.9020 - val_loss: 2.4408 - val_city_output_loss: 2.0692 - val_class_output_loss: 2.8123 - val_city_output_accuracy: 0.5013 - val_class_output_accuracy: 0.2958\n",
            "Epoch 9/15\n",
            "705/705 [==============================] - 23s 33ms/step - loss: 0.2296 - city_output_loss: 0.1622 - class_output_loss: 0.2970 - city_output_accuracy: 0.9542 - class_output_accuracy: 0.9132 - val_loss: 3.3051 - val_city_output_loss: 3.2926 - val_class_output_loss: 3.3176 - val_city_output_accuracy: 0.5364 - val_class_output_accuracy: 0.3905\n",
            "Epoch 10/15\n",
            "705/705 [==============================] - 23s 33ms/step - loss: 0.1973 - city_output_loss: 0.1369 - class_output_loss: 0.2578 - city_output_accuracy: 0.9606 - class_output_accuracy: 0.9266 - val_loss: 3.2011 - val_city_output_loss: 3.1851 - val_class_output_loss: 3.2171 - val_city_output_accuracy: 0.5464 - val_class_output_accuracy: 0.4081\n",
            "Epoch 11/15\n",
            "705/705 [==============================] - 23s 33ms/step - loss: 0.1702 - city_output_loss: 0.1317 - class_output_loss: 0.2087 - city_output_accuracy: 0.9641 - class_output_accuracy: 0.9396 - val_loss: 3.1918 - val_city_output_loss: 2.4775 - val_class_output_loss: 3.9062 - val_city_output_accuracy: 0.5866 - val_class_output_accuracy: 0.3642\n",
            "Epoch 12/15\n",
            "705/705 [==============================] - 23s 33ms/step - loss: 0.1482 - city_output_loss: 0.1064 - class_output_loss: 0.1900 - city_output_accuracy: 0.9710 - class_output_accuracy: 0.9476 - val_loss: 3.6528 - val_city_output_loss: 3.5843 - val_class_output_loss: 3.7213 - val_city_output_accuracy: 0.5444 - val_class_output_accuracy: 0.4022\n",
            "Epoch 13/15\n",
            "705/705 [==============================] - 23s 33ms/step - loss: 0.1289 - city_output_loss: 0.0946 - class_output_loss: 0.1631 - city_output_accuracy: 0.9746 - class_output_accuracy: 0.9555 - val_loss: 3.2516 - val_city_output_loss: 2.9817 - val_class_output_loss: 3.5214 - val_city_output_accuracy: 0.5781 - val_class_output_accuracy: 0.3760\n",
            "Epoch 14/15\n",
            "705/705 [==============================] - 23s 33ms/step - loss: 0.1253 - city_output_loss: 0.0873 - class_output_loss: 0.1632 - city_output_accuracy: 0.9747 - class_output_accuracy: 0.9590 - val_loss: 2.9218 - val_city_output_loss: 2.7879 - val_class_output_loss: 3.0557 - val_city_output_accuracy: 0.6038 - val_class_output_accuracy: 0.3919\n",
            "Epoch 15/15\n",
            "705/705 [==============================] - 23s 33ms/step - loss: 0.1127 - city_output_loss: 0.0903 - class_output_loss: 0.1352 - city_output_accuracy: 0.9763 - class_output_accuracy: 0.9640 - val_loss: 3.4756 - val_city_output_loss: 2.6940 - val_class_output_loss: 4.2572 - val_city_output_accuracy: 0.6258 - val_class_output_accuracy: 0.2992\n"
          ]
        }
      ],
      "source": [
        "e256_history = e256_model.fit(train_256, {'city_output': train_city, 'class_output': train_class},\n",
        "                              # batch_size=20,\n",
        "                              epochs=15,\n",
        "                              shuffle=True,\n",
        "                              validation_data=(test_256, {'city_output': test_city, 'class_output': test_class})\n",
        "                 )"
      ],
      "id": "mAcESDSKH9Eb"
    },
    {
      "cell_type": "markdown",
      "metadata": {
        "id": "OqSLXTCHIAeA"
      },
      "source": [
        "## e512"
      ],
      "id": "OqSLXTCHIAeA"
    },
    {
      "cell_type": "markdown",
      "metadata": {
        "id": "dAEH1fFbIAeA"
      },
      "source": [
        "Get input and initial output layers"
      ],
      "id": "dAEH1fFbIAeA"
    },
    {
      "cell_type": "code",
      "execution_count": 24,
      "metadata": {
        "id": "ZYqHXybFIAeA"
      },
      "outputs": [],
      "source": [
        "basic_input, basic_output = basic_model('main_input')"
      ],
      "id": "ZYqHXybFIAeA"
    },
    {
      "cell_type": "markdown",
      "metadata": {
        "id": "MNAGaequIAeA"
      },
      "source": [
        "Attach 2 outputs"
      ],
      "id": "MNAGaequIAeA"
    },
    {
      "cell_type": "code",
      "execution_count": 25,
      "metadata": {
        "id": "l9UINvtVIAeA"
      },
      "outputs": [],
      "source": [
        "#City\n",
        "merged_hidden_city = Dense(2048, activation='relu')(basic_output)\n",
        "merged_drop_city = Dropout(0.2)(merged_hidden_city)\n",
        "city_output = Dense(len(np.unique(city_data)), activation='softmax', name='city_output')(merged_drop_city)\n",
        "\n",
        "#Class\n",
        "merged_hidden_class = Dense(2048, activation='relu')(basic_output)\n",
        "merged_drop_class = Dropout(0.2)(merged_hidden_class)\n",
        "class_output = Dense(len(np.unique(class_data)), activation='softmax', name='class_output')(merged_drop_class)"
      ],
      "id": "l9UINvtVIAeA"
    },
    {
      "cell_type": "code",
      "execution_count": 26,
      "metadata": {
        "id": "yu4k1CVGIAeA"
      },
      "outputs": [],
      "source": [
        "e512_model = Model(inputs=basic_input, outputs=[city_output, class_output])\n",
        "# e512_model.compile(optimizer='adam', loss=['categorical_crossentropy', 'categorical_crossentropy'], metrics=['accuracy'])\n",
        "gamma = 0.5\n",
        "e512_model.compile(optimizer='adam',\n",
        "                  loss={'city_output': 'categorical_crossentropy', \n",
        "                        'class_output': 'categorical_crossentropy'},\n",
        "                  loss_weights={'city_output': gamma, \n",
        "                                'class_output': 1 - gamma}, \n",
        "                  metrics=['accuracy'])"
      ],
      "id": "yu4k1CVGIAeA"
    },
    {
      "cell_type": "code",
      "execution_count": 27,
      "metadata": {
        "colab": {
          "base_uri": "https://localhost:8080/"
        },
        "id": "YlawmB9_IAeA",
        "outputId": "3a11a199-7115-407a-8656-80f458ad240e"
      },
      "outputs": [
        {
          "output_type": "stream",
          "name": "stdout",
          "text": [
            "Epoch 1/15\n",
            "705/705 [==============================] - 25s 34ms/step - loss: 1.6820 - city_output_loss: 1.1715 - class_output_loss: 2.1926 - city_output_accuracy: 0.7384 - class_output_accuracy: 0.4311 - val_loss: 1.5223 - val_city_output_loss: 0.8687 - val_class_output_loss: 2.1758 - val_city_output_accuracy: 0.7156 - val_class_output_accuracy: 0.3836\n",
            "Epoch 2/15\n",
            "705/705 [==============================] - 23s 33ms/step - loss: 0.9127 - city_output_loss: 0.4036 - class_output_loss: 1.4218 - city_output_accuracy: 0.8638 - class_output_accuracy: 0.5020 - val_loss: 2.0241 - val_city_output_loss: 2.2222 - val_class_output_loss: 1.8259 - val_city_output_accuracy: 0.6146 - val_class_output_accuracy: 0.3916\n",
            "Epoch 3/15\n",
            "705/705 [==============================] - 23s 33ms/step - loss: 0.7724 - city_output_loss: 0.3443 - class_output_loss: 1.2004 - city_output_accuracy: 0.8910 - class_output_accuracy: 0.5792 - val_loss: 1.4901 - val_city_output_loss: 1.1038 - val_class_output_loss: 1.8764 - val_city_output_accuracy: 0.6625 - val_class_output_accuracy: 0.3763\n",
            "Epoch 4/15\n",
            "705/705 [==============================] - 23s 33ms/step - loss: 0.5832 - city_output_loss: 0.2651 - class_output_loss: 0.9013 - city_output_accuracy: 0.9182 - class_output_accuracy: 0.6858 - val_loss: 4.6358 - val_city_output_loss: 4.5116 - val_class_output_loss: 4.7599 - val_city_output_accuracy: 0.4151 - val_class_output_accuracy: 0.1858\n",
            "Epoch 5/15\n",
            "705/705 [==============================] - 23s 33ms/step - loss: 0.4353 - city_output_loss: 0.2141 - class_output_loss: 0.6566 - city_output_accuracy: 0.9349 - class_output_accuracy: 0.7784 - val_loss: 2.3634 - val_city_output_loss: 1.8136 - val_class_output_loss: 2.9133 - val_city_output_accuracy: 0.6799 - val_class_output_accuracy: 0.4187\n",
            "Epoch 6/15\n",
            "705/705 [==============================] - 23s 33ms/step - loss: 0.3352 - city_output_loss: 0.1708 - class_output_loss: 0.4995 - city_output_accuracy: 0.9499 - class_output_accuracy: 0.8399 - val_loss: 1.4087 - val_city_output_loss: 0.5613 - val_class_output_loss: 2.2560 - val_city_output_accuracy: 0.8340 - val_class_output_accuracy: 0.4421\n",
            "Epoch 7/15\n",
            "705/705 [==============================] - 23s 33ms/step - loss: 0.2953 - city_output_loss: 0.1845 - class_output_loss: 0.4062 - city_output_accuracy: 0.9497 - class_output_accuracy: 0.8764 - val_loss: 2.7146 - val_city_output_loss: 1.1388 - val_class_output_loss: 4.2905 - val_city_output_accuracy: 0.6921 - val_class_output_accuracy: 0.0997\n",
            "Epoch 8/15\n",
            "705/705 [==============================] - 23s 33ms/step - loss: 0.2419 - city_output_loss: 0.1595 - class_output_loss: 0.3242 - city_output_accuracy: 0.9590 - class_output_accuracy: 0.9062 - val_loss: 2.0728 - val_city_output_loss: 1.5207 - val_class_output_loss: 2.6249 - val_city_output_accuracy: 0.7425 - val_class_output_accuracy: 0.4066\n",
            "Epoch 9/15\n",
            "705/705 [==============================] - 23s 33ms/step - loss: 0.1868 - city_output_loss: 0.1182 - class_output_loss: 0.2554 - city_output_accuracy: 0.9683 - class_output_accuracy: 0.9283 - val_loss: 3.0626 - val_city_output_loss: 2.0889 - val_class_output_loss: 4.0363 - val_city_output_accuracy: 0.6526 - val_class_output_accuracy: 0.3580\n",
            "Epoch 10/15\n",
            "705/705 [==============================] - 23s 33ms/step - loss: 0.1918 - city_output_loss: 0.1295 - class_output_loss: 0.2541 - city_output_accuracy: 0.9687 - class_output_accuracy: 0.9359 - val_loss: 1.9756 - val_city_output_loss: 1.0317 - val_class_output_loss: 2.9196 - val_city_output_accuracy: 0.7086 - val_class_output_accuracy: 0.3889\n",
            "Epoch 11/15\n",
            "705/705 [==============================] - 23s 33ms/step - loss: 0.1646 - city_output_loss: 0.1080 - class_output_loss: 0.2211 - city_output_accuracy: 0.9734 - class_output_accuracy: 0.9453 - val_loss: 2.3336 - val_city_output_loss: 1.7526 - val_class_output_loss: 2.9146 - val_city_output_accuracy: 0.6217 - val_class_output_accuracy: 0.4258\n",
            "Epoch 12/15\n",
            "705/705 [==============================] - 23s 33ms/step - loss: 0.1514 - city_output_loss: 0.1021 - class_output_loss: 0.2008 - city_output_accuracy: 0.9739 - class_output_accuracy: 0.9495 - val_loss: 5.9913 - val_city_output_loss: 8.3364 - val_class_output_loss: 3.6463 - val_city_output_accuracy: 0.5254 - val_class_output_accuracy: 0.3967\n",
            "Epoch 13/15\n",
            "705/705 [==============================] - 23s 33ms/step - loss: 0.1117 - city_output_loss: 0.0741 - class_output_loss: 0.1494 - city_output_accuracy: 0.9808 - class_output_accuracy: 0.9614 - val_loss: 2.0180 - val_city_output_loss: 1.1413 - val_class_output_loss: 2.8947 - val_city_output_accuracy: 0.6639 - val_class_output_accuracy: 0.4061\n",
            "Epoch 14/15\n",
            "705/705 [==============================] - 23s 33ms/step - loss: 0.1078 - city_output_loss: 0.0785 - class_output_loss: 0.1371 - city_output_accuracy: 0.9806 - class_output_accuracy: 0.9656 - val_loss: 1.9877 - val_city_output_loss: 0.9709 - val_class_output_loss: 3.0045 - val_city_output_accuracy: 0.7439 - val_class_output_accuracy: 0.4176\n",
            "Epoch 15/15\n",
            "705/705 [==============================] - 23s 33ms/step - loss: 0.1043 - city_output_loss: 0.0730 - class_output_loss: 0.1356 - city_output_accuracy: 0.9822 - class_output_accuracy: 0.9685 - val_loss: 4.3467 - val_city_output_loss: 3.9391 - val_class_output_loss: 4.7542 - val_city_output_accuracy: 0.5918 - val_class_output_accuracy: 0.4162\n"
          ]
        }
      ],
      "source": [
        "e512_history = e512_model.fit(train_512, {'city_output': train_city, 'class_output': train_class},\n",
        "                              # batch_size=20,\n",
        "                              epochs=15,\n",
        "                              shuffle=True,\n",
        "                              validation_data=(test_512, {'city_output': test_city, 'class_output': test_class})\n",
        "                 )"
      ],
      "id": "YlawmB9_IAeA"
    },
    {
      "cell_type": "markdown",
      "metadata": {
        "id": "99e85913"
      },
      "source": [
        "## final\n",
        "\n",
        "Three inputs\n",
        "  1. e128\n",
        "  1. e256\n",
        "  1. e512\n",
        "\n",
        "Two outputs\n",
        "  1. city\n",
        "  1. class"
      ],
      "id": "99e85913"
    },
    {
      "cell_type": "markdown",
      "metadata": {
        "id": "OJyJFUdaUY5C"
      },
      "source": [
        "Create the three basic input models"
      ],
      "id": "OJyJFUdaUY5C"
    },
    {
      "cell_type": "code",
      "execution_count": 28,
      "metadata": {
        "id": "1543b142"
      },
      "outputs": [],
      "source": [
        "e128_input, e128_output = basic_model('e128_input')\n",
        "e256_input, e256_output = basic_model('e256_input')\n",
        "e512_input, e512_output = basic_model('e512_input')"
      ],
      "id": "1543b142"
    },
    {
      "cell_type": "markdown",
      "metadata": {
        "id": "5076bea0"
      },
      "source": [
        "Concatenating outputs of three models"
      ],
      "id": "5076bea0"
    },
    {
      "cell_type": "code",
      "execution_count": 29,
      "metadata": {
        "id": "87aff582"
      },
      "outputs": [],
      "source": [
        "merged = concatenate([e128_output, e256_output, e512_output])"
      ],
      "id": "87aff582"
    },
    {
      "cell_type": "markdown",
      "metadata": {
        "id": "qnv3hCXuUjd_"
      },
      "source": [
        "Defining the outputs"
      ],
      "id": "qnv3hCXuUjd_"
    },
    {
      "cell_type": "code",
      "execution_count": 30,
      "metadata": {
        "id": "89974d5f"
      },
      "outputs": [],
      "source": [
        "#City\n",
        "merged_hidden_city = Dense(2048, activation='relu')(merged)\n",
        "merged_drop_city = Dropout(0.2)(merged_hidden_city)\n",
        "city_output = Dense(len(np.unique(city_data)), activation='softmax', name='city_output')(merged_drop_city)\n",
        "\n",
        "#Class\n",
        "merged_hidden_class = Dense(2048, activation='relu')(merged)\n",
        "merged_drop_class = Dropout(0.2)(merged_hidden_class)\n",
        "class_output = Dense(len(np.unique(class_data)), activation='softmax', name='class_output')(merged_drop_class)"
      ],
      "id": "89974d5f"
    },
    {
      "cell_type": "code",
      "execution_count": 31,
      "metadata": {
        "id": "4c57546c"
      },
      "outputs": [],
      "source": [
        "final_model = Model(inputs=[e128_input, e256_input, e512_input], outputs=[city_output, class_output])\n",
        "# final_model.compile(optimizer='adam', loss=['categorical_crossentropy', 'categorical_crossentropy'], metrics=['accuracy'])\n",
        "gamma = 0.5\n",
        "final_model.compile(optimizer='adam',\n",
        "                  loss={'city_output': 'categorical_crossentropy', \n",
        "                        'class_output': 'categorical_crossentropy'},\n",
        "                  loss_weights={'city_output': gamma, \n",
        "                                'class_output': 1 - gamma}, \n",
        "                  metrics=['accuracy'])"
      ],
      "id": "4c57546c"
    },
    {
      "cell_type": "markdown",
      "metadata": {
        "id": "YKc8aaqyUqqQ"
      },
      "source": [
        "Training model"
      ],
      "id": "YKc8aaqyUqqQ"
    },
    {
      "cell_type": "code",
      "execution_count": 32,
      "metadata": {
        "colab": {
          "base_uri": "https://localhost:8080/"
        },
        "id": "55e79ff7",
        "outputId": "6ee3077b-a643-42b4-80f2-21e1c0bec53e"
      },
      "outputs": [
        {
          "output_type": "stream",
          "name": "stdout",
          "text": [
            "Epoch 1/15\n",
            "705/705 [==============================] - 68s 94ms/step - loss: 1.9144 - city_output_loss: 1.4045 - class_output_loss: 2.4244 - city_output_accuracy: 0.7386 - class_output_accuracy: 0.4114 - val_loss: 1.2435 - val_city_output_loss: 0.7855 - val_class_output_loss: 1.7016 - val_city_output_accuracy: 0.7526 - val_class_output_accuracy: 0.4217\n",
            "Epoch 2/15\n",
            "705/705 [==============================] - 65s 92ms/step - loss: 1.0158 - city_output_loss: 0.4582 - class_output_loss: 1.5735 - city_output_accuracy: 0.8456 - class_output_accuracy: 0.4599 - val_loss: 1.4373 - val_city_output_loss: 0.8218 - val_class_output_loss: 2.0528 - val_city_output_accuracy: 0.7452 - val_class_output_accuracy: 0.4354\n",
            "Epoch 3/15\n",
            "705/705 [==============================] - 65s 92ms/step - loss: 0.8956 - city_output_loss: 0.3373 - class_output_loss: 1.4540 - city_output_accuracy: 0.8877 - class_output_accuracy: 0.4888 - val_loss: 1.1409 - val_city_output_loss: 0.6598 - val_class_output_loss: 1.6219 - val_city_output_accuracy: 0.7732 - val_class_output_accuracy: 0.4620\n",
            "Epoch 4/15\n",
            "705/705 [==============================] - 65s 92ms/step - loss: 0.8079 - city_output_loss: 0.2886 - class_output_loss: 1.3273 - city_output_accuracy: 0.9079 - class_output_accuracy: 0.5284 - val_loss: 1.2498 - val_city_output_loss: 0.8455 - val_class_output_loss: 1.6542 - val_city_output_accuracy: 0.7702 - val_class_output_accuracy: 0.4534\n",
            "Epoch 5/15\n",
            "705/705 [==============================] - 65s 92ms/step - loss: 0.7164 - city_output_loss: 0.2485 - class_output_loss: 1.1843 - city_output_accuracy: 0.9249 - class_output_accuracy: 0.5776 - val_loss: 1.2383 - val_city_output_loss: 0.7083 - val_class_output_loss: 1.7684 - val_city_output_accuracy: 0.8376 - val_class_output_accuracy: 0.4570\n",
            "Epoch 6/15\n",
            "705/705 [==============================] - 65s 92ms/step - loss: 0.6309 - city_output_loss: 0.2180 - class_output_loss: 1.0438 - city_output_accuracy: 0.9381 - class_output_accuracy: 0.6272 - val_loss: 1.6585 - val_city_output_loss: 1.3117 - val_class_output_loss: 2.0052 - val_city_output_accuracy: 0.7601 - val_class_output_accuracy: 0.4664\n",
            "Epoch 7/15\n",
            "705/705 [==============================] - 65s 92ms/step - loss: 0.5554 - city_output_loss: 0.1749 - class_output_loss: 0.9360 - city_output_accuracy: 0.9515 - class_output_accuracy: 0.6801 - val_loss: 1.8641 - val_city_output_loss: 0.8177 - val_class_output_loss: 2.9104 - val_city_output_accuracy: 0.8314 - val_class_output_accuracy: 0.4075\n",
            "Epoch 8/15\n",
            "705/705 [==============================] - 65s 92ms/step - loss: 0.4574 - city_output_loss: 0.1417 - class_output_loss: 0.7731 - city_output_accuracy: 0.9619 - class_output_accuracy: 0.7378 - val_loss: 1.7917 - val_city_output_loss: 1.3021 - val_class_output_loss: 2.2814 - val_city_output_accuracy: 0.7645 - val_class_output_accuracy: 0.4144\n",
            "Epoch 9/15\n",
            "705/705 [==============================] - 65s 92ms/step - loss: 0.4291 - city_output_loss: 0.1604 - class_output_loss: 0.6978 - city_output_accuracy: 0.9610 - class_output_accuracy: 0.7764 - val_loss: 2.2841 - val_city_output_loss: 2.2444 - val_class_output_loss: 2.3237 - val_city_output_accuracy: 0.6084 - val_class_output_accuracy: 0.3612\n",
            "Epoch 10/15\n",
            "705/705 [==============================] - 65s 92ms/step - loss: 0.3404 - city_output_loss: 0.1212 - class_output_loss: 0.5596 - city_output_accuracy: 0.9687 - class_output_accuracy: 0.8240 - val_loss: 1.6309 - val_city_output_loss: 0.7082 - val_class_output_loss: 2.5537 - val_city_output_accuracy: 0.8642 - val_class_output_accuracy: 0.4341\n",
            "Epoch 11/15\n",
            "705/705 [==============================] - 65s 92ms/step - loss: 0.2758 - city_output_loss: 0.0879 - class_output_loss: 0.4636 - city_output_accuracy: 0.9773 - class_output_accuracy: 0.8608 - val_loss: 2.1665 - val_city_output_loss: 1.0339 - val_class_output_loss: 3.2992 - val_city_output_accuracy: 0.8078 - val_class_output_accuracy: 0.4517\n",
            "Epoch 12/15\n",
            "705/705 [==============================] - 65s 92ms/step - loss: 0.2540 - city_output_loss: 0.0907 - class_output_loss: 0.4173 - city_output_accuracy: 0.9771 - class_output_accuracy: 0.8767 - val_loss: 2.3361 - val_city_output_loss: 1.4887 - val_class_output_loss: 3.1834 - val_city_output_accuracy: 0.8166 - val_class_output_accuracy: 0.4393\n",
            "Epoch 13/15\n",
            "705/705 [==============================] - 65s 92ms/step - loss: 0.2297 - city_output_loss: 0.0938 - class_output_loss: 0.3656 - city_output_accuracy: 0.9777 - class_output_accuracy: 0.8949 - val_loss: 2.3625 - val_city_output_loss: 2.4151 - val_class_output_loss: 2.3100 - val_city_output_accuracy: 0.8120 - val_class_output_accuracy: 0.4765\n",
            "Epoch 14/15\n",
            "705/705 [==============================] - 65s 92ms/step - loss: 0.2027 - city_output_loss: 0.0777 - class_output_loss: 0.3278 - city_output_accuracy: 0.9812 - class_output_accuracy: 0.9099 - val_loss: 2.6537 - val_city_output_loss: 1.6458 - val_class_output_loss: 3.6617 - val_city_output_accuracy: 0.7876 - val_class_output_accuracy: 0.4318\n",
            "Epoch 15/15\n",
            "705/705 [==============================] - 65s 92ms/step - loss: 0.2075 - city_output_loss: 0.0992 - class_output_loss: 0.3157 - city_output_accuracy: 0.9788 - class_output_accuracy: 0.9159 - val_loss: 2.7143 - val_city_output_loss: 1.3934 - val_class_output_loss: 4.0352 - val_city_output_accuracy: 0.7996 - val_class_output_accuracy: 0.4593\n"
          ]
        }
      ],
      "source": [
        "final_history = final_model.fit({'e128_input': train_128, 'e256_input': train_256, 'e512_input': train_512}, {'city_output': train_city, 'class_output': train_class},\n",
        "                                # batch_size=20,\n",
        "                                epochs=15,\n",
        "                                shuffle=True,\n",
        "                                validation_data=({'e128_input': test_128, 'e256_input': test_256, 'e512_input': test_512}, {'city_output': test_city, 'class_output': test_class})\n",
        "                 )\n",
        "                "
      ],
      "id": "55e79ff7"
    },
    {
      "cell_type": "markdown",
      "metadata": {
        "id": "2wjPwZcTEcs4"
      },
      "source": [
        "## Evaluate\n"
      ],
      "id": "2wjPwZcTEcs4"
    },
    {
      "cell_type": "code",
      "execution_count": 33,
      "metadata": {
        "colab": {
          "base_uri": "https://localhost:8080/"
        },
        "id": "Nk6DHHf9J8_g",
        "outputId": "c2175186-014b-4025-87db-88fe6c072610"
      },
      "outputs": [
        {
          "output_type": "stream",
          "name": "stdout",
          "text": [
            "177/177 [==============================] - 1s 5ms/step\n",
            "177/177 [==============================] - 1s 5ms/step\n",
            "177/177 [==============================] - 1s 5ms/step\n",
            "177/177 [==============================] - 3s 13ms/step\n"
          ]
        }
      ],
      "source": [
        "y_e128_city_pred, y_e128_class_pred = e128_model.predict(test_128)\n",
        "y_e256_city_pred, y_e256_class_pred = e256_model.predict(test_256)\n",
        "y_e512_city_pred, y_e512_class_pred = e512_model.predict(test_512)\n",
        "y_final_city_pred, y_final_class_pred = final_model.predict({'e128_input': test_128, 'e256_input': test_256, 'e512_input': test_512})"
      ],
      "id": "Nk6DHHf9J8_g"
    },
    {
      "cell_type": "code",
      "execution_count": 34,
      "metadata": {
        "id": "IOhn-wbvUkql"
      },
      "outputs": [],
      "source": [
        "y_e128_city_pred = np.argmax(y_e128_city_pred, axis=1)\n",
        "y_e256_city_pred = np.argmax(y_e256_city_pred, axis=1)\n",
        "y_e512_city_pred = np.argmax(y_e512_city_pred, axis=1)\n",
        "y_final_city_pred = np.argmax(y_final_city_pred, axis=1)\n",
        "\n",
        "y_e128_class_pred = np.argmax(y_e128_class_pred, axis=1)\n",
        "y_e256_class_pred = np.argmax(y_e256_class_pred, axis=1)\n",
        "y_e512_class_pred = np.argmax(y_e512_class_pred, axis=1)\n",
        "y_final_class_pred = np.argmax(y_final_class_pred, axis=1)"
      ],
      "id": "IOhn-wbvUkql"
    },
    {
      "cell_type": "code",
      "execution_count": 35,
      "metadata": {
        "id": "IwgNd7JZEgSh"
      },
      "outputs": [],
      "source": [
        "from sklearn.metrics import confusion_matrix\n",
        "from sklearn.metrics import f1_score\n",
        "\n",
        "\n",
        "city_y = np.argmax(test_city, axis=1)\n",
        "class_y = np.argmax(test_class, axis=1)\n",
        "\n",
        "e128_city_cm = confusion_matrix(city_y, y_e128_city_pred)\n",
        "e256_city_cm = confusion_matrix(city_y, y_e256_city_pred)\n",
        "e512_city_cm = confusion_matrix(city_y, y_e512_city_pred)\n",
        "final_city_cm = confusion_matrix(city_y, y_final_city_pred)\n",
        "\n",
        "e128_class_cm = confusion_matrix(class_y, y_e128_class_pred)\n",
        "e256_class_cm = confusion_matrix(class_y, y_e256_class_pred)\n",
        "e512_class_cm = confusion_matrix(class_y, y_e512_class_pred)\n",
        "final_class_cm = confusion_matrix(class_y, y_final_class_pred)\n",
        "\n",
        "e128_city_f1 = f1_score(city_y, y_e128_city_pred, average='micro')\n",
        "e256_city_f1 = f1_score(city_y, y_e256_city_pred, average='micro')\n",
        "e512_city_f1 = f1_score(city_y, y_e512_city_pred, average='micro')\n",
        "final_city_f1 = f1_score(city_y, y_final_city_pred, average='micro')\n",
        "\n",
        "e128_class_f1 = f1_score(class_y, y_e128_class_pred, average='micro')\n",
        "e256_class_f1 = f1_score(class_y, y_e256_class_pred, average='micro')\n",
        "e512_class_f1 = f1_score(class_y, y_e512_class_pred, average='micro')\n",
        "final_class_f1 = f1_score(class_y, y_final_class_pred, average='micro')"
      ],
      "id": "IwgNd7JZEgSh"
    },
    {
      "cell_type": "code",
      "source": [
        "e128_city_cm"
      ],
      "metadata": {
        "colab": {
          "base_uri": "https://localhost:8080/"
        },
        "id": "BqtUiw_6NyPN",
        "outputId": "bf7ca312-fb10-4c3f-c079-902debae4bc6"
      },
      "id": "BqtUiw_6NyPN",
      "execution_count": 36,
      "outputs": [
        {
          "output_type": "execute_result",
          "data": {
            "text/plain": [
              "array([[ 707,    7,    8,  213,   56],\n",
              "       [  99,  818,    6,  105,   98],\n",
              "       [ 159,   91,  434,  165,  131],\n",
              "       [  91,   46,    5, 1314,   71],\n",
              "       [ 198,   57,    9,  322,  429]])"
            ]
          },
          "metadata": {},
          "execution_count": 36
        }
      ]
    },
    {
      "cell_type": "code",
      "source": [
        "e256_city_cm"
      ],
      "metadata": {
        "colab": {
          "base_uri": "https://localhost:8080/"
        },
        "id": "xOa-7Y52N2cC",
        "outputId": "87b1f008-bf85-4f31-ceac-69377eca9cb9"
      },
      "id": "xOa-7Y52N2cC",
      "execution_count": 37,
      "outputs": [
        {
          "output_type": "execute_result",
          "data": {
            "text/plain": [
              "array([[ 506,   35,    9,  395,   46],\n",
              "       [  67,  928,   17,   83,   31],\n",
              "       [  66,  120,  330,  427,   37],\n",
              "       [  22,   15,   11, 1451,   28],\n",
              "       [ 190,   55,   19,  437,  314]])"
            ]
          },
          "metadata": {},
          "execution_count": 37
        }
      ]
    },
    {
      "cell_type": "code",
      "source": [
        "e512_city_cm"
      ],
      "metadata": {
        "colab": {
          "base_uri": "https://localhost:8080/"
        },
        "id": "_M1UwuygN5FQ",
        "outputId": "364d5575-54b9-433e-f608-8b12159952dc"
      },
      "id": "_M1UwuygN5FQ",
      "execution_count": 38,
      "outputs": [
        {
          "output_type": "execute_result",
          "data": {
            "text/plain": [
              "array([[721, 124,  30,  19,  97],\n",
              "       [ 10, 543, 536,   0,  37],\n",
              "       [157,  32, 661,  59,  71],\n",
              "       [ 50, 216, 169, 930, 162],\n",
              "       [ 73, 324, 126,  10, 482]])"
            ]
          },
          "metadata": {},
          "execution_count": 38
        }
      ]
    },
    {
      "cell_type": "code",
      "source": [
        "final_city_cm"
      ],
      "metadata": {
        "colab": {
          "base_uri": "https://localhost:8080/"
        },
        "id": "ah0aCj1OOJld",
        "outputId": "943cc44d-438e-43a9-8998-b8b93328ce3c"
      },
      "id": "ah0aCj1OOJld",
      "execution_count": 39,
      "outputs": [
        {
          "output_type": "execute_result",
          "data": {
            "text/plain": [
              "array([[ 789,   11,  142,   17,   32],\n",
              "       [  40,  922,  111,   22,   31],\n",
              "       [   4,   17,  940,    9,   10],\n",
              "       [  39,   65,  146, 1240,   37],\n",
              "       [  48,   59,  248,   42,  618]])"
            ]
          },
          "metadata": {},
          "execution_count": 39
        }
      ]
    },
    {
      "cell_type": "code",
      "source": [
        "e128_class_cm"
      ],
      "metadata": {
        "colab": {
          "base_uri": "https://localhost:8080/"
        },
        "id": "5jmfhFWFOLuz",
        "outputId": "0be2e35a-6eac-4018-96f1-331a3643fd15"
      },
      "id": "5jmfhFWFOLuz",
      "execution_count": 40,
      "outputs": [
        {
          "output_type": "execute_result",
          "data": {
            "text/plain": [
              "array([[1166,    1,   12,   46,   28,    3,    3,    0,    1,   22,   11,\n",
              "          13,    4,  347,    0,    0,    3,   21],\n",
              "       [  11,    0,    0,    4,    0,    0,    0,    0,    0,    0,    0,\n",
              "           3,    0,   17,    0,    0,    0,    0],\n",
              "       [   9,    0,    0,    4,    0,    0,    1,    1,    0,    0,    0,\n",
              "           0,    0,   13,    0,    0,    0,    0],\n",
              "       [  20,    0,    4,  137,   21,    2,    2,    1,    0,    0,    2,\n",
              "           7,    0,  136,    0,    0,    0,    0],\n",
              "       [  37,    1,    8,   90,   29,    6,    7,    1,    0,    3,    4,\n",
              "          15,    0,  180,    0,    1,    5,    4],\n",
              "       [   8,    0,    3,    6,    1,    4,    2,    0,    0,    0,    1,\n",
              "           0,    0,   30,    0,    0,    0,    0],\n",
              "       [  24,    0,    1,   24,   12,    3,    3,    1,    0,    1,    1,\n",
              "           8,    0,   60,    0,    0,    1,    0],\n",
              "       [   5,    0,    0,    0,    0,    0,    0,    0,    0,    0,    0,\n",
              "           0,    0,    2,    0,    0,    0,    0],\n",
              "       [  23,    0,    0,    3,    0,    0,    0,    0,    0,    1,    0,\n",
              "           1,    0,   25,    1,    0,    0,    0],\n",
              "       [  84,    0,    1,    1,    2,    1,    1,    0,    0,   80,    4,\n",
              "           0,    0,   47,    0,    0,    0,    4],\n",
              "       [  60,    0,    4,   15,    4,    5,    0,    2,    0,   17,   16,\n",
              "           4,    0,   35,    1,    2,    1,    5],\n",
              "       [  70,    1,    9,   65,   20,    6,    3,    2,    0,    6,    5,\n",
              "          22,    2,  120,    1,    1,    1,    4],\n",
              "       [   3,    0,    0,    0,    0,    0,    0,    0,    0,    0,    0,\n",
              "           0,    0,    0,    0,    0,    0,    0],\n",
              "       [ 649,    0,   12,  215,   70,   16,   12,    3,    2,   45,   13,\n",
              "          19,    0,  768,    5,    7,    3,   31],\n",
              "       [   7,    0,    0,    3,    1,    0,    1,    0,    0,    0,    0,\n",
              "           0,    0,   13,    1,    0,    0,    4],\n",
              "       [  23,    0,    4,    7,    1,    0,    0,    0,    0,    3,    3,\n",
              "           2,    0,   47,    0,    0,    0,    1],\n",
              "       [  17,    0,    4,   13,    7,    2,    4,    1,    0,    2,    0,\n",
              "           4,    0,   29,    0,    0,    1,    5],\n",
              "       [  31,    0,    2,    7,    5,    1,    0,    0,    0,    1,    0,\n",
              "           2,    0,   21,    1,    0,    1,   28]])"
            ]
          },
          "metadata": {},
          "execution_count": 40
        }
      ]
    },
    {
      "cell_type": "code",
      "source": [
        "e256_class_cm"
      ],
      "metadata": {
        "colab": {
          "base_uri": "https://localhost:8080/"
        },
        "id": "PMIoXOawOMub",
        "outputId": "24b03602-055e-453a-cc45-c4b7d354231b"
      },
      "id": "PMIoXOawOMub",
      "execution_count": 41,
      "outputs": [
        {
          "output_type": "execute_result",
          "data": {
            "text/plain": [
              "array([[588,   0,   0, 184, 100,  33, 249,   0,   0,   4,  15,   2,   0,\n",
              "        486,   1,   3,   2,  14],\n",
              "       [  7,   0,   0,   3,   4,   0,   6,   0,   0,   0,   0,   3,   0,\n",
              "         10,   0,   0,   0,   2],\n",
              "       [  6,   0,   0,   3,   4,   2,   3,   0,   0,   0,   0,   0,   0,\n",
              "         10,   0,   0,   0,   0],\n",
              "       [  3,   0,   0,  96,  60,   5,  46,   0,   0,   0,   0,   1,   0,\n",
              "        120,   0,   1,   0,   0],\n",
              "       [  4,   0,   0,  61, 122,  15,  88,   0,   0,   0,   0,   0,   0,\n",
              "        100,   0,   0,   1,   0],\n",
              "       [  4,   0,   0,   3,   6,   5,  12,   0,   0,   0,   2,   0,   0,\n",
              "         23,   0,   0,   0,   0],\n",
              "       [  1,   0,   0,   8,  38,   7,  32,   0,   0,   0,   1,   0,   0,\n",
              "         49,   0,   2,   1,   0],\n",
              "       [  0,   0,   0,   1,   1,   1,   2,   0,   0,   0,   0,   0,   0,\n",
              "          1,   0,   1,   0,   0],\n",
              "       [  8,   0,   0,  11,   1,   0,  12,   0,   0,   0,   1,   0,   0,\n",
              "         20,   0,   0,   0,   1],\n",
              "       [ 19,   0,   0,  12,  12,   4,  82,   0,   0,  25,   5,   0,   0,\n",
              "         62,   0,   2,   1,   1],\n",
              "       [ 23,   0,   0,   9,  26,  12,  48,   0,   0,   0,  16,   1,   0,\n",
              "         36,   0,   0,   0,   0],\n",
              "       [ 15,   0,   0,  44,  93,  20,  76,   0,   0,   0,   2,   3,   0,\n",
              "         83,   0,   0,   2,   0],\n",
              "       [  0,   0,   0,   2,   0,   0,   1,   0,   0,   0,   0,   0,   0,\n",
              "          0,   0,   0,   0,   0],\n",
              "       [209,   0,   0, 353, 160,  33, 284,   0,   0,   7,   8,   4,   0,\n",
              "        789,   0,  10,   1,  12],\n",
              "       [  0,   0,   0,  17,   4,   0,   3,   0,   0,   0,   0,   0,   0,\n",
              "          6,   0,   0,   0,   0],\n",
              "       [  6,   0,   0,   4,  12,   1,  17,   0,   0,   1,   0,   1,   0,\n",
              "         48,   0,   1,   0,   0],\n",
              "       [  6,   0,   0,   7,  25,   5,  22,   0,   0,   0,   1,   0,   0,\n",
              "         22,   0,   0,   1,   0],\n",
              "       [  7,   0,   0,  32,   7,   0,  16,   0,   0,   0,   0,   0,   0,\n",
              "         26,   0,   3,   0,   9]])"
            ]
          },
          "metadata": {},
          "execution_count": 41
        }
      ]
    },
    {
      "cell_type": "code",
      "source": [
        "e512_class_cm"
      ],
      "metadata": {
        "colab": {
          "base_uri": "https://localhost:8080/"
        },
        "id": "E3RdszioONoc",
        "outputId": "986177bb-34b9-49e3-e5be-dfdbf31c2dbc"
      },
      "id": "E3RdszioONoc",
      "execution_count": 42,
      "outputs": [
        {
          "output_type": "execute_result",
          "data": {
            "text/plain": [
              "array([[ 676,    0,    1,    8,   15,    0,    2,    0,    0,    2,    5,\n",
              "           1,    0,  958,    0,    3,    8,    2],\n",
              "       [  13,    0,    0,    1,    0,    0,    0,    0,    0,    0,    0,\n",
              "           1,    0,   20,    0,    0,    0,    0],\n",
              "       [  12,    0,    0,    1,    3,    0,    0,    0,    0,    0,    1,\n",
              "           2,    0,    8,    0,    1,    0,    0],\n",
              "       [  18,    0,    0,   45,   35,    0,    5,    0,    0,    0,    1,\n",
              "           7,    0,  214,    0,    2,    4,    1],\n",
              "       [  16,    0,    0,   16,   75,    0,    7,    0,    0,    0,    2,\n",
              "           9,    0,  261,    0,    1,    2,    2],\n",
              "       [  12,    0,    0,    2,    7,    0,    2,    0,    0,    0,    1,\n",
              "           0,    0,   29,    0,    0,    1,    1],\n",
              "       [   9,    0,    0,    6,   23,    0,    4,    0,    0,    0,    0,\n",
              "           2,    0,   89,    0,    3,    1,    2],\n",
              "       [   1,    0,    0,    0,    0,    0,    0,    0,    0,    0,    0,\n",
              "           0,    0,    6,    0,    0,    0,    0],\n",
              "       [   8,    0,    0,    0,    0,    0,    0,    0,    0,    0,    0,\n",
              "           2,    0,   44,    0,    0,    0,    0],\n",
              "       [  30,    0,    0,    1,    2,    0,    0,    0,    0,   14,    0,\n",
              "           0,    0,  177,    0,    0,    0,    1],\n",
              "       [  53,    0,    0,    4,    6,    0,    1,    0,    0,    1,    2,\n",
              "           5,    0,   95,    0,    0,    1,    3],\n",
              "       [  44,    0,    0,   20,   39,    0,    6,    0,    0,    0,    5,\n",
              "          23,    0,  187,    0,    2,    9,    3],\n",
              "       [   1,    0,    0,    0,    0,    0,    0,    0,    0,    0,    0,\n",
              "           0,    0,    2,    0,    0,    0,    0],\n",
              "       [ 227,    0,    0,   45,   52,    0,    3,    0,    0,    7,    2,\n",
              "          14,    0, 1492,    0,    4,    9,   15],\n",
              "       [   1,    0,    0,    0,    2,    0,    0,    0,    0,    0,    0,\n",
              "           0,    0,   27,    0,    0,    0,    0],\n",
              "       [   7,    0,    0,    0,    3,    0,    0,    0,    0,    0,    0,\n",
              "           2,    0,   74,    0,    0,    2,    3],\n",
              "       [  16,    0,    0,    1,    5,    0,    3,    0,    0,    0,    1,\n",
              "           1,    0,   59,    0,    1,    2,    0],\n",
              "       [   3,    0,    0,    0,    1,    0,    0,    0,    0,    0,    0,\n",
              "           1,    0,   81,    0,    0,    0,   14]])"
            ]
          },
          "metadata": {},
          "execution_count": 42
        }
      ]
    },
    {
      "cell_type": "code",
      "source": [
        "final_class_cm"
      ],
      "metadata": {
        "colab": {
          "base_uri": "https://localhost:8080/"
        },
        "id": "BSABeabLOObc",
        "outputId": "769120c1-2105-4b67-e86c-c5f8d7b26bf3"
      },
      "id": "BSABeabLOObc",
      "execution_count": 43,
      "outputs": [
        {
          "output_type": "execute_result",
          "data": {
            "text/plain": [
              "array([[1196,    3,    0,    0,   18,    0,    1,    0,    4,   80,    4,\n",
              "          15,    0,  341,    0,    4,    1,   14],\n",
              "       [  25,    0,    0,    0,    0,    0,    0,    0,    1,    2,    0,\n",
              "           0,    0,    7,    0,    0,    0,    0],\n",
              "       [  14,    0,    0,    1,    0,    0,    0,    0,    0,    0,    0,\n",
              "           1,    0,   12,    0,    0,    0,    0],\n",
              "       [   6,    0,    0,   66,   65,    1,    0,    0,    0,    1,    1,\n",
              "          13,    0,  178,    0,    0,    0,    1],\n",
              "       [  19,    0,    0,   27,  123,    0,   12,    0,    1,    7,    1,\n",
              "          25,    0,  168,    0,    0,    7,    1],\n",
              "       [  15,    0,    0,    1,    3,    1,    0,    0,    0,    6,    0,\n",
              "           1,    0,   28,    0,    0,    0,    0],\n",
              "       [  20,    0,    0,    3,   38,    0,    8,    0,    0,    1,    3,\n",
              "           4,    0,   59,    0,    2,    1,    0],\n",
              "       [   1,    0,    0,    0,    2,    0,    0,    0,    0,    2,    0,\n",
              "           0,    0,    2,    0,    0,    0,    0],\n",
              "       [  28,    0,    0,    0,    2,    0,    0,    0,    2,    1,    0,\n",
              "           2,    0,   18,    0,    1,    0,    0],\n",
              "       [  52,    0,    0,    0,    1,    0,    1,    0,    0,  127,    1,\n",
              "           0,    0,   42,    0,    1,    0,    0],\n",
              "       [  69,    0,    0,    1,   15,    0,    4,    0,    1,   30,    3,\n",
              "           2,    0,   41,    0,    1,    3,    1],\n",
              "       [  61,    1,    0,   21,   50,    0,    6,    0,    4,   10,    4,\n",
              "          40,    0,  127,    0,    2,    8,    4],\n",
              "       [   1,    0,    0,    0,    0,    0,    0,    0,    0,    0,    0,\n",
              "           0,    0,    2,    0,    0,    0,    0],\n",
              "       [ 600,    3,    0,   33,   87,    0,    5,    0,    7,  101,    1,\n",
              "          21,    0,  987,    1,    4,    8,   12],\n",
              "       [  12,    0,    0,    0,    1,    0,    0,    0,    0,    0,    0,\n",
              "           2,    0,   11,    0,    0,    0,    4],\n",
              "       [  26,    0,    0,    3,    5,    0,    0,    0,    0,   11,    0,\n",
              "           5,    0,   39,    0,    1,    0,    1],\n",
              "       [  20,    0,    0,    1,    8,    0,    6,    0,    1,   10,    0,\n",
              "           5,    0,   35,    0,    0,    2,    1],\n",
              "       [  15,    1,    0,    0,    3,    0,    0,    0,    0,    6,    1,\n",
              "           0,    0,   39,    1,    0,    0,   34]])"
            ]
          },
          "metadata": {},
          "execution_count": 43
        }
      ]
    },
    {
      "cell_type": "code",
      "source": [
        "print('e128 f1: city: {}, class: {}'.format(e128_city_f1, e128_class_f1))\n",
        "print('e256 f1: city: {}, class: {}'.format(e256_city_f1, e256_class_f1))\n",
        "print('e512 f1: city: {}, class: {}'.format(e512_city_f1, e512_class_f1))\n",
        "print('final f1: city: {}, class: {}'.format(final_city_f1, final_class_f1))"
      ],
      "metadata": {
        "colab": {
          "base_uri": "https://localhost:8080/"
        },
        "id": "jCB1wyrbDkWd",
        "outputId": "d22df57a-884b-4966-e9c1-f970d4fd6e13"
      },
      "id": "jCB1wyrbDkWd",
      "execution_count": 44,
      "outputs": [
        {
          "output_type": "stream",
          "name": "stdout",
          "text": [
            "e128 f1: city: 0.656499379322575, class: 0.39989359815570136\n",
            "e256 f1: city: 0.6258201808831353, class: 0.29916651888632734\n",
            "e512 f1: city: 0.5917715907075722, class: 0.4162085476148254\n",
            "final f1: city: 0.7996098599042383, class: 0.4593012945557723\n"
          ]
        }
      ]
    },
    {
      "cell_type": "code",
      "source": [
        "from sklearn.metrics import classification_report\n",
        "\n",
        "target_names = ''\n",
        "\n",
        "# classification_report(city_y, y_final_city_pred, target_names=target_names)\n",
        "print(classification_report(city_y, y_e128_city_pred))\n",
        "print(classification_report(city_y, y_e256_city_pred))\n",
        "print(classification_report(city_y, y_e512_city_pred))\n",
        "print(classification_report(city_y, y_final_city_pred))"
      ],
      "metadata": {
        "colab": {
          "base_uri": "https://localhost:8080/"
        },
        "id": "7enSQUY_INtx",
        "outputId": "7ed74f05-6c09-4288-89d2-a55c53031220"
      },
      "id": "7enSQUY_INtx",
      "execution_count": 45,
      "outputs": [
        {
          "output_type": "stream",
          "name": "stdout",
          "text": [
            "              precision    recall  f1-score   support\n",
            "\n",
            "           0       0.56      0.71      0.63       991\n",
            "           1       0.80      0.73      0.76      1126\n",
            "           2       0.94      0.44      0.60       980\n",
            "           3       0.62      0.86      0.72      1527\n",
            "           4       0.55      0.42      0.48      1015\n",
            "\n",
            "    accuracy                           0.66      5639\n",
            "   macro avg       0.69      0.63      0.64      5639\n",
            "weighted avg       0.69      0.66      0.65      5639\n",
            "\n",
            "              precision    recall  f1-score   support\n",
            "\n",
            "           0       0.59      0.51      0.55       991\n",
            "           1       0.80      0.82      0.81      1126\n",
            "           2       0.85      0.34      0.48       980\n",
            "           3       0.52      0.95      0.67      1527\n",
            "           4       0.69      0.31      0.43      1015\n",
            "\n",
            "    accuracy                           0.63      5639\n",
            "   macro avg       0.69      0.59      0.59      5639\n",
            "weighted avg       0.68      0.63      0.60      5639\n",
            "\n",
            "              precision    recall  f1-score   support\n",
            "\n",
            "           0       0.71      0.73      0.72       991\n",
            "           1       0.44      0.48      0.46      1126\n",
            "           2       0.43      0.67      0.53       980\n",
            "           3       0.91      0.61      0.73      1527\n",
            "           4       0.57      0.47      0.52      1015\n",
            "\n",
            "    accuracy                           0.59      5639\n",
            "   macro avg       0.61      0.59      0.59      5639\n",
            "weighted avg       0.64      0.59      0.60      5639\n",
            "\n",
            "              precision    recall  f1-score   support\n",
            "\n",
            "           0       0.86      0.80      0.83       991\n",
            "           1       0.86      0.82      0.84      1126\n",
            "           2       0.59      0.96      0.73       980\n",
            "           3       0.93      0.81      0.87      1527\n",
            "           4       0.85      0.61      0.71      1015\n",
            "\n",
            "    accuracy                           0.80      5639\n",
            "   macro avg       0.82      0.80      0.79      5639\n",
            "weighted avg       0.83      0.80      0.80      5639\n",
            "\n"
          ]
        }
      ]
    },
    {
      "cell_type": "code",
      "source": [
        "print(classification_report(class_y, y_e128_class_pred))\n",
        "print(classification_report(class_y, y_e256_class_pred))\n",
        "print(classification_report(class_y, y_e512_class_pred))\n",
        "print(classification_report(class_y, y_final_class_pred))"
      ],
      "metadata": {
        "colab": {
          "base_uri": "https://localhost:8080/"
        },
        "id": "9-qfFESfIkP5",
        "outputId": "6dd91fe5-7fca-4492-a5a8-607cec38f155"
      },
      "id": "9-qfFESfIkP5",
      "execution_count": 46,
      "outputs": [
        {
          "output_type": "stream",
          "name": "stdout",
          "text": [
            "              precision    recall  f1-score   support\n",
            "\n",
            "           0       0.52      0.69      0.59      1681\n",
            "           1       0.00      0.00      0.00        35\n",
            "           2       0.00      0.00      0.00        28\n",
            "           3       0.21      0.41      0.28       332\n",
            "           4       0.14      0.07      0.10       391\n",
            "           5       0.08      0.07      0.08        55\n",
            "           6       0.08      0.02      0.03       139\n",
            "           7       0.00      0.00      0.00         7\n",
            "           8       0.00      0.00      0.00        54\n",
            "           9       0.44      0.36      0.39       225\n",
            "          10       0.27      0.09      0.14       171\n",
            "          11       0.22      0.07      0.10       338\n",
            "          12       0.00      0.00      0.00         3\n",
            "          13       0.41      0.41      0.41      1870\n",
            "          14       0.10      0.03      0.05        30\n",
            "          15       0.00      0.00      0.00        91\n",
            "          16       0.06      0.01      0.02        89\n",
            "          17       0.26      0.28      0.27       100\n",
            "\n",
            "    accuracy                           0.40      5639\n",
            "   macro avg       0.16      0.14      0.14      5639\n",
            "weighted avg       0.36      0.40      0.37      5639\n",
            "\n",
            "              precision    recall  f1-score   support\n",
            "\n",
            "           0       0.65      0.35      0.45      1681\n",
            "           1       0.00      0.00      0.00        35\n",
            "           2       0.00      0.00      0.00        28\n",
            "           3       0.11      0.29      0.16       332\n",
            "           4       0.18      0.31      0.23       391\n",
            "           5       0.03      0.09      0.05        55\n",
            "           6       0.03      0.23      0.06       139\n",
            "           7       0.00      0.00      0.00         7\n",
            "           8       0.00      0.00      0.00        54\n",
            "           9       0.68      0.11      0.19       225\n",
            "          10       0.31      0.09      0.14       171\n",
            "          11       0.20      0.01      0.02       338\n",
            "          12       0.00      0.00      0.00         3\n",
            "          13       0.42      0.42      0.42      1870\n",
            "          14       0.00      0.00      0.00        30\n",
            "          15       0.04      0.01      0.02        91\n",
            "          16       0.11      0.01      0.02        89\n",
            "          17       0.23      0.09      0.13       100\n",
            "\n",
            "    accuracy                           0.30      5639\n",
            "   macro avg       0.17      0.11      0.11      5639\n",
            "weighted avg       0.41      0.30      0.32      5639\n",
            "\n",
            "              precision    recall  f1-score   support\n",
            "\n",
            "           0       0.59      0.40      0.48      1681\n",
            "           1       0.00      0.00      0.00        35\n",
            "           2       0.00      0.00      0.00        28\n",
            "           3       0.30      0.14      0.19       332\n",
            "           4       0.28      0.19      0.23       391\n",
            "           5       0.00      0.00      0.00        55\n",
            "           6       0.12      0.03      0.05       139\n",
            "           7       0.00      0.00      0.00         7\n",
            "           8       0.00      0.00      0.00        54\n",
            "           9       0.58      0.06      0.11       225\n",
            "          10       0.10      0.01      0.02       171\n",
            "          11       0.33      0.07      0.11       338\n",
            "          12       0.00      0.00      0.00         3\n",
            "          13       0.39      0.80      0.52      1870\n",
            "          14       0.00      0.00      0.00        30\n",
            "          15       0.00      0.00      0.00        91\n",
            "          16       0.05      0.02      0.03        89\n",
            "          17       0.30      0.14      0.19       100\n",
            "\n",
            "    accuracy                           0.42      5639\n",
            "   macro avg       0.17      0.10      0.11      5639\n",
            "weighted avg       0.40      0.42      0.36      5639\n",
            "\n",
            "              precision    recall  f1-score   support\n",
            "\n",
            "           0       0.55      0.71      0.62      1681\n",
            "           1       0.00      0.00      0.00        35\n",
            "           2       0.00      0.00      0.00        28\n",
            "           3       0.42      0.20      0.27       332\n",
            "           4       0.29      0.31      0.30       391\n",
            "           5       0.50      0.02      0.04        55\n",
            "           6       0.19      0.06      0.09       139\n",
            "           7       0.00      0.00      0.00         7\n",
            "           8       0.10      0.04      0.05        54\n",
            "           9       0.32      0.56      0.41       225\n",
            "          10       0.16      0.02      0.03       171\n",
            "          11       0.29      0.12      0.17       338\n",
            "          12       0.00      0.00      0.00         3\n",
            "          13       0.46      0.53      0.49      1870\n",
            "          14       0.00      0.00      0.00        30\n",
            "          15       0.06      0.01      0.02        91\n",
            "          16       0.07      0.02      0.03        89\n",
            "          17       0.47      0.34      0.39       100\n",
            "\n",
            "    accuracy                           0.46      5639\n",
            "   macro avg       0.22      0.16      0.16      5639\n",
            "weighted avg       0.42      0.46      0.42      5639\n",
            "\n"
          ]
        },
        {
          "output_type": "stream",
          "name": "stderr",
          "text": [
            "/usr/local/lib/python3.8/dist-packages/sklearn/metrics/_classification.py:1318: UndefinedMetricWarning: Precision and F-score are ill-defined and being set to 0.0 in labels with no predicted samples. Use `zero_division` parameter to control this behavior.\n",
            "  _warn_prf(average, modifier, msg_start, len(result))\n",
            "/usr/local/lib/python3.8/dist-packages/sklearn/metrics/_classification.py:1318: UndefinedMetricWarning: Precision and F-score are ill-defined and being set to 0.0 in labels with no predicted samples. Use `zero_division` parameter to control this behavior.\n",
            "  _warn_prf(average, modifier, msg_start, len(result))\n",
            "/usr/local/lib/python3.8/dist-packages/sklearn/metrics/_classification.py:1318: UndefinedMetricWarning: Precision and F-score are ill-defined and being set to 0.0 in labels with no predicted samples. Use `zero_division` parameter to control this behavior.\n",
            "  _warn_prf(average, modifier, msg_start, len(result))\n",
            "/usr/local/lib/python3.8/dist-packages/sklearn/metrics/_classification.py:1318: UndefinedMetricWarning: Precision and F-score are ill-defined and being set to 0.0 in labels with no predicted samples. Use `zero_division` parameter to control this behavior.\n",
            "  _warn_prf(average, modifier, msg_start, len(result))\n",
            "/usr/local/lib/python3.8/dist-packages/sklearn/metrics/_classification.py:1318: UndefinedMetricWarning: Precision and F-score are ill-defined and being set to 0.0 in labels with no predicted samples. Use `zero_division` parameter to control this behavior.\n",
            "  _warn_prf(average, modifier, msg_start, len(result))\n",
            "/usr/local/lib/python3.8/dist-packages/sklearn/metrics/_classification.py:1318: UndefinedMetricWarning: Precision and F-score are ill-defined and being set to 0.0 in labels with no predicted samples. Use `zero_division` parameter to control this behavior.\n",
            "  _warn_prf(average, modifier, msg_start, len(result))\n",
            "/usr/local/lib/python3.8/dist-packages/sklearn/metrics/_classification.py:1318: UndefinedMetricWarning: Precision and F-score are ill-defined and being set to 0.0 in labels with no predicted samples. Use `zero_division` parameter to control this behavior.\n",
            "  _warn_prf(average, modifier, msg_start, len(result))\n",
            "/usr/local/lib/python3.8/dist-packages/sklearn/metrics/_classification.py:1318: UndefinedMetricWarning: Precision and F-score are ill-defined and being set to 0.0 in labels with no predicted samples. Use `zero_division` parameter to control this behavior.\n",
            "  _warn_prf(average, modifier, msg_start, len(result))\n",
            "/usr/local/lib/python3.8/dist-packages/sklearn/metrics/_classification.py:1318: UndefinedMetricWarning: Precision and F-score are ill-defined and being set to 0.0 in labels with no predicted samples. Use `zero_division` parameter to control this behavior.\n",
            "  _warn_prf(average, modifier, msg_start, len(result))\n"
          ]
        }
      ]
    }
  ],
  "metadata": {
    "accelerator": "GPU",
    "colab": {
      "collapsed_sections": [
        "dkuM4OJ-VRpO",
        "i5kUYRaVVQo4"
      ],
      "machine_shape": "hm",
      "provenance": []
    },
    "gpuClass": "standard",
    "kernelspec": {
      "display_name": "tensorflow_env",
      "language": "python",
      "name": "tensorflow_env"
    },
    "language_info": {
      "codemirror_mode": {
        "name": "ipython",
        "version": 3
      },
      "file_extension": ".py",
      "mimetype": "text/x-python",
      "name": "python",
      "nbconvert_exporter": "python",
      "pygments_lexer": "ipython3",
      "version": "3.8.8"
    }
  },
  "nbformat": 4,
  "nbformat_minor": 5
}