{
  "cells": [
    {
      "cell_type": "markdown",
      "metadata": {
        "id": "dkuM4OJ-VRpO"
      },
      "source": [
        "# Imports"
      ],
      "id": "dkuM4OJ-VRpO"
    },
    {
      "cell_type": "code",
      "execution_count": 1,
      "metadata": {
        "id": "8cfc2c03"
      },
      "outputs": [],
      "source": [
        "import random\n",
        "import pandas as pd\n",
        "import numpy as np\n",
        "\n",
        "from keras.models import Model\n",
        "from keras.layers import Conv2D, MaxPooling2D, Flatten, Dropout, Dense, concatenate, Input, BatchNormalization\n",
        "from tensorflow import keras\n",
        "from sklearn.model_selection import train_test_split"
      ],
      "id": "8cfc2c03"
    },
    {
      "cell_type": "markdown",
      "metadata": {
        "id": "i5kUYRaVVQo4"
      },
      "source": [
        "# Connect drive"
      ],
      "id": "i5kUYRaVVQo4"
    },
    {
      "cell_type": "code",
      "execution_count": 2,
      "metadata": {
        "colab": {
          "base_uri": "https://localhost:8080/"
        },
        "id": "um8ONWeYU9FG",
        "outputId": "4a61d7f9-bd48-47b3-b154-154d91ae6464"
      },
      "outputs": [
        {
          "output_type": "stream",
          "name": "stdout",
          "text": [
            "Mounted at /content/drive/\n"
          ]
        }
      ],
      "source": [
        "from google.colab import drive\n",
        "\n",
        "drive.mount('/content/drive/', force_remount=True)"
      ],
      "id": "um8ONWeYU9FG"
    },
    {
      "cell_type": "markdown",
      "metadata": {
        "id": "VmCK-KRRVXze"
      },
      "source": [
        "# Dataset"
      ],
      "id": "VmCK-KRRVXze"
    },
    {
      "cell_type": "code",
      "execution_count": 3,
      "metadata": {
        "id": "6217fce5"
      },
      "outputs": [],
      "source": [
        "path_images=\"/content/drive/My Drive/uc project/images.npz\"\n",
        "dict_image_data = np.load(path_images)\n",
        "image_data = dict_image_data['arr_0']"
      ],
      "id": "6217fce5"
    },
    {
      "cell_type": "code",
      "source": [
        "path_cities=\"/content/drive/My Drive/uc project/cities.npz\"\n",
        "dict_city_data = np.load(path_cities)\n",
        "city_data = dict_city_data['arr_0']\n",
        "\n",
        "path_class=\"/content/drive/My Drive/uc project/classes.npz\"\n",
        "dict_class_data = np.load(path_class)\n",
        "class_data = dict_class_data['arr_0']"
      ],
      "metadata": {
        "id": "uS4Pd8B8n36z"
      },
      "id": "uS4Pd8B8n36z",
      "execution_count": 4,
      "outputs": []
    },
    {
      "cell_type": "markdown",
      "metadata": {
        "id": "VCQ3RE7aV0u8"
      },
      "source": [
        "Set number of data to use from each city and class"
      ],
      "id": "VCQ3RE7aV0u8"
    },
    {
      "cell_type": "code",
      "execution_count": 5,
      "metadata": {
        "id": "4l0IKiqzdhS_"
      },
      "outputs": [],
      "source": [
        "n = 1000"
      ],
      "id": "4l0IKiqzdhS_"
    },
    {
      "cell_type": "code",
      "execution_count": 6,
      "metadata": {
        "id": "Cd9yfhEthm-n"
      },
      "outputs": [],
      "source": [
        "city_df = pd.DataFrame(city_data, columns = ['city'])\n",
        "minmax = {}\n",
        "for city in list(city_df['city'].value_counts().index):\n",
        "  minmax[city] = {\n",
        "      'min': city_df[city_df['city'] == city].index[0],\n",
        "      'max': city_df[city_df['city'] == city].index[-1]\n",
        "  }\n",
        "city_indices = np.concatenate([random.sample(range(mm['min'], mm['max']), n) for mm in minmax.values()])"
      ],
      "id": "Cd9yfhEthm-n"
    },
    {
      "cell_type": "code",
      "execution_count": 7,
      "metadata": {
        "id": "iACd0ODz1wr_"
      },
      "outputs": [],
      "source": [
        "class_df = pd.DataFrame(class_data, columns = ['class'])\n",
        "minmax = {}\n",
        "for label in list(class_df['class'].value_counts().index):\n",
        "  minmax[label] = {\n",
        "      'min': class_df[class_df['class'] == label].index[0],\n",
        "      'max': class_df[class_df['class'] == label].index[-1]\n",
        "  }\n",
        "class_indices = np.concatenate([random.sample(range(mm['min'], mm['max']), n) for mm in minmax.values()])"
      ],
      "id": "iACd0ODz1wr_"
    },
    {
      "cell_type": "markdown",
      "metadata": {
        "id": "jH37I56SWQgB"
      },
      "source": [
        "Get subset of data"
      ],
      "id": "jH37I56SWQgB"
    },
    {
      "cell_type": "code",
      "execution_count": 8,
      "metadata": {
        "id": "bG_sBDiiRBSL"
      },
      "outputs": [],
      "source": [
        "indices = np.concatenate([city_indices, class_indices])\n",
        "# city_data = city_data[indices]\n",
        "city_data = city_data\n",
        "# class_data = class_data[indices]\n",
        "class_data = class_data"
      ],
      "id": "bG_sBDiiRBSL"
    },
    {
      "cell_type": "code",
      "execution_count": 9,
      "metadata": {
        "id": "b26d7e81"
      },
      "outputs": [],
      "source": [
        "# all 512 images resized to 128\n",
        "# data_512 = image_data[:,0][indices]\n",
        "data_512 = image_data[:,0]\n",
        "# all 512 images cropped to 256 images and resized to 128\n",
        "# data_256 = image_data[:,1][indices]\n",
        "data_256 = image_data[:,1]\n",
        "# all 512 images cropped to 128 images\n",
        "# data_128 = image_data[:,2][indices]\n",
        "data_128 = image_data[:,2]"
      ],
      "id": "b26d7e81"
    },
    {
      "cell_type": "code",
      "execution_count": 10,
      "metadata": {
        "colab": {
          "base_uri": "https://localhost:8080/"
        },
        "id": "1d4ea8ab",
        "outputId": "a6123d8a-e1b8-4aab-ba71-6d20f05208f8"
      },
      "outputs": [
        {
          "output_type": "execute_result",
          "data": {
            "text/plain": [
              "((28195,), (28195, 128, 128, 3), (28195, 128, 128, 3))"
            ]
          },
          "metadata": {},
          "execution_count": 10
        }
      ],
      "source": [
        "city_data.shape, data_512.shape, data_512.shape"
      ],
      "id": "1d4ea8ab"
    },
    {
      "cell_type": "markdown",
      "metadata": {
        "id": "a8e17fa0"
      },
      "source": [
        "Tranforming labels to onehot encoding"
      ],
      "id": "a8e17fa0"
    },
    {
      "cell_type": "code",
      "execution_count": 37,
      "metadata": {
        "id": "397d73e7"
      },
      "outputs": [],
      "source": [
        "from sklearn.preprocessing import LabelBinarizer\n",
        "label_as_binary = LabelBinarizer()\n",
        "\n",
        "city_labels = label_as_binary.fit_transform(city_data)\n",
        "class_labels = label_as_binary.fit_transform(class_data)"
      ],
      "id": "397d73e7"
    },
    {
      "cell_type": "markdown",
      "metadata": {
        "id": "09f1a6b7"
      },
      "source": [
        "Split train and test data\n"
      ],
      "id": "09f1a6b7"
    },
    {
      "cell_type": "code",
      "execution_count": 38,
      "metadata": {
        "id": "71bca9c0"
      },
      "outputs": [],
      "source": [
        "train_512, test_512, train_256, test_256, train_128, test_128, train_city, test_city, train_class, test_class = train_test_split(data_512, data_256, data_128, city_labels, class_labels, test_size=0.3, random_state=1)"
      ],
      "id": "71bca9c0"
    },
    {
      "cell_type": "markdown",
      "metadata": {
        "id": "T-4yLz0MTaXC"
      },
      "source": [
        "# Network"
      ],
      "id": "T-4yLz0MTaXC"
    },
    {
      "cell_type": "code",
      "execution_count": 13,
      "metadata": {
        "id": "fGLOd5UQNjJf"
      },
      "outputs": [],
      "source": [
        "def basic_model(input_name):\n",
        "  # 1\n",
        "  model_input = Input(shape=(128, 128, 3), name=input_name)\n",
        "  conv2d1 = Conv2D(filters=32, kernel_size=(3,3), padding='same',activation='relu')(model_input)\n",
        "  norm1 = BatchNormalization()(conv2d1)\n",
        "  # 2\n",
        "  pool1 = MaxPooling2D((2,2))(norm1)\n",
        "  norm2 = BatchNormalization()(pool1)\n",
        "  # 1\n",
        "  conv2d2 = Conv2D(filters=32, kernel_size=(3,3),activation='relu')(norm2)\n",
        "  norm3 = BatchNormalization()(conv2d2)\n",
        "  # 2\n",
        "  pool2 = MaxPooling2D((2,2))(norm3)\n",
        "  norm4 = BatchNormalization()(pool2)\n",
        "  # 15\n",
        "  flat = Flatten()(norm4)\n",
        "  dense = Dense(2048, activation='relu')(flat)\n",
        "  model_output = Dropout(0.1)(dense)\n",
        "  return model_input, model_output"
      ],
      "id": "fGLOd5UQNjJf"
    },
    {
      "cell_type": "markdown",
      "metadata": {
        "id": "621d513b"
      },
      "source": [
        "## Basic model"
      ],
      "id": "621d513b"
    },
    {
      "cell_type": "markdown",
      "source": [
        "Get input and initial output layers"
      ],
      "metadata": {
        "id": "lHLQo_VVNzku"
      },
      "id": "lHLQo_VVNzku"
    },
    {
      "cell_type": "code",
      "execution_count": 39,
      "metadata": {
        "id": "415874dd"
      },
      "outputs": [],
      "source": [
        "basic_input, basic_output = basic_model('main_input')"
      ],
      "id": "415874dd"
    },
    {
      "cell_type": "markdown",
      "source": [
        "Attach 2 outputs"
      ],
      "metadata": {
        "id": "38e6CCGSN7na"
      },
      "id": "38e6CCGSN7na"
    },
    {
      "cell_type": "code",
      "source": [
        "#City\n",
        "merged_hidden_city = Dense(2048, activation='softmax')(basic_output)\n",
        "merged_drop_city = Dropout(0.1)(merged_hidden_city)\n",
        "city_output = Dense(len(np.unique(city_data)), activation='softmax', name='city_output')(merged_drop_city)\n",
        "\n",
        "#Class\n",
        "merged_hidden_class = Dense(2048, activation='softmax')(basic_output)\n",
        "merged_drop_class = Dropout(0.1)(merged_hidden_class)\n",
        "class_output = Dense(len(np.unique(class_data)), activation='softmax', name='class_output')(merged_drop_class)"
      ],
      "metadata": {
        "id": "r-r-f8S0OAb4"
      },
      "id": "r-r-f8S0OAb4",
      "execution_count": 40,
      "outputs": []
    },
    {
      "cell_type": "code",
      "source": [
        "single_model = Model(inputs=basic_input, outputs=[city_output, class_output])\n",
        "optimizer = keras.optimizers.Adam(learning_rate=0.1)\n",
        "single_model.compile(optimizer=optimizer, loss='categorical_crossentropy', metrics=['accuracy'])"
      ],
      "metadata": {
        "id": "enon5lo6OC-1"
      },
      "id": "enon5lo6OC-1",
      "execution_count": 41,
      "outputs": []
    },
    {
      "cell_type": "code",
      "execution_count": 42,
      "metadata": {
        "colab": {
          "base_uri": "https://localhost:8080/"
        },
        "id": "f0cdac61",
        "outputId": "cf0fd1ce-caa6-4923-8da3-93bc1a8e47e8"
      },
      "outputs": [
        {
          "output_type": "stream",
          "name": "stdout",
          "text": [
            "Epoch 1/20\n",
            "617/617 [==============================] - 24s 37ms/step - loss: 3.2648 - city_output_loss: 1.6046 - class_output_loss: 1.6601 - city_output_accuracy: 0.2646 - class_output_accuracy: 0.3413 - val_loss: 3.2547 - val_city_output_loss: 1.6067 - val_class_output_loss: 1.6480 - val_city_output_accuracy: 0.2728 - val_class_output_accuracy: 0.3046\n",
            "Epoch 2/20\n",
            "617/617 [==============================] - 22s 36ms/step - loss: 3.2801 - city_output_loss: 1.6053 - class_output_loss: 1.6748 - city_output_accuracy: 0.2663 - class_output_accuracy: 0.3248 - val_loss: 3.2736 - val_city_output_loss: 1.6236 - val_class_output_loss: 1.6500 - val_city_output_accuracy: 0.1934 - val_class_output_accuracy: 0.3046\n",
            "Epoch 3/20\n",
            "617/617 [==============================] - 22s 36ms/step - loss: 3.2778 - city_output_loss: 1.6054 - class_output_loss: 1.6724 - city_output_accuracy: 0.2636 - class_output_accuracy: 0.3156 - val_loss: 3.2671 - val_city_output_loss: 1.6133 - val_class_output_loss: 1.6538 - val_city_output_accuracy: 0.1782 - val_class_output_accuracy: 0.3324\n",
            "Epoch 4/20\n",
            "617/617 [==============================] - 22s 36ms/step - loss: 3.2736 - city_output_loss: 1.6040 - class_output_loss: 1.6696 - city_output_accuracy: 0.2651 - class_output_accuracy: 0.3172 - val_loss: 3.2539 - val_city_output_loss: 1.5975 - val_class_output_loss: 1.6564 - val_city_output_accuracy: 0.2728 - val_class_output_accuracy: 0.3046\n",
            "Epoch 5/20\n",
            "617/617 [==============================] - 22s 36ms/step - loss: 3.2776 - city_output_loss: 1.6074 - class_output_loss: 1.6701 - city_output_accuracy: 0.2645 - class_output_accuracy: 0.3215 - val_loss: 3.2653 - val_city_output_loss: 1.6031 - val_class_output_loss: 1.6622 - val_city_output_accuracy: 0.2728 - val_class_output_accuracy: 0.3324\n",
            "Epoch 6/20\n",
            "617/617 [==============================] - 22s 36ms/step - loss: 3.2780 - city_output_loss: 1.6056 - class_output_loss: 1.6723 - city_output_accuracy: 0.2655 - class_output_accuracy: 0.3156 - val_loss: 3.2598 - val_city_output_loss: 1.6003 - val_class_output_loss: 1.6595 - val_city_output_accuracy: 0.2728 - val_class_output_accuracy: 0.3046\n",
            "Epoch 7/20\n",
            "617/617 [==============================] - 22s 36ms/step - loss: 3.2750 - city_output_loss: 1.6054 - class_output_loss: 1.6695 - city_output_accuracy: 0.2655 - class_output_accuracy: 0.3220 - val_loss: 3.2678 - val_city_output_loss: 1.6014 - val_class_output_loss: 1.6663 - val_city_output_accuracy: 0.2728 - val_class_output_accuracy: 0.3046\n",
            "Epoch 8/20\n",
            "617/617 [==============================] - 22s 36ms/step - loss: 3.2784 - city_output_loss: 1.6070 - class_output_loss: 1.6714 - city_output_accuracy: 0.2603 - class_output_accuracy: 0.3208 - val_loss: 3.2858 - val_city_output_loss: 1.6255 - val_class_output_loss: 1.6604 - val_city_output_accuracy: 0.1934 - val_class_output_accuracy: 0.3046\n",
            "Epoch 9/20\n",
            "617/617 [==============================] - 22s 36ms/step - loss: 3.2750 - city_output_loss: 1.6059 - class_output_loss: 1.6691 - city_output_accuracy: 0.2644 - class_output_accuracy: 0.3218 - val_loss: 3.2706 - val_city_output_loss: 1.6096 - val_class_output_loss: 1.6610 - val_city_output_accuracy: 0.1934 - val_class_output_accuracy: 0.3046\n",
            "Epoch 10/20\n",
            "617/617 [==============================] - 22s 36ms/step - loss: 3.2746 - city_output_loss: 1.6073 - class_output_loss: 1.6673 - city_output_accuracy: 0.2656 - class_output_accuracy: 0.3224 - val_loss: 3.2553 - val_city_output_loss: 1.6085 - val_class_output_loss: 1.6467 - val_city_output_accuracy: 0.2728 - val_class_output_accuracy: 0.3324\n",
            "Epoch 11/20\n",
            "617/617 [==============================] - 22s 36ms/step - loss: 3.2798 - city_output_loss: 1.6077 - class_output_loss: 1.6721 - city_output_accuracy: 0.2623 - class_output_accuracy: 0.3218 - val_loss: 3.2636 - val_city_output_loss: 1.5967 - val_class_output_loss: 1.6669 - val_city_output_accuracy: 0.2728 - val_class_output_accuracy: 0.3046\n",
            "Epoch 12/20\n",
            "617/617 [==============================] - 22s 36ms/step - loss: 3.2757 - city_output_loss: 1.6059 - class_output_loss: 1.6698 - city_output_accuracy: 0.2663 - class_output_accuracy: 0.3182 - val_loss: 3.2458 - val_city_output_loss: 1.5984 - val_class_output_loss: 1.6473 - val_city_output_accuracy: 0.2728 - val_class_output_accuracy: 0.3324\n",
            "Epoch 13/20\n",
            "617/617 [==============================] - 22s 36ms/step - loss: 3.2736 - city_output_loss: 1.6060 - class_output_loss: 1.6676 - city_output_accuracy: 0.2654 - class_output_accuracy: 0.3160 - val_loss: 3.2571 - val_city_output_loss: 1.6098 - val_class_output_loss: 1.6473 - val_city_output_accuracy: 0.2728 - val_class_output_accuracy: 0.3324\n",
            "Epoch 14/20\n",
            "617/617 [==============================] - 22s 36ms/step - loss: 3.2773 - city_output_loss: 1.6067 - class_output_loss: 1.6707 - city_output_accuracy: 0.2660 - class_output_accuracy: 0.3145 - val_loss: 3.2586 - val_city_output_loss: 1.6032 - val_class_output_loss: 1.6554 - val_city_output_accuracy: 0.2728 - val_class_output_accuracy: 0.3324\n",
            "Epoch 15/20\n",
            "617/617 [==============================] - 22s 36ms/step - loss: 3.2775 - city_output_loss: 1.6066 - class_output_loss: 1.6709 - city_output_accuracy: 0.2642 - class_output_accuracy: 0.3181 - val_loss: 3.2719 - val_city_output_loss: 1.6158 - val_class_output_loss: 1.6562 - val_city_output_accuracy: 0.1782 - val_class_output_accuracy: 0.3324\n",
            "Epoch 16/20\n",
            "617/617 [==============================] - 22s 36ms/step - loss: 3.2780 - city_output_loss: 1.6077 - class_output_loss: 1.6704 - city_output_accuracy: 0.2604 - class_output_accuracy: 0.3181 - val_loss: 3.2497 - val_city_output_loss: 1.6034 - val_class_output_loss: 1.6463 - val_city_output_accuracy: 0.2728 - val_class_output_accuracy: 0.3324\n",
            "Epoch 17/20\n",
            "617/617 [==============================] - 22s 36ms/step - loss: 3.2721 - city_output_loss: 1.6043 - class_output_loss: 1.6678 - city_output_accuracy: 0.2656 - class_output_accuracy: 0.3208 - val_loss: 3.2681 - val_city_output_loss: 1.6163 - val_class_output_loss: 1.6518 - val_city_output_accuracy: 0.1839 - val_class_output_accuracy: 0.3324\n",
            "Epoch 18/20\n",
            "617/617 [==============================] - 22s 36ms/step - loss: 3.2724 - city_output_loss: 1.6040 - class_output_loss: 1.6684 - city_output_accuracy: 0.2662 - class_output_accuracy: 0.3189 - val_loss: 3.2489 - val_city_output_loss: 1.5989 - val_class_output_loss: 1.6501 - val_city_output_accuracy: 0.2728 - val_class_output_accuracy: 0.3046\n",
            "Epoch 19/20\n",
            "617/617 [==============================] - 22s 36ms/step - loss: 3.2806 - city_output_loss: 1.6075 - class_output_loss: 1.6731 - city_output_accuracy: 0.2638 - class_output_accuracy: 0.3153 - val_loss: 3.2822 - val_city_output_loss: 1.6233 - val_class_output_loss: 1.6589 - val_city_output_accuracy: 0.2728 - val_class_output_accuracy: 0.3046\n",
            "Epoch 20/20\n",
            "617/617 [==============================] - 22s 36ms/step - loss: 3.2760 - city_output_loss: 1.6047 - class_output_loss: 1.6713 - city_output_accuracy: 0.2708 - class_output_accuracy: 0.3165 - val_loss: 3.2672 - val_city_output_loss: 1.6164 - val_class_output_loss: 1.6508 - val_city_output_accuracy: 0.2728 - val_class_output_accuracy: 0.3046\n"
          ]
        },
        {
          "output_type": "execute_result",
          "data": {
            "text/plain": [
              "<keras.callbacks.History at 0x7f2768094f10>"
            ]
          },
          "metadata": {},
          "execution_count": 42
        }
      ],
      "source": [
        "single_model.fit(train_512, {'city_output': train_city, 'class_output': train_class},\n",
        "                 batch_size=32, epochs=20, shuffle=True,\n",
        "                 validation_data=(test_512, {'city_output': test_city, 'class_output': test_class}))"
      ],
      "id": "f0cdac61"
    },
    {
      "cell_type": "markdown",
      "metadata": {
        "id": "99e85913"
      },
      "source": [
        "## Final model\n",
        "\n",
        "Three inputs\n",
        "  1. e128\n",
        "  1. e256\n",
        "  1. e512\n",
        "\n",
        "Two outputs\n",
        "  1. city\n",
        "  1. class"
      ],
      "id": "99e85913"
    },
    {
      "cell_type": "markdown",
      "metadata": {
        "id": "OJyJFUdaUY5C"
      },
      "source": [
        "Create the three basic input models"
      ],
      "id": "OJyJFUdaUY5C"
    },
    {
      "cell_type": "code",
      "execution_count": 18,
      "metadata": {
        "id": "1543b142"
      },
      "outputs": [],
      "source": [
        "e128_input, e128_output = basic_model('e128_input')\n",
        "e256_input, e256_output = basic_model('e256_input')\n",
        "e512_input, e512_output = basic_model('e512_input')"
      ],
      "id": "1543b142"
    },
    {
      "cell_type": "markdown",
      "metadata": {
        "id": "5076bea0"
      },
      "source": [
        "Concatenating outputs of three models"
      ],
      "id": "5076bea0"
    },
    {
      "cell_type": "code",
      "execution_count": 19,
      "metadata": {
        "id": "87aff582"
      },
      "outputs": [],
      "source": [
        "merged = concatenate([e128_output, e256_output, e512_output])"
      ],
      "id": "87aff582"
    },
    {
      "cell_type": "markdown",
      "metadata": {
        "id": "qnv3hCXuUjd_"
      },
      "source": [
        "Defining the outputs"
      ],
      "id": "qnv3hCXuUjd_"
    },
    {
      "cell_type": "code",
      "execution_count": 20,
      "metadata": {
        "id": "89974d5f"
      },
      "outputs": [],
      "source": [
        "#City\n",
        "merged_hidden_city = Dense(2048, activation='softmax')(merged)\n",
        "merged_drop_city = Dropout(0.1)(merged_hidden_city)\n",
        "city_output = Dense(len(np.unique(city_data)), activation='softmax', name='city_output')(merged_drop_city)\n",
        "\n",
        "#Class\n",
        "merged_hidden_class = Dense(2048, activation='softmax')(merged)\n",
        "merged_drop_class = Dropout(0.1)(merged_hidden_class)\n",
        "class_output = Dense(len(np.unique(class_data)), activation='softmax', name='class_output')(merged_drop_class)"
      ],
      "id": "89974d5f"
    },
    {
      "cell_type": "code",
      "execution_count": 21,
      "metadata": {
        "id": "4c57546c"
      },
      "outputs": [],
      "source": [
        "triple_model = Model(inputs=[e128_input, e256_input, e512_input], outputs=[city_output, class_output])\n",
        "optimizer = keras.optimizers.Adam(learning_rate=0.1)\n",
        "triple_model.compile(loss='categorical_crossentropy', optimizer=optimizer, metrics=['accuracy'])"
      ],
      "id": "4c57546c"
    },
    {
      "cell_type": "markdown",
      "metadata": {
        "id": "YKc8aaqyUqqQ"
      },
      "source": [
        "Training model"
      ],
      "id": "YKc8aaqyUqqQ"
    },
    {
      "cell_type": "code",
      "execution_count": 22,
      "metadata": {
        "id": "55e79ff7",
        "colab": {
          "base_uri": "https://localhost:8080/"
        },
        "outputId": "3d12ac55-eec9-4902-fc2d-45d20358b7e5"
      },
      "outputs": [
        {
          "output_type": "stream",
          "name": "stdout",
          "text": [
            "Epoch 1/20\n",
            "617/617 [==============================] - 64s 100ms/step - loss: 3.6103 - city_output_loss: 1.6075 - class_output_loss: 2.0028 - city_output_accuracy: 0.2608 - class_output_accuracy: 0.3136 - val_loss: 3.5697 - val_city_output_loss: 1.6078 - val_class_output_loss: 1.9619 - val_city_output_accuracy: 0.1934 - val_class_output_accuracy: 0.3324\n",
            "Epoch 2/20\n",
            "617/617 [==============================] - 60s 98ms/step - loss: 3.5991 - city_output_loss: 1.6049 - class_output_loss: 1.9942 - city_output_accuracy: 0.2651 - class_output_accuracy: 0.3200 - val_loss: 3.5900 - val_city_output_loss: 1.6009 - val_class_output_loss: 1.9891 - val_city_output_accuracy: 0.2728 - val_class_output_accuracy: 0.3046\n",
            "Epoch 3/20\n",
            "617/617 [==============================] - 60s 98ms/step - loss: 3.6038 - city_output_loss: 1.6075 - class_output_loss: 1.9964 - city_output_accuracy: 0.2598 - class_output_accuracy: 0.3156 - val_loss: 3.5803 - val_city_output_loss: 1.6144 - val_class_output_loss: 1.9659 - val_city_output_accuracy: 0.2728 - val_class_output_accuracy: 0.3046\n",
            "Epoch 4/20\n",
            "617/617 [==============================] - 60s 98ms/step - loss: 3.5984 - city_output_loss: 1.6060 - class_output_loss: 1.9924 - city_output_accuracy: 0.2607 - class_output_accuracy: 0.3213 - val_loss: 3.5666 - val_city_output_loss: 1.6058 - val_class_output_loss: 1.9608 - val_city_output_accuracy: 0.2728 - val_class_output_accuracy: 0.3324\n",
            "Epoch 5/20\n",
            "617/617 [==============================] - 60s 98ms/step - loss: 3.6028 - city_output_loss: 1.6079 - class_output_loss: 1.9949 - city_output_accuracy: 0.2624 - class_output_accuracy: 0.3177 - val_loss: 3.5760 - val_city_output_loss: 1.6045 - val_class_output_loss: 1.9715 - val_city_output_accuracy: 0.2728 - val_class_output_accuracy: 0.3324\n",
            "Epoch 6/20\n",
            "617/617 [==============================] - 60s 98ms/step - loss: 3.6028 - city_output_loss: 1.6072 - class_output_loss: 1.9956 - city_output_accuracy: 0.2651 - class_output_accuracy: 0.3188 - val_loss: 3.6102 - val_city_output_loss: 1.6215 - val_class_output_loss: 1.9886 - val_city_output_accuracy: 0.2728 - val_class_output_accuracy: 0.3324\n",
            "Epoch 7/20\n",
            "617/617 [==============================] - 60s 97ms/step - loss: 3.6020 - city_output_loss: 1.6068 - class_output_loss: 1.9951 - city_output_accuracy: 0.2635 - class_output_accuracy: 0.3169 - val_loss: 3.5849 - val_city_output_loss: 1.6042 - val_class_output_loss: 1.9807 - val_city_output_accuracy: 0.2728 - val_class_output_accuracy: 0.3046\n",
            "Epoch 8/20\n",
            "617/617 [==============================] - 60s 98ms/step - loss: 3.5989 - city_output_loss: 1.6047 - class_output_loss: 1.9942 - city_output_accuracy: 0.2631 - class_output_accuracy: 0.3202 - val_loss: 3.5856 - val_city_output_loss: 1.5985 - val_class_output_loss: 1.9871 - val_city_output_accuracy: 0.2728 - val_class_output_accuracy: 0.3324\n",
            "Epoch 9/20\n",
            "617/617 [==============================] - 60s 98ms/step - loss: 3.6002 - city_output_loss: 1.6046 - class_output_loss: 1.9956 - city_output_accuracy: 0.2665 - class_output_accuracy: 0.3167 - val_loss: 3.5622 - val_city_output_loss: 1.5972 - val_class_output_loss: 1.9650 - val_city_output_accuracy: 0.2728 - val_class_output_accuracy: 0.3324\n",
            "Epoch 10/20\n",
            "617/617 [==============================] - 61s 99ms/step - loss: 3.5991 - city_output_loss: 1.6050 - class_output_loss: 1.9942 - city_output_accuracy: 0.2630 - class_output_accuracy: 0.3233 - val_loss: 3.6534 - val_city_output_loss: 1.6650 - val_class_output_loss: 1.9884 - val_city_output_accuracy: 0.2728 - val_class_output_accuracy: 0.3046\n",
            "Epoch 11/20\n",
            "617/617 [==============================] - 60s 98ms/step - loss: 3.6007 - city_output_loss: 1.6055 - class_output_loss: 1.9952 - city_output_accuracy: 0.2637 - class_output_accuracy: 0.3205 - val_loss: 3.6116 - val_city_output_loss: 1.5993 - val_class_output_loss: 2.0123 - val_city_output_accuracy: 0.2728 - val_class_output_accuracy: 0.3324\n",
            "Epoch 12/20\n",
            "617/617 [==============================] - 60s 98ms/step - loss: 3.6007 - city_output_loss: 1.6062 - class_output_loss: 1.9945 - city_output_accuracy: 0.2649 - class_output_accuracy: 0.3179 - val_loss: 3.5899 - val_city_output_loss: 1.6046 - val_class_output_loss: 1.9853 - val_city_output_accuracy: 0.2728 - val_class_output_accuracy: 0.3324\n",
            "Epoch 13/20\n",
            "617/617 [==============================] - 60s 98ms/step - loss: 3.6002 - city_output_loss: 1.6060 - class_output_loss: 1.9942 - city_output_accuracy: 0.2649 - class_output_accuracy: 0.3250 - val_loss: 3.5738 - val_city_output_loss: 1.6005 - val_class_output_loss: 1.9733 - val_city_output_accuracy: 0.2728 - val_class_output_accuracy: 0.3324\n",
            "Epoch 14/20\n",
            "617/617 [==============================] - 60s 98ms/step - loss: 3.6039 - city_output_loss: 1.6074 - class_output_loss: 1.9964 - city_output_accuracy: 0.2654 - class_output_accuracy: 0.3207 - val_loss: 3.5901 - val_city_output_loss: 1.6098 - val_class_output_loss: 1.9803 - val_city_output_accuracy: 0.2728 - val_class_output_accuracy: 0.3324\n",
            "Epoch 15/20\n",
            "617/617 [==============================] - 60s 97ms/step - loss: 3.6024 - city_output_loss: 1.6071 - class_output_loss: 1.9953 - city_output_accuracy: 0.2646 - class_output_accuracy: 0.3163 - val_loss: 3.5807 - val_city_output_loss: 1.6022 - val_class_output_loss: 1.9785 - val_city_output_accuracy: 0.2728 - val_class_output_accuracy: 0.3324\n",
            "Epoch 16/20\n",
            "617/617 [==============================] - 60s 98ms/step - loss: 3.6012 - city_output_loss: 1.6064 - class_output_loss: 1.9949 - city_output_accuracy: 0.2635 - class_output_accuracy: 0.3186 - val_loss: 3.5732 - val_city_output_loss: 1.6039 - val_class_output_loss: 1.9693 - val_city_output_accuracy: 0.2728 - val_class_output_accuracy: 0.3324\n",
            "Epoch 17/20\n",
            "617/617 [==============================] - 60s 97ms/step - loss: 3.5994 - city_output_loss: 1.6072 - class_output_loss: 1.9922 - city_output_accuracy: 0.2640 - class_output_accuracy: 0.3175 - val_loss: 3.5784 - val_city_output_loss: 1.5963 - val_class_output_loss: 1.9821 - val_city_output_accuracy: 0.2728 - val_class_output_accuracy: 0.3324\n",
            "Epoch 18/20\n",
            "617/617 [==============================] - 60s 98ms/step - loss: 3.6010 - city_output_loss: 1.6056 - class_output_loss: 1.9954 - city_output_accuracy: 0.2663 - class_output_accuracy: 0.3159 - val_loss: 3.5868 - val_city_output_loss: 1.6099 - val_class_output_loss: 1.9769 - val_city_output_accuracy: 0.1782 - val_class_output_accuracy: 0.3324\n",
            "Epoch 19/20\n",
            "617/617 [==============================] - 60s 98ms/step - loss: 3.5968 - city_output_loss: 1.6046 - class_output_loss: 1.9922 - city_output_accuracy: 0.2666 - class_output_accuracy: 0.3142 - val_loss: 3.5797 - val_city_output_loss: 1.6107 - val_class_output_loss: 1.9690 - val_city_output_accuracy: 0.2728 - val_class_output_accuracy: 0.3046\n",
            "Epoch 20/20\n",
            "617/617 [==============================] - 60s 98ms/step - loss: 3.5989 - city_output_loss: 1.6052 - class_output_loss: 1.9937 - city_output_accuracy: 0.2642 - class_output_accuracy: 0.3155 - val_loss: 3.5778 - val_city_output_loss: 1.5981 - val_class_output_loss: 1.9797 - val_city_output_accuracy: 0.2728 - val_class_output_accuracy: 0.3046\n"
          ]
        },
        {
          "output_type": "execute_result",
          "data": {
            "text/plain": [
              "<keras.callbacks.History at 0x7f280bb8a880>"
            ]
          },
          "metadata": {},
          "execution_count": 22
        }
      ],
      "source": [
        "triple_model.fit({'e128_input': train_128, 'e256_input': train_256, 'e512_input': train_512}, {'city_output': train_city, 'class_output': train_class},\n",
        "                 batch_size=32, epochs=20, shuffle=True,\n",
        "                 validation_data=({'e128_input': test_128, 'e256_input': test_256, 'e512_input': test_512}, {'city_output': test_city, 'class_output': test_class}))"
      ],
      "id": "55e79ff7"
    }
  ],
  "metadata": {
    "accelerator": "GPU",
    "colab": {
      "machine_shape": "hm",
      "provenance": []
    },
    "gpuClass": "standard",
    "kernelspec": {
      "display_name": "tensorflow_env",
      "language": "python",
      "name": "tensorflow_env"
    },
    "language_info": {
      "codemirror_mode": {
        "name": "ipython",
        "version": 3
      },
      "file_extension": ".py",
      "mimetype": "text/x-python",
      "name": "python",
      "nbconvert_exporter": "python",
      "pygments_lexer": "ipython3",
      "version": "3.8.8"
    }
  },
  "nbformat": 4,
  "nbformat_minor": 5
}