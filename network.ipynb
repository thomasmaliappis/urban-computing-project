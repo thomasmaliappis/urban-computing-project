{
  "cells": [
    {
      "cell_type": "markdown",
      "metadata": {
        "id": "dkuM4OJ-VRpO"
      },
      "source": [
        "# Imports"
      ],
      "id": "dkuM4OJ-VRpO"
    },
    {
      "cell_type": "code",
      "execution_count": 1,
      "metadata": {
        "id": "8cfc2c03"
      },
      "outputs": [],
      "source": [
        "import random\n",
        "import pandas as pd\n",
        "import numpy as np\n",
        "import tensorflow as tf\n",
        "\n",
        "from keras.models import Model\n",
        "from keras.layers import Conv2D, MaxPooling2D, Flatten, Dropout, Dense, concatenate, Input, BatchNormalization\n",
        "from tensorflow import keras\n",
        "from sklearn.model_selection import train_test_split"
      ],
      "id": "8cfc2c03"
    },
    {
      "cell_type": "markdown",
      "metadata": {
        "id": "i5kUYRaVVQo4"
      },
      "source": [
        "# Connect drive"
      ],
      "id": "i5kUYRaVVQo4"
    },
    {
      "cell_type": "code",
      "execution_count": 2,
      "metadata": {
        "colab": {
          "base_uri": "https://localhost:8080/"
        },
        "id": "um8ONWeYU9FG",
        "outputId": "67c2fcd6-bb62-43fd-f622-08aa85685e58"
      },
      "outputs": [
        {
          "output_type": "stream",
          "name": "stdout",
          "text": [
            "Mounted at /content/drive/\n"
          ]
        }
      ],
      "source": [
        "from google.colab import drive\n",
        "\n",
        "drive.mount('/content/drive/', force_remount=True)"
      ],
      "id": "um8ONWeYU9FG"
    },
    {
      "cell_type": "markdown",
      "metadata": {
        "id": "VmCK-KRRVXze"
      },
      "source": [
        "# Dataset"
      ],
      "id": "VmCK-KRRVXze"
    },
    {
      "cell_type": "code",
      "execution_count": 3,
      "metadata": {
        "id": "6217fce5"
      },
      "outputs": [],
      "source": [
        "path_images=\"/content/drive/My Drive/uc project/images.npz\"\n",
        "dict_image_data = np.load(path_images)\n",
        "image_data = dict_image_data['arr_0']"
      ],
      "id": "6217fce5"
    },
    {
      "cell_type": "code",
      "execution_count": 4,
      "metadata": {
        "id": "uS4Pd8B8n36z"
      },
      "outputs": [],
      "source": [
        "path_cities=\"/content/drive/My Drive/uc project/cities.npz\"\n",
        "dict_city_data = np.load(path_cities)\n",
        "city_data = dict_city_data['arr_0']\n",
        "\n",
        "path_class=\"/content/drive/My Drive/uc project/classes.npz\"\n",
        "dict_class_data = np.load(path_class)\n",
        "class_data = dict_class_data['arr_0']"
      ],
      "id": "uS4Pd8B8n36z"
    },
    {
      "cell_type": "code",
      "execution_count": 5,
      "metadata": {
        "id": "b26d7e81"
      },
      "outputs": [],
      "source": [
        "# all 512 images resized to 128\n",
        "# data_512 = image_data[:,0][indices]\n",
        "data_512 = image_data[:,0]\n",
        "# all 512 images cropped to 256 images and resized to 128\n",
        "# data_256 = image_data[:,1][indices]\n",
        "data_256 = image_data[:,1]\n",
        "# all 512 images cropped to 128 images\n",
        "# data_128 = image_data[:,2][indices]\n",
        "data_128 = image_data[:,2]"
      ],
      "id": "b26d7e81"
    },
    {
      "cell_type": "code",
      "execution_count": 6,
      "metadata": {
        "colab": {
          "base_uri": "https://localhost:8080/"
        },
        "id": "1d4ea8ab",
        "outputId": "fbc99ef6-e31a-457d-fa99-f8a84ce4a55e"
      },
      "outputs": [
        {
          "output_type": "execute_result",
          "data": {
            "text/plain": [
              "((28195,), (28195, 128, 128, 3), (28195, 128, 128, 3))"
            ]
          },
          "metadata": {},
          "execution_count": 6
        }
      ],
      "source": [
        "city_data.shape, data_512.shape, data_512.shape"
      ],
      "id": "1d4ea8ab"
    },
    {
      "cell_type": "markdown",
      "metadata": {
        "id": "a8e17fa0"
      },
      "source": [
        "Tranforming labels to onehot encoding"
      ],
      "id": "a8e17fa0"
    },
    {
      "cell_type": "code",
      "execution_count": 7,
      "metadata": {
        "id": "397d73e7"
      },
      "outputs": [],
      "source": [
        "from sklearn.preprocessing import LabelBinarizer\n",
        "label_as_binary = LabelBinarizer()\n",
        "\n",
        "city_labels = label_as_binary.fit_transform(city_data)\n",
        "class_labels = label_as_binary.fit_transform(class_data)"
      ],
      "id": "397d73e7"
    },
    {
      "cell_type": "markdown",
      "metadata": {
        "id": "09f1a6b7"
      },
      "source": [
        "Split train and test data\n"
      ],
      "id": "09f1a6b7"
    },
    {
      "cell_type": "code",
      "execution_count": 8,
      "metadata": {
        "id": "71bca9c0"
      },
      "outputs": [],
      "source": [
        "train_512, test_512, train_256, test_256, train_128, test_128, train_city, test_city, train_class, test_class = train_test_split(data_512, data_256, data_128, city_labels, class_labels, test_size=0.2, random_state=42)"
      ],
      "id": "71bca9c0"
    },
    {
      "cell_type": "code",
      "source": [
        "from collections import Counter\n",
        "\n",
        "Counter(np.argmax(train_city, axis=1))"
      ],
      "metadata": {
        "colab": {
          "base_uri": "https://localhost:8080/"
        },
        "id": "5s-bdUoutkwZ",
        "outputId": "e29a7ab2-aca4-4582-a921-37772d445b3d"
      },
      "id": "5s-bdUoutkwZ",
      "execution_count": 9,
      "outputs": [
        {
          "output_type": "execute_result",
          "data": {
            "text/plain": [
              "Counter({0: 4031, 1: 4340, 3: 6313, 2: 3678, 4: 4194})"
            ]
          },
          "metadata": {},
          "execution_count": 9
        }
      ]
    },
    {
      "cell_type": "code",
      "source": [
        "Counter(np.argmax(test_city, axis=1))"
      ],
      "metadata": {
        "colab": {
          "base_uri": "https://localhost:8080/"
        },
        "id": "PWKQm64JuTxv",
        "outputId": "de3713d8-df4a-495f-8f1e-bdfa060c8e76"
      },
      "id": "PWKQm64JuTxv",
      "execution_count": 10,
      "outputs": [
        {
          "output_type": "execute_result",
          "data": {
            "text/plain": [
              "Counter({2: 980, 1: 1126, 0: 991, 3: 1527, 4: 1015})"
            ]
          },
          "metadata": {},
          "execution_count": 10
        }
      ]
    },
    {
      "cell_type": "code",
      "source": [
        "Counter(np.argmax(train_class, axis=1))"
      ],
      "metadata": {
        "colab": {
          "base_uri": "https://localhost:8080/"
        },
        "id": "wqP8dulYuYbo",
        "outputId": "3bd93020-901e-4b9e-d0e8-1c180bb6742d"
      },
      "id": "wqP8dulYuYbo",
      "execution_count": 11,
      "outputs": [
        {
          "output_type": "execute_result",
          "data": {
            "text/plain": [
              "Counter({3: 1446,\n",
              "         9: 909,\n",
              "         0: 6836,\n",
              "         4: 1520,\n",
              "         13: 7428,\n",
              "         11: 1185,\n",
              "         10: 650,\n",
              "         6: 608,\n",
              "         17: 369,\n",
              "         14: 117,\n",
              "         16: 362,\n",
              "         2: 99,\n",
              "         15: 373,\n",
              "         8: 255,\n",
              "         5: 205,\n",
              "         1: 132,\n",
              "         7: 37,\n",
              "         12: 25})"
            ]
          },
          "metadata": {},
          "execution_count": 11
        }
      ]
    },
    {
      "cell_type": "code",
      "source": [
        "Counter(np.argmax(test_class, axis=1))"
      ],
      "metadata": {
        "colab": {
          "base_uri": "https://localhost:8080/"
        },
        "id": "PG721xZIuV2I",
        "outputId": "9729378d-7588-4b23-9278-92536d87582b"
      },
      "id": "PG721xZIuV2I",
      "execution_count": 12,
      "outputs": [
        {
          "output_type": "execute_result",
          "data": {
            "text/plain": [
              "Counter({13: 1870,\n",
              "         11: 338,\n",
              "         4: 391,\n",
              "         10: 171,\n",
              "         9: 225,\n",
              "         2: 28,\n",
              "         0: 1681,\n",
              "         6: 139,\n",
              "         3: 332,\n",
              "         14: 30,\n",
              "         5: 55,\n",
              "         17: 100,\n",
              "         16: 89,\n",
              "         15: 91,\n",
              "         8: 54,\n",
              "         1: 35,\n",
              "         7: 7,\n",
              "         12: 3})"
            ]
          },
          "metadata": {},
          "execution_count": 12
        }
      ]
    },
    {
      "cell_type": "markdown",
      "metadata": {
        "id": "T-4yLz0MTaXC"
      },
      "source": [
        "# Networks"
      ],
      "id": "T-4yLz0MTaXC"
    },
    {
      "cell_type": "code",
      "execution_count": 13,
      "metadata": {
        "id": "fGLOd5UQNjJf"
      },
      "outputs": [],
      "source": [
        "def basic_model(input_name):\n",
        "  # 1\n",
        "  model_input = Input(shape=(128, 128, 3), name=input_name)\n",
        "  conv2d1 = Conv2D(filters=32, kernel_size=(3,3), activation='relu')(model_input)\n",
        "  norm1 = BatchNormalization()(conv2d1)\n",
        "  # 2\n",
        "  pool1 = MaxPooling2D(pool_size=(2,2))(norm1)\n",
        "  norm2 = BatchNormalization()(pool1)\n",
        "  # 1\n",
        "  conv2d2 = Conv2D(filters=32, kernel_size=(3,3), activation='relu')(norm2)\n",
        "  norm3 = BatchNormalization()(conv2d2)\n",
        "  # 2\n",
        "  pool2 = MaxPooling2D(pool_size=(2,2))(norm3)\n",
        "  norm4 = BatchNormalization()(pool2)\n",
        "  # 15\n",
        "  flat = Flatten()(norm4)\n",
        "  dense = Dense(2048, activation='relu')(flat)\n",
        "  model_output = Dropout(0.2)(dense)\n",
        "  return model_input, model_output"
      ],
      "id": "fGLOd5UQNjJf"
    },
    {
      "cell_type": "markdown",
      "metadata": {
        "id": "621d513b"
      },
      "source": [
        "## e128"
      ],
      "id": "621d513b"
    },
    {
      "cell_type": "markdown",
      "metadata": {
        "id": "lHLQo_VVNzku"
      },
      "source": [
        "Get input and initial output layers"
      ],
      "id": "lHLQo_VVNzku"
    },
    {
      "cell_type": "code",
      "execution_count": 14,
      "metadata": {
        "id": "415874dd"
      },
      "outputs": [],
      "source": [
        "basic_input, basic_output = basic_model('main_input')"
      ],
      "id": "415874dd"
    },
    {
      "cell_type": "markdown",
      "metadata": {
        "id": "38e6CCGSN7na"
      },
      "source": [
        "Attach 2 outputs"
      ],
      "id": "38e6CCGSN7na"
    },
    {
      "cell_type": "code",
      "execution_count": 15,
      "metadata": {
        "id": "r-r-f8S0OAb4"
      },
      "outputs": [],
      "source": [
        "#City\n",
        "merged_hidden_city = Dense(2048, activation='relu')(basic_output)\n",
        "merged_drop_city = Dropout(0.2)(merged_hidden_city)\n",
        "city_output = Dense(len(np.unique(city_data)), activation='softmax', name='city_output')(merged_drop_city)\n",
        "\n",
        "#Class\n",
        "merged_hidden_class = Dense(2048, activation='relu')(basic_output)\n",
        "merged_drop_class = Dropout(0.2)(merged_hidden_class)\n",
        "class_output = Dense(len(np.unique(class_data)), activation='softmax', name='class_output')(merged_drop_class)"
      ],
      "id": "r-r-f8S0OAb4"
    },
    {
      "cell_type": "code",
      "execution_count": 16,
      "metadata": {
        "id": "enon5lo6OC-1"
      },
      "outputs": [],
      "source": [
        "e128_model = Model(inputs=basic_input, outputs=[city_output, class_output])\n",
        "# e128_model.compile(optimizer='adam', loss=['categorical_crossentropy', 'categorical_crossentropy'], metrics=['accuracy'])\n",
        "gamma = 0.5\n",
        "e128_model.compile(optimizer='adam',\n",
        "                  loss={'city_output': 'categorical_crossentropy', \n",
        "                        'class_output': 'categorical_crossentropy'},\n",
        "                  loss_weights={'city_output': gamma, \n",
        "                                'class_output': 1 - gamma}, \n",
        "                  metrics=['accuracy'])"
      ],
      "id": "enon5lo6OC-1"
    },
    {
      "cell_type": "code",
      "execution_count": 17,
      "metadata": {
        "colab": {
          "base_uri": "https://localhost:8080/"
        },
        "id": "f0cdac61",
        "outputId": "80600284-7edc-4dbf-ba43-0c6e5b99dc49"
      },
      "outputs": [
        {
          "output_type": "stream",
          "name": "stdout",
          "text": [
            "Epoch 1/15\n",
            "705/705 [==============================] - 27s 34ms/step - loss: 1.7905 - city_output_loss: 1.3181 - class_output_loss: 2.2630 - city_output_accuracy: 0.6617 - class_output_accuracy: 0.4095 - val_loss: 1.4423 - val_city_output_loss: 0.9610 - val_class_output_loss: 1.9236 - val_city_output_accuracy: 0.5795 - val_class_output_accuracy: 0.4176\n",
            "Epoch 2/15\n",
            "705/705 [==============================] - 23s 33ms/step - loss: 1.0863 - city_output_loss: 0.6144 - class_output_loss: 1.5581 - city_output_accuracy: 0.7793 - class_output_accuracy: 0.4699 - val_loss: 2.3566 - val_city_output_loss: 2.6016 - val_class_output_loss: 2.1115 - val_city_output_accuracy: 0.4412 - val_class_output_accuracy: 0.3295\n",
            "Epoch 3/15\n",
            "705/705 [==============================] - 23s 33ms/step - loss: 0.9336 - city_output_loss: 0.5059 - class_output_loss: 1.3614 - city_output_accuracy: 0.8267 - class_output_accuracy: 0.5329 - val_loss: 2.4115 - val_city_output_loss: 2.7089 - val_class_output_loss: 2.1142 - val_city_output_accuracy: 0.4563 - val_class_output_accuracy: 0.3855\n",
            "Epoch 4/15\n",
            "705/705 [==============================] - 23s 33ms/step - loss: 0.7399 - city_output_loss: 0.3953 - class_output_loss: 1.0845 - city_output_accuracy: 0.8657 - class_output_accuracy: 0.6276 - val_loss: 1.3722 - val_city_output_loss: 0.8581 - val_class_output_loss: 1.8862 - val_city_output_accuracy: 0.7097 - val_class_output_accuracy: 0.4084\n",
            "Epoch 5/15\n",
            "705/705 [==============================] - 23s 33ms/step - loss: 0.5517 - city_output_loss: 0.3074 - class_output_loss: 0.7960 - city_output_accuracy: 0.8964 - class_output_accuracy: 0.7320 - val_loss: 1.8408 - val_city_output_loss: 1.3749 - val_class_output_loss: 2.3068 - val_city_output_accuracy: 0.6345 - val_class_output_accuracy: 0.3724\n",
            "Epoch 6/15\n",
            "705/705 [==============================] - 23s 33ms/step - loss: 0.4315 - city_output_loss: 0.2636 - class_output_loss: 0.5993 - city_output_accuracy: 0.9144 - class_output_accuracy: 0.8052 - val_loss: 1.8989 - val_city_output_loss: 1.0449 - val_class_output_loss: 2.7528 - val_city_output_accuracy: 0.6629 - val_class_output_accuracy: 0.3953\n",
            "Epoch 7/15\n",
            "705/705 [==============================] - 23s 33ms/step - loss: 0.3448 - city_output_loss: 0.2224 - class_output_loss: 0.4673 - city_output_accuracy: 0.9295 - class_output_accuracy: 0.8527 - val_loss: 2.4086 - val_city_output_loss: 1.9541 - val_class_output_loss: 2.8631 - val_city_output_accuracy: 0.6001 - val_class_output_accuracy: 0.3852\n",
            "Epoch 8/15\n",
            "705/705 [==============================] - 23s 33ms/step - loss: 0.3097 - city_output_loss: 0.2169 - class_output_loss: 0.4026 - city_output_accuracy: 0.9331 - class_output_accuracy: 0.8793 - val_loss: 1.9697 - val_city_output_loss: 1.3829 - val_class_output_loss: 2.5565 - val_city_output_accuracy: 0.6320 - val_class_output_accuracy: 0.3690\n",
            "Epoch 9/15\n",
            "705/705 [==============================] - 23s 33ms/step - loss: 0.2499 - city_output_loss: 0.1728 - class_output_loss: 0.3271 - city_output_accuracy: 0.9479 - class_output_accuracy: 0.8993 - val_loss: 2.9373 - val_city_output_loss: 1.8792 - val_class_output_loss: 3.9953 - val_city_output_accuracy: 0.5194 - val_class_output_accuracy: 0.3203\n",
            "Epoch 10/15\n",
            "705/705 [==============================] - 23s 33ms/step - loss: 0.2163 - city_output_loss: 0.1592 - class_output_loss: 0.2734 - city_output_accuracy: 0.9528 - class_output_accuracy: 0.9183 - val_loss: 2.9119 - val_city_output_loss: 2.2776 - val_class_output_loss: 3.5462 - val_city_output_accuracy: 0.5898 - val_class_output_accuracy: 0.3987\n",
            "Epoch 11/15\n",
            "705/705 [==============================] - 23s 33ms/step - loss: 0.2141 - city_output_loss: 0.1562 - class_output_loss: 0.2721 - city_output_accuracy: 0.9532 - class_output_accuracy: 0.9211 - val_loss: 3.7717 - val_city_output_loss: 2.6623 - val_class_output_loss: 4.8811 - val_city_output_accuracy: 0.5561 - val_class_output_accuracy: 0.3462\n",
            "Epoch 12/15\n",
            "705/705 [==============================] - 23s 33ms/step - loss: 0.1753 - city_output_loss: 0.1364 - class_output_loss: 0.2142 - city_output_accuracy: 0.9603 - class_output_accuracy: 0.9401 - val_loss: 2.7878 - val_city_output_loss: 1.7863 - val_class_output_loss: 3.7894 - val_city_output_accuracy: 0.6852 - val_class_output_accuracy: 0.4070\n",
            "Epoch 13/15\n",
            "705/705 [==============================] - 23s 33ms/step - loss: 0.1608 - city_output_loss: 0.1250 - class_output_loss: 0.1966 - city_output_accuracy: 0.9629 - class_output_accuracy: 0.9415 - val_loss: 1.8816 - val_city_output_loss: 0.9940 - val_class_output_loss: 2.7692 - val_city_output_accuracy: 0.7095 - val_class_output_accuracy: 0.3908\n",
            "Epoch 14/15\n",
            "705/705 [==============================] - 23s 33ms/step - loss: 0.1311 - city_output_loss: 0.0979 - class_output_loss: 0.1643 - city_output_accuracy: 0.9683 - class_output_accuracy: 0.9511 - val_loss: 2.5913 - val_city_output_loss: 1.3788 - val_class_output_loss: 3.8038 - val_city_output_accuracy: 0.7063 - val_class_output_accuracy: 0.3990\n",
            "Epoch 15/15\n",
            "705/705 [==============================] - 23s 33ms/step - loss: 0.1422 - city_output_loss: 0.1142 - class_output_loss: 0.1702 - city_output_accuracy: 0.9667 - class_output_accuracy: 0.9505 - val_loss: 2.6205 - val_city_output_loss: 1.7263 - val_class_output_loss: 3.5146 - val_city_output_accuracy: 0.7015 - val_class_output_accuracy: 0.3637\n"
          ]
        }
      ],
      "source": [
        "e128_history = e128_model.fit(train_128, {'city_output': train_city, 'class_output': train_class},\n",
        "                              # batch_size=20,\n",
        "                              epochs=15,\n",
        "                              shuffle=True,\n",
        "                              validation_data=(test_128, {'city_output': test_city, 'class_output': test_class})\n",
        "                 )"
      ],
      "id": "f0cdac61"
    },
    {
      "cell_type": "markdown",
      "metadata": {
        "id": "flpI0N8YH9Ea"
      },
      "source": [
        "## e256"
      ],
      "id": "flpI0N8YH9Ea"
    },
    {
      "cell_type": "markdown",
      "metadata": {
        "id": "2swgOChKH9Eb"
      },
      "source": [
        "Get input and initial output layers"
      ],
      "id": "2swgOChKH9Eb"
    },
    {
      "cell_type": "code",
      "execution_count": 18,
      "metadata": {
        "id": "UPerj6mjH9Eb"
      },
      "outputs": [],
      "source": [
        "basic_input, basic_output = basic_model('main_input')"
      ],
      "id": "UPerj6mjH9Eb"
    },
    {
      "cell_type": "markdown",
      "metadata": {
        "id": "Dp9bkREDH9Eb"
      },
      "source": [
        "Attach 2 outputs"
      ],
      "id": "Dp9bkREDH9Eb"
    },
    {
      "cell_type": "code",
      "execution_count": 19,
      "metadata": {
        "id": "f7FY9NMRH9Eb"
      },
      "outputs": [],
      "source": [
        "#City\n",
        "merged_hidden_city = Dense(2048, activation='relu')(basic_output)\n",
        "merged_drop_city = Dropout(0.2)(merged_hidden_city)\n",
        "city_output = Dense(len(np.unique(city_data)), activation='softmax', name='city_output')(merged_drop_city)\n",
        "\n",
        "#Class\n",
        "merged_hidden_class = Dense(2048, activation='relu')(basic_output)\n",
        "merged_drop_class = Dropout(0.2)(merged_hidden_class)\n",
        "class_output = Dense(len(np.unique(class_data)), activation='softmax', name='class_output')(merged_drop_class)"
      ],
      "id": "f7FY9NMRH9Eb"
    },
    {
      "cell_type": "code",
      "execution_count": 20,
      "metadata": {
        "id": "TIZbgOXaH9Eb"
      },
      "outputs": [],
      "source": [
        "e256_model = Model(inputs=basic_input, outputs=[city_output, class_output])\n",
        "# e256_model.compile(optimizer='adam', loss=['categorical_crossentropy', 'categorical_crossentropy'], metrics=['accuracy'])\n",
        "gamma = 0.5\n",
        "e256_model.compile(optimizer='adam',\n",
        "                  loss={'city_output': 'categorical_crossentropy', \n",
        "                        'class_output': 'categorical_crossentropy'},\n",
        "                  loss_weights={'city_output': gamma, \n",
        "                                'class_output': 1 - gamma}, \n",
        "                  metrics=['accuracy'])"
      ],
      "id": "TIZbgOXaH9Eb"
    },
    {
      "cell_type": "code",
      "execution_count": 21,
      "metadata": {
        "colab": {
          "base_uri": "https://localhost:8080/"
        },
        "id": "mAcESDSKH9Eb",
        "outputId": "7694861b-ee4b-4c95-8b45-afbbfe6e7476"
      },
      "outputs": [
        {
          "output_type": "stream",
          "name": "stdout",
          "text": [
            "Epoch 1/15\n",
            "705/705 [==============================] - 25s 34ms/step - loss: 1.6482 - city_output_loss: 1.1993 - class_output_loss: 2.0971 - city_output_accuracy: 0.7169 - class_output_accuracy: 0.4229 - val_loss: 1.4530 - val_city_output_loss: 1.1509 - val_class_output_loss: 1.7551 - val_city_output_accuracy: 0.6592 - val_class_output_accuracy: 0.4151\n",
            "Epoch 2/15\n",
            "705/705 [==============================] - 23s 33ms/step - loss: 0.9828 - city_output_loss: 0.5002 - class_output_loss: 1.4655 - city_output_accuracy: 0.8290 - class_output_accuracy: 0.4878 - val_loss: 1.3071 - val_city_output_loss: 0.7294 - val_class_output_loss: 1.8848 - val_city_output_accuracy: 0.7732 - val_class_output_accuracy: 0.4056\n",
            "Epoch 3/15\n",
            "705/705 [==============================] - 23s 33ms/step - loss: 0.8128 - city_output_loss: 0.4017 - class_output_loss: 1.2239 - city_output_accuracy: 0.8690 - class_output_accuracy: 0.5765 - val_loss: 3.2982 - val_city_output_loss: 4.4117 - val_class_output_loss: 2.1847 - val_city_output_accuracy: 0.4495 - val_class_output_accuracy: 0.3405\n",
            "Epoch 4/15\n",
            "705/705 [==============================] - 23s 33ms/step - loss: 0.6017 - city_output_loss: 0.3039 - class_output_loss: 0.8996 - city_output_accuracy: 0.9012 - class_output_accuracy: 0.6926 - val_loss: 2.4385 - val_city_output_loss: 2.4647 - val_class_output_loss: 2.4123 - val_city_output_accuracy: 0.4859 - val_class_output_accuracy: 0.4043\n",
            "Epoch 5/15\n",
            "705/705 [==============================] - 23s 33ms/step - loss: 0.4460 - city_output_loss: 0.2436 - class_output_loss: 0.6484 - city_output_accuracy: 0.9220 - class_output_accuracy: 0.7860 - val_loss: 2.1905 - val_city_output_loss: 1.8887 - val_class_output_loss: 2.4923 - val_city_output_accuracy: 0.5687 - val_class_output_accuracy: 0.2977\n",
            "Epoch 6/15\n",
            "705/705 [==============================] - 23s 33ms/step - loss: 0.3532 - city_output_loss: 0.2225 - class_output_loss: 0.4838 - city_output_accuracy: 0.9334 - class_output_accuracy: 0.8467 - val_loss: 4.2781 - val_city_output_loss: 5.7909 - val_class_output_loss: 2.7652 - val_city_output_accuracy: 0.3346 - val_class_output_accuracy: 0.2713\n",
            "Epoch 7/15\n",
            "705/705 [==============================] - 23s 33ms/step - loss: 0.2906 - city_output_loss: 0.1908 - class_output_loss: 0.3904 - city_output_accuracy: 0.9431 - class_output_accuracy: 0.8849 - val_loss: 2.3055 - val_city_output_loss: 1.5301 - val_class_output_loss: 3.0810 - val_city_output_accuracy: 0.6739 - val_class_output_accuracy: 0.3564\n",
            "Epoch 8/15\n",
            "705/705 [==============================] - 23s 33ms/step - loss: 0.2624 - city_output_loss: 0.1867 - class_output_loss: 0.3381 - city_output_accuracy: 0.9496 - class_output_accuracy: 0.9032 - val_loss: 3.3942 - val_city_output_loss: 2.9187 - val_class_output_loss: 3.8696 - val_city_output_accuracy: 0.4777 - val_class_output_accuracy: 0.3167\n",
            "Epoch 9/15\n",
            "705/705 [==============================] - 23s 33ms/step - loss: 0.2337 - city_output_loss: 0.1640 - class_output_loss: 0.3034 - city_output_accuracy: 0.9543 - class_output_accuracy: 0.9147 - val_loss: 3.7076 - val_city_output_loss: 4.4969 - val_class_output_loss: 2.9184 - val_city_output_accuracy: 0.3595 - val_class_output_accuracy: 0.2839\n",
            "Epoch 10/15\n",
            "705/705 [==============================] - 23s 33ms/step - loss: 0.2016 - city_output_loss: 0.1581 - class_output_loss: 0.2451 - city_output_accuracy: 0.9571 - class_output_accuracy: 0.9284 - val_loss: 2.0868 - val_city_output_loss: 1.3986 - val_class_output_loss: 2.7750 - val_city_output_accuracy: 0.5978 - val_class_output_accuracy: 0.3751\n",
            "Epoch 11/15\n",
            "705/705 [==============================] - 23s 33ms/step - loss: 0.1529 - city_output_loss: 0.1060 - class_output_loss: 0.1999 - city_output_accuracy: 0.9706 - class_output_accuracy: 0.9429 - val_loss: 1.8138 - val_city_output_loss: 1.1153 - val_class_output_loss: 2.5124 - val_city_output_accuracy: 0.6673 - val_class_output_accuracy: 0.3806\n",
            "Epoch 12/15\n",
            "705/705 [==============================] - 23s 33ms/step - loss: 0.1431 - city_output_loss: 0.1047 - class_output_loss: 0.1815 - city_output_accuracy: 0.9716 - class_output_accuracy: 0.9505 - val_loss: 2.3901 - val_city_output_loss: 1.9067 - val_class_output_loss: 2.8736 - val_city_output_accuracy: 0.5226 - val_class_output_accuracy: 0.3900\n",
            "Epoch 13/15\n",
            "705/705 [==============================] - 23s 33ms/step - loss: 0.1411 - city_output_loss: 0.1096 - class_output_loss: 0.1727 - city_output_accuracy: 0.9710 - class_output_accuracy: 0.9495 - val_loss: 1.9291 - val_city_output_loss: 1.0777 - val_class_output_loss: 2.7805 - val_city_output_accuracy: 0.6971 - val_class_output_accuracy: 0.3706\n",
            "Epoch 14/15\n",
            "705/705 [==============================] - 23s 33ms/step - loss: 0.1178 - city_output_loss: 0.0880 - class_output_loss: 0.1476 - city_output_accuracy: 0.9748 - class_output_accuracy: 0.9584 - val_loss: 2.7517 - val_city_output_loss: 1.7052 - val_class_output_loss: 3.7983 - val_city_output_accuracy: 0.6494 - val_class_output_accuracy: 0.4120\n",
            "Epoch 15/15\n",
            "705/705 [==============================] - 23s 33ms/step - loss: 0.1083 - city_output_loss: 0.0875 - class_output_loss: 0.1291 - city_output_accuracy: 0.9779 - class_output_accuracy: 0.9645 - val_loss: 3.0411 - val_city_output_loss: 2.1791 - val_class_output_loss: 3.9032 - val_city_output_accuracy: 0.6334 - val_class_output_accuracy: 0.3295\n"
          ]
        }
      ],
      "source": [
        "e256_history = e256_model.fit(train_256, {'city_output': train_city, 'class_output': train_class},\n",
        "                              # batch_size=20,\n",
        "                              epochs=15,\n",
        "                              shuffle=True,\n",
        "                              validation_data=(test_256, {'city_output': test_city, 'class_output': test_class})\n",
        "                 )"
      ],
      "id": "mAcESDSKH9Eb"
    },
    {
      "cell_type": "markdown",
      "metadata": {
        "id": "OqSLXTCHIAeA"
      },
      "source": [
        "## e512"
      ],
      "id": "OqSLXTCHIAeA"
    },
    {
      "cell_type": "markdown",
      "metadata": {
        "id": "dAEH1fFbIAeA"
      },
      "source": [
        "Get input and initial output layers"
      ],
      "id": "dAEH1fFbIAeA"
    },
    {
      "cell_type": "code",
      "execution_count": 22,
      "metadata": {
        "id": "ZYqHXybFIAeA"
      },
      "outputs": [],
      "source": [
        "basic_input, basic_output = basic_model('main_input')"
      ],
      "id": "ZYqHXybFIAeA"
    },
    {
      "cell_type": "markdown",
      "metadata": {
        "id": "MNAGaequIAeA"
      },
      "source": [
        "Attach 2 outputs"
      ],
      "id": "MNAGaequIAeA"
    },
    {
      "cell_type": "code",
      "execution_count": 23,
      "metadata": {
        "id": "l9UINvtVIAeA"
      },
      "outputs": [],
      "source": [
        "#City\n",
        "merged_hidden_city = Dense(2048, activation='relu')(basic_output)\n",
        "merged_drop_city = Dropout(0.2)(merged_hidden_city)\n",
        "city_output = Dense(len(np.unique(city_data)), activation='softmax', name='city_output')(merged_drop_city)\n",
        "\n",
        "#Class\n",
        "merged_hidden_class = Dense(2048, activation='relu')(basic_output)\n",
        "merged_drop_class = Dropout(0.2)(merged_hidden_class)\n",
        "class_output = Dense(len(np.unique(class_data)), activation='softmax', name='class_output')(merged_drop_class)"
      ],
      "id": "l9UINvtVIAeA"
    },
    {
      "cell_type": "code",
      "execution_count": 24,
      "metadata": {
        "id": "yu4k1CVGIAeA"
      },
      "outputs": [],
      "source": [
        "e512_model = Model(inputs=basic_input, outputs=[city_output, class_output])\n",
        "# e512_model.compile(optimizer='adam', loss=['categorical_crossentropy', 'categorical_crossentropy'], metrics=['accuracy'])\n",
        "gamma = 0.5\n",
        "e512_model.compile(optimizer='adam',\n",
        "                  loss={'city_output': 'categorical_crossentropy', \n",
        "                        'class_output': 'categorical_crossentropy'},\n",
        "                  loss_weights={'city_output': gamma, \n",
        "                                'class_output': 1 - gamma}, \n",
        "                  metrics=['accuracy'])"
      ],
      "id": "yu4k1CVGIAeA"
    },
    {
      "cell_type": "code",
      "execution_count": 25,
      "metadata": {
        "colab": {
          "base_uri": "https://localhost:8080/"
        },
        "id": "YlawmB9_IAeA",
        "outputId": "93c45e89-45c0-4bf0-ba70-3343f7606178"
      },
      "outputs": [
        {
          "output_type": "stream",
          "name": "stdout",
          "text": [
            "Epoch 1/15\n",
            "705/705 [==============================] - 25s 34ms/step - loss: 1.6014 - city_output_loss: 1.1319 - class_output_loss: 2.0709 - city_output_accuracy: 0.7584 - class_output_accuracy: 0.4396 - val_loss: 1.4551 - val_city_output_loss: 1.2468 - val_class_output_loss: 1.6635 - val_city_output_accuracy: 0.6937 - val_class_output_accuracy: 0.4361\n",
            "Epoch 2/15\n",
            "705/705 [==============================] - 24s 34ms/step - loss: 0.8768 - city_output_loss: 0.3706 - class_output_loss: 1.3829 - city_output_accuracy: 0.8766 - class_output_accuracy: 0.5137 - val_loss: 1.8324 - val_city_output_loss: 1.7034 - val_class_output_loss: 1.9613 - val_city_output_accuracy: 0.5575 - val_class_output_accuracy: 0.3435\n",
            "Epoch 3/15\n",
            "705/705 [==============================] - 23s 33ms/step - loss: 0.7428 - city_output_loss: 0.3216 - class_output_loss: 1.1639 - city_output_accuracy: 0.8991 - class_output_accuracy: 0.5912 - val_loss: 3.3172 - val_city_output_loss: 3.3281 - val_class_output_loss: 3.3062 - val_city_output_accuracy: 0.4879 - val_class_output_accuracy: 0.3577\n",
            "Epoch 4/15\n",
            "705/705 [==============================] - 23s 33ms/step - loss: 0.5657 - city_output_loss: 0.2574 - class_output_loss: 0.8741 - city_output_accuracy: 0.9238 - class_output_accuracy: 0.7007 - val_loss: 1.9979 - val_city_output_loss: 1.5250 - val_class_output_loss: 2.4708 - val_city_output_accuracy: 0.6569 - val_class_output_accuracy: 0.3171\n",
            "Epoch 5/15\n",
            "705/705 [==============================] - 23s 33ms/step - loss: 0.4007 - city_output_loss: 0.1886 - class_output_loss: 0.6129 - city_output_accuracy: 0.9433 - class_output_accuracy: 0.7995 - val_loss: 1.8540 - val_city_output_loss: 0.9802 - val_class_output_loss: 2.7278 - val_city_output_accuracy: 0.7524 - val_class_output_accuracy: 0.3770\n",
            "Epoch 6/15\n",
            "705/705 [==============================] - 23s 33ms/step - loss: 0.3396 - city_output_loss: 0.1930 - class_output_loss: 0.4862 - city_output_accuracy: 0.9467 - class_output_accuracy: 0.8486 - val_loss: 2.3290 - val_city_output_loss: 1.9058 - val_class_output_loss: 2.7522 - val_city_output_accuracy: 0.7102 - val_class_output_accuracy: 0.4192\n",
            "Epoch 7/15\n",
            "705/705 [==============================] - 23s 33ms/step - loss: 0.2636 - city_output_loss: 0.1596 - class_output_loss: 0.3675 - city_output_accuracy: 0.9554 - class_output_accuracy: 0.8889 - val_loss: 2.4456 - val_city_output_loss: 0.7722 - val_class_output_loss: 4.1191 - val_city_output_accuracy: 0.7684 - val_class_output_accuracy: 0.3729\n",
            "Epoch 8/15\n",
            "705/705 [==============================] - 23s 33ms/step - loss: 0.2383 - city_output_loss: 0.1539 - class_output_loss: 0.3226 - city_output_accuracy: 0.9607 - class_output_accuracy: 0.9092 - val_loss: 2.6958 - val_city_output_loss: 1.5859 - val_class_output_loss: 3.8057 - val_city_output_accuracy: 0.5544 - val_class_output_accuracy: 0.1672\n",
            "Epoch 9/15\n",
            "705/705 [==============================] - 23s 33ms/step - loss: 0.1980 - city_output_loss: 0.1409 - class_output_loss: 0.2550 - city_output_accuracy: 0.9664 - class_output_accuracy: 0.9312 - val_loss: 4.1919 - val_city_output_loss: 4.9728 - val_class_output_loss: 3.4111 - val_city_output_accuracy: 0.5536 - val_class_output_accuracy: 0.4137\n",
            "Epoch 10/15\n",
            "705/705 [==============================] - 23s 33ms/step - loss: 0.1703 - city_output_loss: 0.1237 - class_output_loss: 0.2168 - city_output_accuracy: 0.9703 - class_output_accuracy: 0.9422 - val_loss: 2.4259 - val_city_output_loss: 1.2842 - val_class_output_loss: 3.5677 - val_city_output_accuracy: 0.7413 - val_class_output_accuracy: 0.4072\n",
            "Epoch 11/15\n",
            "705/705 [==============================] - 23s 33ms/step - loss: 0.1390 - city_output_loss: 0.0966 - class_output_loss: 0.1814 - city_output_accuracy: 0.9773 - class_output_accuracy: 0.9519 - val_loss: 2.2635 - val_city_output_loss: 1.4731 - val_class_output_loss: 3.0539 - val_city_output_accuracy: 0.7138 - val_class_output_accuracy: 0.4279\n",
            "Epoch 12/15\n",
            "705/705 [==============================] - 23s 33ms/step - loss: 0.1331 - city_output_loss: 0.0902 - class_output_loss: 0.1761 - city_output_accuracy: 0.9789 - class_output_accuracy: 0.9566 - val_loss: 2.7257 - val_city_output_loss: 2.6151 - val_class_output_loss: 2.8363 - val_city_output_accuracy: 0.5950 - val_class_output_accuracy: 0.4045\n",
            "Epoch 13/15\n",
            "705/705 [==============================] - 23s 33ms/step - loss: 0.1394 - city_output_loss: 0.1076 - class_output_loss: 0.1712 - city_output_accuracy: 0.9752 - class_output_accuracy: 0.9572 - val_loss: 2.6416 - val_city_output_loss: 1.1284 - val_class_output_loss: 4.1548 - val_city_output_accuracy: 0.7228 - val_class_output_accuracy: 0.3791\n",
            "Epoch 14/15\n",
            "705/705 [==============================] - 23s 33ms/step - loss: 0.1067 - city_output_loss: 0.0801 - class_output_loss: 0.1333 - city_output_accuracy: 0.9796 - class_output_accuracy: 0.9656 - val_loss: 4.0679 - val_city_output_loss: 3.8165 - val_class_output_loss: 4.3193 - val_city_output_accuracy: 0.6290 - val_class_output_accuracy: 0.3272\n",
            "Epoch 15/15\n",
            "705/705 [==============================] - 23s 33ms/step - loss: 0.0954 - city_output_loss: 0.0657 - class_output_loss: 0.1251 - city_output_accuracy: 0.9828 - class_output_accuracy: 0.9678 - val_loss: 3.1139 - val_city_output_loss: 2.3790 - val_class_output_loss: 3.8488 - val_city_output_accuracy: 0.6746 - val_class_output_accuracy: 0.4022\n"
          ]
        }
      ],
      "source": [
        "e512_history = e512_model.fit(train_512, {'city_output': train_city, 'class_output': train_class},\n",
        "                              # batch_size=20,\n",
        "                              epochs=15,\n",
        "                              shuffle=True,\n",
        "                              validation_data=(test_512, {'city_output': test_city, 'class_output': test_class})\n",
        "                 )"
      ],
      "id": "YlawmB9_IAeA"
    },
    {
      "cell_type": "markdown",
      "metadata": {
        "id": "99e85913"
      },
      "source": [
        "## final\n",
        "\n",
        "Three inputs\n",
        "  1. e128\n",
        "  1. e256\n",
        "  1. e512\n",
        "\n",
        "Two outputs\n",
        "  1. city\n",
        "  1. class"
      ],
      "id": "99e85913"
    },
    {
      "cell_type": "markdown",
      "metadata": {
        "id": "OJyJFUdaUY5C"
      },
      "source": [
        "Create the three basic input models"
      ],
      "id": "OJyJFUdaUY5C"
    },
    {
      "cell_type": "code",
      "execution_count": 26,
      "metadata": {
        "id": "1543b142"
      },
      "outputs": [],
      "source": [
        "e128_input, e128_output = basic_model('e128_input')\n",
        "e256_input, e256_output = basic_model('e256_input')\n",
        "e512_input, e512_output = basic_model('e512_input')"
      ],
      "id": "1543b142"
    },
    {
      "cell_type": "markdown",
      "metadata": {
        "id": "5076bea0"
      },
      "source": [
        "Concatenating outputs of three models"
      ],
      "id": "5076bea0"
    },
    {
      "cell_type": "code",
      "execution_count": 27,
      "metadata": {
        "id": "87aff582"
      },
      "outputs": [],
      "source": [
        "merged = concatenate([e128_output, e256_output, e512_output])"
      ],
      "id": "87aff582"
    },
    {
      "cell_type": "markdown",
      "metadata": {
        "id": "qnv3hCXuUjd_"
      },
      "source": [
        "Defining the outputs"
      ],
      "id": "qnv3hCXuUjd_"
    },
    {
      "cell_type": "code",
      "execution_count": 28,
      "metadata": {
        "id": "89974d5f"
      },
      "outputs": [],
      "source": [
        "#City\n",
        "merged_hidden_city = Dense(2048, activation='relu')(merged)\n",
        "merged_drop_city = Dropout(0.2)(merged_hidden_city)\n",
        "city_output = Dense(len(np.unique(city_data)), activation='softmax', name='city_output')(merged_drop_city)\n",
        "\n",
        "#Class\n",
        "merged_hidden_class = Dense(2048, activation='relu')(merged)\n",
        "merged_drop_class = Dropout(0.2)(merged_hidden_class)\n",
        "class_output = Dense(len(np.unique(class_data)), activation='softmax', name='class_output')(merged_drop_class)"
      ],
      "id": "89974d5f"
    },
    {
      "cell_type": "code",
      "execution_count": 29,
      "metadata": {
        "id": "4c57546c"
      },
      "outputs": [],
      "source": [
        "final_model = Model(inputs=[e128_input, e256_input, e512_input], outputs=[city_output, class_output])\n",
        "# final_model.compile(optimizer='adam', loss=['categorical_crossentropy', 'categorical_crossentropy'], metrics=['accuracy'])\n",
        "gamma = 0.5\n",
        "final_model.compile(optimizer='adam',\n",
        "                  loss={'city_output': 'categorical_crossentropy', \n",
        "                        'class_output': 'categorical_crossentropy'},\n",
        "                  loss_weights={'city_output': gamma, \n",
        "                                'class_output': 1 - gamma}, \n",
        "                  metrics=['accuracy'])"
      ],
      "id": "4c57546c"
    },
    {
      "cell_type": "markdown",
      "metadata": {
        "id": "YKc8aaqyUqqQ"
      },
      "source": [
        "Training model"
      ],
      "id": "YKc8aaqyUqqQ"
    },
    {
      "cell_type": "code",
      "execution_count": 30,
      "metadata": {
        "colab": {
          "base_uri": "https://localhost:8080/"
        },
        "id": "55e79ff7",
        "outputId": "61816f25-09ff-4cb1-fa16-eaaff48c53b5"
      },
      "outputs": [
        {
          "output_type": "stream",
          "name": "stdout",
          "text": [
            "Epoch 1/15\n",
            "705/705 [==============================] - 69s 95ms/step - loss: 1.9914 - city_output_loss: 1.4912 - class_output_loss: 2.4916 - city_output_accuracy: 0.7353 - class_output_accuracy: 0.4077 - val_loss: 1.1910 - val_city_output_loss: 0.7310 - val_class_output_loss: 1.6510 - val_city_output_accuracy: 0.7615 - val_class_output_accuracy: 0.4430\n",
            "Epoch 2/15\n",
            "705/705 [==============================] - 66s 93ms/step - loss: 1.0193 - city_output_loss: 0.4564 - class_output_loss: 1.5821 - city_output_accuracy: 0.8443 - class_output_accuracy: 0.4582 - val_loss: 1.2921 - val_city_output_loss: 0.8267 - val_class_output_loss: 1.7575 - val_city_output_accuracy: 0.7166 - val_class_output_accuracy: 0.4300\n",
            "Epoch 3/15\n",
            "705/705 [==============================] - 66s 93ms/step - loss: 0.9180 - city_output_loss: 0.3649 - class_output_loss: 1.4711 - city_output_accuracy: 0.8811 - class_output_accuracy: 0.4854 - val_loss: 1.2973 - val_city_output_loss: 0.8341 - val_class_output_loss: 1.7605 - val_city_output_accuracy: 0.6670 - val_class_output_accuracy: 0.4316\n",
            "Epoch 4/15\n",
            "705/705 [==============================] - 65s 93ms/step - loss: 0.8104 - city_output_loss: 0.2907 - class_output_loss: 1.3300 - city_output_accuracy: 0.9099 - class_output_accuracy: 0.5301 - val_loss: 1.1809 - val_city_output_loss: 0.6039 - val_class_output_loss: 1.7580 - val_city_output_accuracy: 0.8014 - val_class_output_accuracy: 0.4341\n",
            "Epoch 5/15\n",
            "705/705 [==============================] - 65s 93ms/step - loss: 0.7471 - city_output_loss: 0.2725 - class_output_loss: 1.2217 - city_output_accuracy: 0.9202 - class_output_accuracy: 0.5686 - val_loss: 1.3998 - val_city_output_loss: 0.8619 - val_class_output_loss: 1.9377 - val_city_output_accuracy: 0.7264 - val_class_output_accuracy: 0.4098\n",
            "Epoch 6/15\n",
            "705/705 [==============================] - 65s 92ms/step - loss: 0.6783 - city_output_loss: 0.2482 - class_output_loss: 1.1085 - city_output_accuracy: 0.9333 - class_output_accuracy: 0.6167 - val_loss: 1.6979 - val_city_output_loss: 1.3413 - val_class_output_loss: 2.0544 - val_city_output_accuracy: 0.7407 - val_class_output_accuracy: 0.4453\n",
            "Epoch 7/15\n",
            "705/705 [==============================] - 65s 92ms/step - loss: 0.5828 - city_output_loss: 0.2119 - class_output_loss: 0.9538 - city_output_accuracy: 0.9446 - class_output_accuracy: 0.6722 - val_loss: 1.7221 - val_city_output_loss: 1.2860 - val_class_output_loss: 2.1582 - val_city_output_accuracy: 0.6808 - val_class_output_accuracy: 0.4033\n",
            "Epoch 8/15\n",
            "705/705 [==============================] - 65s 93ms/step - loss: 0.4815 - city_output_loss: 0.1656 - class_output_loss: 0.7975 - city_output_accuracy: 0.9576 - class_output_accuracy: 0.7279 - val_loss: 1.4899 - val_city_output_loss: 0.9873 - val_class_output_loss: 1.9925 - val_city_output_accuracy: 0.7709 - val_class_output_accuracy: 0.4322\n",
            "Epoch 9/15\n",
            "705/705 [==============================] - 65s 92ms/step - loss: 0.4053 - city_output_loss: 0.1310 - class_output_loss: 0.6795 - city_output_accuracy: 0.9644 - class_output_accuracy: 0.7820 - val_loss: 1.5679 - val_city_output_loss: 1.0715 - val_class_output_loss: 2.0643 - val_city_output_accuracy: 0.7719 - val_class_output_accuracy: 0.4488\n",
            "Epoch 10/15\n",
            "705/705 [==============================] - 65s 93ms/step - loss: 0.3510 - city_output_loss: 0.1097 - class_output_loss: 0.5922 - city_output_accuracy: 0.9723 - class_output_accuracy: 0.8158 - val_loss: 2.1350 - val_city_output_loss: 1.1903 - val_class_output_loss: 3.0797 - val_city_output_accuracy: 0.8104 - val_class_output_accuracy: 0.4130\n",
            "Epoch 11/15\n",
            "705/705 [==============================] - 65s 93ms/step - loss: 0.3316 - city_output_loss: 0.1381 - class_output_loss: 0.5252 - city_output_accuracy: 0.9685 - class_output_accuracy: 0.8442 - val_loss: 2.2850 - val_city_output_loss: 0.8814 - val_class_output_loss: 3.6885 - val_city_output_accuracy: 0.8337 - val_class_output_accuracy: 0.3834\n",
            "Epoch 12/15\n",
            "705/705 [==============================] - 65s 93ms/step - loss: 0.2696 - city_output_loss: 0.1047 - class_output_loss: 0.4345 - city_output_accuracy: 0.9761 - class_output_accuracy: 0.8731 - val_loss: 2.2207 - val_city_output_loss: 1.5468 - val_class_output_loss: 2.8945 - val_city_output_accuracy: 0.7679 - val_class_output_accuracy: 0.4403\n",
            "Epoch 13/15\n",
            "705/705 [==============================] - 65s 93ms/step - loss: 0.2420 - city_output_loss: 0.1133 - class_output_loss: 0.3707 - city_output_accuracy: 0.9752 - class_output_accuracy: 0.8947 - val_loss: 2.7880 - val_city_output_loss: 2.6443 - val_class_output_loss: 2.9317 - val_city_output_accuracy: 0.7420 - val_class_output_accuracy: 0.4575\n",
            "Epoch 14/15\n",
            "705/705 [==============================] - 65s 92ms/step - loss: 0.2123 - city_output_loss: 0.0822 - class_output_loss: 0.3424 - city_output_accuracy: 0.9804 - class_output_accuracy: 0.9045 - val_loss: 2.0504 - val_city_output_loss: 0.9123 - val_class_output_loss: 3.1885 - val_city_output_accuracy: 0.8393 - val_class_output_accuracy: 0.4394\n",
            "Epoch 15/15\n",
            "705/705 [==============================] - 65s 92ms/step - loss: 0.2113 - city_output_loss: 0.0881 - class_output_loss: 0.3344 - city_output_accuracy: 0.9804 - class_output_accuracy: 0.9138 - val_loss: 2.9043 - val_city_output_loss: 1.3623 - val_class_output_loss: 4.4462 - val_city_output_accuracy: 0.8290 - val_class_output_accuracy: 0.4095\n"
          ]
        }
      ],
      "source": [
        "final_history = final_model.fit({'e128_input': train_128, 'e256_input': train_256, 'e512_input': train_512}, {'city_output': train_city, 'class_output': train_class},\n",
        "                                # batch_size=20,\n",
        "                                epochs=15,\n",
        "                                shuffle=True,\n",
        "                                validation_data=({'e128_input': test_128, 'e256_input': test_256, 'e512_input': test_512}, {'city_output': test_city, 'class_output': test_class})\n",
        "                 )\n",
        "                "
      ],
      "id": "55e79ff7"
    },
    {
      "cell_type": "markdown",
      "metadata": {
        "id": "2wjPwZcTEcs4"
      },
      "source": [
        "## Evaluate\n"
      ],
      "id": "2wjPwZcTEcs4"
    },
    {
      "cell_type": "code",
      "execution_count": 31,
      "metadata": {
        "colab": {
          "base_uri": "https://localhost:8080/"
        },
        "id": "Nk6DHHf9J8_g",
        "outputId": "34db1df6-4770-4f54-f65d-eda83137a371"
      },
      "outputs": [
        {
          "output_type": "stream",
          "name": "stdout",
          "text": [
            "177/177 [==============================] - 1s 5ms/step\n",
            "177/177 [==============================] - 1s 5ms/step\n",
            "177/177 [==============================] - 1s 5ms/step\n",
            "177/177 [==============================] - 3s 13ms/step\n"
          ]
        }
      ],
      "source": [
        "y_e128_city_pred, y_e128_class_pred = e128_model.predict(test_128)\n",
        "y_e256_city_pred, y_e256_class_pred = e256_model.predict(test_256)\n",
        "y_e512_city_pred, y_e512_class_pred = e512_model.predict(test_512)\n",
        "y_final_city_pred, y_final_class_pred = final_model.predict({'e128_input': test_128, 'e256_input': test_256, 'e512_input': test_512})"
      ],
      "id": "Nk6DHHf9J8_g"
    },
    {
      "cell_type": "code",
      "execution_count": 32,
      "metadata": {
        "id": "IOhn-wbvUkql"
      },
      "outputs": [],
      "source": [
        "y_e128_city_pred = np.argmax(y_e128_city_pred, axis=1)\n",
        "y_e256_city_pred = np.argmax(y_e256_city_pred, axis=1)\n",
        "y_e512_city_pred = np.argmax(y_e512_city_pred, axis=1)\n",
        "y_final_city_pred = np.argmax(y_final_city_pred, axis=1)\n",
        "\n",
        "y_e128_class_pred = np.argmax(y_e128_class_pred, axis=1)\n",
        "y_e256_class_pred = np.argmax(y_e256_class_pred, axis=1)\n",
        "y_e512_class_pred = np.argmax(y_e512_class_pred, axis=1)\n",
        "y_final_class_pred = np.argmax(y_final_class_pred, axis=1)"
      ],
      "id": "IOhn-wbvUkql"
    },
    {
      "cell_type": "code",
      "execution_count": 33,
      "metadata": {
        "id": "IwgNd7JZEgSh"
      },
      "outputs": [],
      "source": [
        "from sklearn.metrics import confusion_matrix\n",
        "from sklearn.metrics import f1_score\n",
        "\n",
        "city_y = np.argmax(test_city, axis=1)\n",
        "class_y = np.argmax(test_class, axis=1)\n",
        "\n",
        "e128_city_cm = confusion_matrix(y_e128_city_pred, city_y)\n",
        "e256_city_cm = confusion_matrix(y_e256_city_pred, city_y)\n",
        "e512_city_cm = confusion_matrix(y_e512_city_pred, city_y)\n",
        "final_city_cm = confusion_matrix(y_final_city_pred, city_y)\n",
        "\n",
        "e128_class_cm = confusion_matrix(y_e128_class_pred, class_y)\n",
        "e256_class_cm = confusion_matrix(y_e256_class_pred, class_y)\n",
        "e512_class_cm = confusion_matrix(y_e512_class_pred, class_y)\n",
        "final_class_cm = confusion_matrix(y_final_class_pred, class_y)\n",
        "\n",
        "e128_city_f1 = f1_score(y_e128_city_pred, city_y, average='micro')\n",
        "e256_city_f1 = f1_score(y_e256_city_pred, city_y, average='micro')\n",
        "e512_city_f1 = f1_score(y_e512_city_pred, city_y, average='micro')\n",
        "final_city_f1 = f1_score(y_final_city_pred, city_y, average='micro')\n",
        "\n",
        "e128_class_f1 = f1_score(y_e128_class_pred, class_y, average='micro')\n",
        "e256_class_f1 = f1_score(y_e256_class_pred, class_y, average='micro')\n",
        "e512_class_f1 = f1_score(y_e512_class_pred, class_y, average='micro')\n",
        "final_class_f1 = f1_score(y_final_class_pred, class_y, average='micro')"
      ],
      "id": "IwgNd7JZEgSh"
    },
    {
      "cell_type": "code",
      "source": [
        "e128_city_cm"
      ],
      "metadata": {
        "colab": {
          "base_uri": "https://localhost:8080/"
        },
        "id": "BqtUiw_6NyPN",
        "outputId": "51c1f56e-53f6-46d8-c016-e24b3a79f89b"
      },
      "id": "BqtUiw_6NyPN",
      "execution_count": 34,
      "outputs": [
        {
          "output_type": "execute_result",
          "data": {
            "text/plain": [
              "array([[ 754,   28,   61,   99,  289],\n",
              "       [  88, 1026,  170,   82,  108],\n",
              "       [  12,    5,  597,   21,   15],\n",
              "       [ 133,   34,  127, 1265,  289],\n",
              "       [   4,   33,   25,   60,  314]])"
            ]
          },
          "metadata": {},
          "execution_count": 34
        }
      ]
    },
    {
      "cell_type": "code",
      "source": [
        "e256_city_cm"
      ],
      "metadata": {
        "colab": {
          "base_uri": "https://localhost:8080/"
        },
        "id": "xOa-7Y52N2cC",
        "outputId": "f6b4f2ff-5f8d-4c61-8e32-b0bdb06229f0"
      },
      "id": "xOa-7Y52N2cC",
      "execution_count": 35,
      "outputs": [
        {
          "output_type": "execute_result",
          "data": {
            "text/plain": [
              "array([[ 382,    4,    9,   23,   29],\n",
              "       [ 157, 1008,  226,  140,  208],\n",
              "       [   9,   24,  582,  122,   63],\n",
              "       [  66,    9,   42,  931,   46],\n",
              "       [ 377,   81,  121,  311,  669]])"
            ]
          },
          "metadata": {},
          "execution_count": 35
        }
      ]
    },
    {
      "cell_type": "code",
      "source": [
        "e512_city_cm"
      ],
      "metadata": {
        "colab": {
          "base_uri": "https://localhost:8080/"
        },
        "id": "_M1UwuygN5FQ",
        "outputId": "02aa50d0-8836-4f8c-b157-9f026baf8d6f"
      },
      "id": "_M1UwuygN5FQ",
      "execution_count": 36,
      "outputs": [
        {
          "output_type": "execute_result",
          "data": {
            "text/plain": [
              "array([[ 534,   31,   20,    9,   36],\n",
              "       [  54,  771,   27,   15,  190],\n",
              "       [  62,  235,  803,  201,   96],\n",
              "       [ 292,   67,  104, 1247,  244],\n",
              "       [  49,   22,   26,   55,  449]])"
            ]
          },
          "metadata": {},
          "execution_count": 36
        }
      ]
    },
    {
      "cell_type": "code",
      "source": [
        "final_city_cm"
      ],
      "metadata": {
        "colab": {
          "base_uri": "https://localhost:8080/"
        },
        "id": "ah0aCj1OOJld",
        "outputId": "11f06249-395b-4787-c3c7-7edb914a7c53"
      },
      "id": "ah0aCj1OOJld",
      "execution_count": 37,
      "outputs": [
        {
          "output_type": "execute_result",
          "data": {
            "text/plain": [
              "array([[ 759,   12,    7,   19,   33],\n",
              "       [   7,  976,   38,   20,   22],\n",
              "       [   9,   23,  777,   17,    9],\n",
              "       [ 151,    6,   80, 1338,  126],\n",
              "       [  65,  109,   78,  133,  825]])"
            ]
          },
          "metadata": {},
          "execution_count": 37
        }
      ]
    },
    {
      "cell_type": "code",
      "source": [
        "e128_class_cm"
      ],
      "metadata": {
        "colab": {
          "base_uri": "https://localhost:8080/"
        },
        "id": "5jmfhFWFOLuz",
        "outputId": "a5062a8a-caf5-4ca7-943b-ca4e3b92b540"
      },
      "id": "5jmfhFWFOLuz",
      "execution_count": 38,
      "outputs": [
        {
          "output_type": "execute_result",
          "data": {
            "text/plain": [
              "array([[899,  12,   6,  27,  39,  10,  19,   1,  12,  49,  51,  42,   1,\n",
              "        489,   2,  12,  16,  11],\n",
              "       [  8,   4,   0,   0,   1,   0,   0,   0,   0,   0,   1,   2,   0,\n",
              "          8,   1,   1,   1,   2],\n",
              "       [ 34,   2,   2,   3,   6,   1,   0,   0,   0,   0,   3,  16,   0,\n",
              "         36,   0,   5,   2,   1],\n",
              "       [ 57,   5,   3, 131, 102,   6,  26,   0,   1,  11,  24,  53,   0,\n",
              "        229,   5,   4,   8,   3],\n",
              "       [ 33,   1,   2,  35,  52,   5,  17,   1,   0,  13,  13,  26,   0,\n",
              "         87,   1,   3,  10,   2],\n",
              "       [  8,   0,   3,   3,   9,   2,  10,   0,   0,   0,   3,   3,   0,\n",
              "         22,   0,   0,   0,   0],\n",
              "       [  8,   0,   0,   7,   9,   1,   2,   0,   1,   1,   2,   8,   0,\n",
              "         24,   0,   2,   2,   0],\n",
              "       [  2,   0,   0,   0,   1,   0,   0,   0,   0,   0,   0,   0,   0,\n",
              "          4,   0,   0,   0,   0],\n",
              "       [  0,   0,   0,   0,   0,   0,   0,   0,   0,   0,   0,   0,   0,\n",
              "          0,   0,   0,   0,   0],\n",
              "       [  5,   1,   0,   0,   1,   0,   1,   0,   0,  29,   5,   1,   0,\n",
              "         13,   0,   1,   0,   0],\n",
              "       [ 14,   0,   0,   4,  10,   3,   4,   1,   1,  13,  15,   7,   0,\n",
              "         18,   0,   1,   5,   0],\n",
              "       [ 30,   1,   1,  12,  34,   4,   8,   0,   1,   2,   5,  40,   0,\n",
              "         40,   2,   4,   5,   4],\n",
              "       [ 10,   0,   0,   1,   4,   0,   0,   0,   2,   2,   3,   8,   0,\n",
              "         15,   0,   2,   1,   0],\n",
              "       [554,   9,  11, 107, 112,  21,  45,   4,  35, 100,  42, 118,   2,\n",
              "        859,  19,  55,  32,  64],\n",
              "       [  4,   0,   0,   0,   0,   0,   1,   0,   0,   1,   0,   1,   0,\n",
              "          0,   0,   0,   1,   0],\n",
              "       [  1,   0,   0,   0,   0,   0,   0,   0,   0,   0,   0,   0,   0,\n",
              "          3,   0,   0,   0,   0],\n",
              "       [ 11,   0,   0,   2,   9,   2,   6,   0,   1,   0,   2,  13,   0,\n",
              "         13,   0,   0,   6,   3],\n",
              "       [  3,   0,   0,   0,   2,   0,   0,   0,   0,   4,   2,   0,   0,\n",
              "         10,   0,   1,   0,  10]])"
            ]
          },
          "metadata": {},
          "execution_count": 38
        }
      ]
    },
    {
      "cell_type": "code",
      "source": [
        "e256_class_cm"
      ],
      "metadata": {
        "colab": {
          "base_uri": "https://localhost:8080/"
        },
        "id": "PMIoXOawOMub",
        "outputId": "a267081c-0fda-428c-85e0-e5f61497a7eb"
      },
      "id": "PMIoXOawOMub",
      "execution_count": 39,
      "outputs": [
        {
          "output_type": "execute_result",
          "data": {
            "text/plain": [
              "array([[1002,   14,   12,   47,   83,   16,   38,    0,   22,   56,   71,\n",
              "          93,    1,  668,   15,   26,   36,   33],\n",
              "       [   0,    0,    0,    0,    0,    0,    0,    0,    0,    0,    0,\n",
              "           0,    0,    0,    0,    0,    0,    0],\n",
              "       [  19,    1,    1,    3,    7,    3,    5,    0,    1,    0,    3,\n",
              "          11,    0,   22,    0,    1,    1,    1],\n",
              "       [   1,    0,    0,   40,   17,    3,    4,    0,    0,    0,    0,\n",
              "           5,    0,   62,    0,    0,    0,    1],\n",
              "       [  14,    0,    1,   46,   29,    4,    8,    0,    0,    0,    4,\n",
              "          12,    0,   47,    0,    1,    2,    2],\n",
              "       [   0,    0,    0,    0,    2,    0,    0,    0,    0,    0,    0,\n",
              "           0,    0,    0,    0,    0,    0,    0],\n",
              "       [  48,    1,    1,   13,   22,    2,    7,    0,    3,   18,    4,\n",
              "          15,    0,   72,    1,    2,    4,    3],\n",
              "       [   0,    0,    0,    0,    0,    0,    1,    0,    0,    0,    0,\n",
              "           0,    0,    1,    0,    0,    0,    0],\n",
              "       [   2,    0,    0,    2,    0,    0,    0,    0,    0,    0,    0,\n",
              "           5,    0,    4,    0,    2,    0,    0],\n",
              "       [  18,    0,    0,    2,    3,    0,    3,    0,    1,   51,    5,\n",
              "           2,    0,   28,    0,    3,    0,    2],\n",
              "       [   1,    0,    1,    2,    7,    0,    0,    0,    0,    1,    5,\n",
              "          10,    0,    6,    0,    0,    2,    1],\n",
              "       [   3,    1,    0,   15,    8,    1,    4,    0,    0,    0,    1,\n",
              "          20,    0,   15,    1,    1,    2,    0],\n",
              "       [   0,    0,    0,    0,    0,    0,    0,    0,    0,    0,    0,\n",
              "           0,    0,    0,    0,    0,    0,    0],\n",
              "       [ 350,    4,   10,  153,  158,   24,   43,    7,   11,   47,   35,\n",
              "         110,    1,  672,    5,   26,   22,   26],\n",
              "       [   0,    0,    0,    0,    0,    0,    0,    0,    0,    0,    0,\n",
              "           0,    0,    0,    0,    0,    0,    0],\n",
              "       [ 223,   14,    2,    8,   54,    2,   26,    0,   16,   52,   43,\n",
              "          54,    1,  272,    8,   29,   20,   29],\n",
              "       [   0,    0,    0,    1,    0,    0,    0,    0,    0,    0,    0,\n",
              "           0,    0,    0,    0,    0,    0,    0],\n",
              "       [   0,    0,    0,    0,    1,    0,    0,    0,    0,    0,    0,\n",
              "           1,    0,    1,    0,    0,    0,    2]])"
            ]
          },
          "metadata": {},
          "execution_count": 39
        }
      ]
    },
    {
      "cell_type": "code",
      "source": [
        "e512_class_cm"
      ],
      "metadata": {
        "colab": {
          "base_uri": "https://localhost:8080/"
        },
        "id": "E3RdszioONoc",
        "outputId": "8ce7ba29-48f1-42a6-9099-588ff27de9be"
      },
      "id": "E3RdszioONoc",
      "execution_count": 40,
      "outputs": [
        {
          "output_type": "execute_result",
          "data": {
            "text/plain": [
              "array([[ 925,   13,   10,   16,   22,    6,   10,    0,   12,   39,   26,\n",
              "          41,    0,  370,    7,    8,    8,    5],\n",
              "       [   0,    0,    0,    0,    0,    0,    0,    0,    0,    0,    0,\n",
              "           0,    0,    0,    0,    0,    0,    0],\n",
              "       [   1,    0,    0,    0,    0,    0,    0,    0,    0,    0,    0,\n",
              "           2,    0,    3,    0,    0,    0,    0],\n",
              "       [   3,    0,    0,   63,   17,    0,    0,    0,    0,    2,    3,\n",
              "          16,    0,   68,    2,    1,    1,    0],\n",
              "       [  18,    1,    2,   59,   75,    8,   27,    1,    1,    2,   15,\n",
              "          55,    0,   97,    2,    1,   10,    3],\n",
              "       [   4,    0,    0,    4,    4,    0,    1,    0,    0,    0,    0,\n",
              "           1,    0,    7,    0,    0,    0,    0],\n",
              "       [  16,    0,    0,    6,    7,    4,    3,    1,    1,    1,    2,\n",
              "           3,    0,   36,    2,    2,    3,    0],\n",
              "       [   0,    0,    0,    2,    1,    0,    0,    0,    0,    1,    0,\n",
              "           1,    0,    4,    0,    1,    0,    0],\n",
              "       [   0,    0,    0,    0,    0,    0,    0,    0,    0,    0,    0,\n",
              "           0,    0,    0,    1,    0,    0,    0],\n",
              "       [ 106,    2,    1,    3,   18,    1,    5,    0,    5,  107,   35,\n",
              "          18,    0,  110,    1,   13,   12,    7],\n",
              "       [  27,    1,    0,    4,    7,    0,    3,    0,    0,    3,   13,\n",
              "          13,    0,   21,    0,    1,    2,    3],\n",
              "       [   7,    1,    1,    1,    3,    0,    2,    0,    0,    1,    2,\n",
              "           8,    0,   16,    0,    0,    0,    0],\n",
              "       [   0,    0,    0,    0,    0,    0,    0,    0,    0,    0,    0,\n",
              "           0,    0,    0,    0,    0,    0,    0],\n",
              "       [ 487,   17,   14,  161,  212,   33,   80,    3,   32,   63,   61,\n",
              "         134,    3, 1038,    8,   61,   46,   49],\n",
              "       [   0,    0,    0,    0,    0,    0,    0,    0,    0,    0,    0,\n",
              "           0,    0,    0,    0,    0,    0,    0],\n",
              "       [   4,    0,    0,    0,    0,    0,    1,    0,    1,    0,    0,\n",
              "           0,    0,   10,    0,    0,    0,    1],\n",
              "       [  44,    0,    0,   11,   16,    2,    5,    0,    1,    3,    9,\n",
              "          29,    0,   28,    1,    2,    5,    1],\n",
              "       [  39,    0,    0,    2,    9,    1,    2,    2,    1,    3,    5,\n",
              "          17,    0,   62,    6,    1,    2,   31]])"
            ]
          },
          "metadata": {},
          "execution_count": 40
        }
      ]
    },
    {
      "cell_type": "code",
      "source": [
        "final_class_cm"
      ],
      "metadata": {
        "colab": {
          "base_uri": "https://localhost:8080/"
        },
        "id": "BSABeabLOObc",
        "outputId": "b8cd0c52-75ca-473a-a3ad-18cd53c1adc9"
      },
      "id": "BSABeabLOObc",
      "execution_count": 41,
      "outputs": [
        {
          "output_type": "execute_result",
          "data": {
            "text/plain": [
              "array([[1166,   11,   12,    2,   11,    7,   11,    0,   27,   74,   45,\n",
              "          36,    0,  606,    9,   21,   13,   18],\n",
              "       [   0,    1,    0,    0,    0,    0,    0,    0,    0,    0,    0,\n",
              "           0,    0,    0,    0,    0,    0,    0],\n",
              "       [   0,    0,    0,    0,    0,    0,    0,    0,    0,    1,    0,\n",
              "           0,    0,    3,    0,    0,    0,    0],\n",
              "       [  19,    1,    2,  152,   57,    4,   10,    0,    1,    2,    4,\n",
              "          44,    0,  176,    3,    2,    6,    1],\n",
              "       [  53,    2,    3,  104,  216,   27,   81,    3,    2,    2,   34,\n",
              "         143,    0,  228,    1,   13,   36,    3],\n",
              "       [   0,    0,    0,    0,    1,    0,    0,    0,    0,    0,    0,\n",
              "           0,    0,    1,    0,    0,    0,    0],\n",
              "       [   3,    0,    1,    1,    8,    0,    1,    0,    0,    0,    2,\n",
              "           2,    0,   14,    0,    0,    1,    0],\n",
              "       [   0,    0,    0,    0,    0,    0,    0,    0,    0,    0,    0,\n",
              "           0,    0,    0,    0,    0,    0,    0],\n",
              "       [  19,    2,    1,    0,    1,    0,    0,    0,    1,    1,    1,\n",
              "           0,    0,   10,    0,    0,    1,    0],\n",
              "       [  49,    2,    0,    0,    3,    0,    2,    0,    3,   69,   16,\n",
              "           4,    0,   91,    0,    7,    1,   12],\n",
              "       [  11,    0,    0,    0,    1,    0,    0,    0,    1,    1,    8,\n",
              "           1,    0,   10,    0,    1,    0,    0],\n",
              "       [  25,    3,    2,    1,    1,    0,    0,    0,    1,    0,    2,\n",
              "          22,    1,   32,    0,    3,    6,    2],\n",
              "       [   0,    0,    0,    0,    0,    0,    0,    0,    0,    0,    0,\n",
              "           0,    0,    0,    0,    0,    0,    0],\n",
              "       [ 283,   13,    7,   72,   75,   13,   26,    3,   16,   68,   28,\n",
              "          57,    2,  641,   16,   34,   14,   38],\n",
              "       [   1,    0,    0,    0,    0,    0,    0,    0,    0,    1,    0,\n",
              "           0,    0,    1,    0,    0,    0,    1],\n",
              "       [  24,    0,    0,    0,   10,    3,    5,    0,    2,    2,   19,\n",
              "          18,    0,   32,    1,    6,    4,    6],\n",
              "       [  19,    0,    0,    0,    7,    1,    2,    1,    0,    2,   11,\n",
              "          10,    0,   18,    0,    2,    7,    0],\n",
              "       [   9,    0,    0,    0,    0,    0,    1,    0,    0,    2,    1,\n",
              "           1,    0,    7,    0,    2,    0,   19]])"
            ]
          },
          "metadata": {},
          "execution_count": 41
        }
      ]
    },
    {
      "cell_type": "code",
      "source": [
        "print('e128 f1: city: {}, class: {}'.format(e128_city_f1, e128_class_f1))\n",
        "print('e256 f1: city: {}, class: {}'.format(e256_city_f1, e256_class_f1))\n",
        "print('e512 f1: city: {}, class: {}'.format(e512_city_f1, e512_class_f1))\n",
        "print('final f1: city: {}, class: {}'.format(final_city_f1, final_class_f1))"
      ],
      "metadata": {
        "colab": {
          "base_uri": "https://localhost:8080/"
        },
        "id": "jCB1wyrbDkWd",
        "outputId": "2384ee42-d082-42e1-a2fd-955b7d9e0697"
      },
      "id": "jCB1wyrbDkWd",
      "execution_count": 42,
      "outputs": [
        {
          "output_type": "stream",
          "name": "stdout",
          "text": [
            "e128 f1: city: 0.7015428267423302, class: 0.3637169710941656\n",
            "e256 f1: city: 0.6334456463912042, class: 0.3294910445114382\n",
            "e512 f1: city: 0.6745876928533427, class: 0.4021989714488384\n",
            "final f1: city: 0.8290477034935272, class: 0.40946976414257846\n"
          ]
        }
      ]
    }
  ],
  "metadata": {
    "accelerator": "GPU",
    "colab": {
      "collapsed_sections": [
        "dkuM4OJ-VRpO",
        "i5kUYRaVVQo4"
      ],
      "machine_shape": "hm",
      "provenance": [],
      "toc_visible": true
    },
    "gpuClass": "standard",
    "kernelspec": {
      "display_name": "tensorflow_env",
      "language": "python",
      "name": "tensorflow_env"
    },
    "language_info": {
      "codemirror_mode": {
        "name": "ipython",
        "version": 3
      },
      "file_extension": ".py",
      "mimetype": "text/x-python",
      "name": "python",
      "nbconvert_exporter": "python",
      "pygments_lexer": "ipython3",
      "version": "3.8.8"
    }
  },
  "nbformat": 4,
  "nbformat_minor": 5
}